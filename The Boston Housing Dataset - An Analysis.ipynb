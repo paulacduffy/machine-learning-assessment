{
 "cells": [
  {
   "cell_type": "markdown",
   "metadata": {},
   "source": [
    "# Introduction"
   ]
  },
  {
   "cell_type": "markdown",
   "metadata": {},
   "source": [
    "**Aim of the project:**<br> This is an analysis of the Boston Housing Dataset. I will describe the dataset using descriptive statistics, conduct some inferential statistical analysis to determine whether there is a significnat difference in house prices between houses along the Charles river and those that are not, and finally create a neural network using keras to predict the median house price based on other variables in the dataset.\n",
    "\n",
    "**Background - what is the Boston Housing Dataset?:**<br>\n",
    "The Boston Housing Dataset contains US Census data from 1970 on houses in various census tracts of Boston. Each sample corresponds to a unique area. It was originally published by Harrisson & Rubenfeld in 1978, in order to determine whether or not clean air had an impact on house prices in Boston. It is available to import from the skikit-learn library in python. The attributes of the dataset are described as follows:<br><br>\n",
    "Number of Instances: 506 <br>\n",
    "Number of Attributes: 13 numeric/categorical predictive. <br>Median Value (attribute 14) is usually the target.<br><br>\n",
    "<b>Attribute Information (in order):</b><br><br>\n",
    "<b>CRIM</b>     per capita crime rate by town<br>\n",
    "<b>ZN</b>      proportion of residential land zoned for lots over 25,000 sq.ft.<br>\n",
    "<b>INDUS</b>    proportion of non-retail business acres per town<br>\n",
    "<b>CHAS</b>     Charles River dummy variable (= 1 if tract bounds river; 0 otherwise)<br>\n",
    "<b>NOX</b>      nitric oxides concentration (parts per 10 million)<br>\n",
    "<b>RM</b>       average number of rooms per dwelling<br>\n",
    "<b>AGE</b>      proportion of owner-occupied units built prior to 1940<br>\n",
    "<b>DIS</b>      weighted distances to five Boston employment centres<br>\n",
    "<b>RAD</b>      index of accessibility to radial highways<br>\n",
    "<b>TAX</b>      full-value property-tax rate per 10000 <br>\n",
    "<b>PTRATIO</b>  pupil-teacher ratio by town<br>\n",
    "<b>B</b>        1000(Bk - 0.63)^2 where Bk is the proportion of blacks by town<br>\n",
    "<b>LSTAT</b>    percentage lower status of the population<br>\n",
    "<b>MEDV</b>     Median value of owner-occupied homes in $1000's<br>\n"
   ]
  },
  {
   "cell_type": "markdown",
   "metadata": {},
   "source": [
    "## Part 1 - Describe\n",
    "\n",
    "### Preliminary investigations:<br>\n",
    "In this section I will use descriptive statistics and plots of the dataset in order to investigate it. We being by importing the necessary libraries in python, as well as the dataset itself, which is availble directly from scikit-learn."
   ]
  },
  {
   "cell_type": "code",
   "execution_count": 2,
   "metadata": {},
   "outputs": [],
   "source": [
    "#import necessary libraries\n",
    "import numpy as np\n",
    "import pandas as pd\n",
    "import matplotlib.pyplot as plt\n",
    "import seaborn as sns\n",
    "import scipy as sp\n",
    "import scipy.stats as st\n",
    "%matplotlib inline"
   ]
  },
  {
   "cell_type": "code",
   "execution_count": 3,
   "metadata": {},
   "outputs": [],
   "source": [
    "#import Boston House Prices dataset from https://scikit-learn.org/stable/modules/generated/sklearn.datasets.load_boston.html\n",
    "from sklearn.datasets import load_boston"
   ]
  },
  {
   "cell_type": "code",
   "execution_count": 4,
   "metadata": {},
   "outputs": [],
   "source": [
    "#Assign variable 'boston' to the dataset\n",
    "boston = load_boston()"
   ]
  },
  {
   "cell_type": "code",
   "execution_count": 5,
   "metadata": {},
   "outputs": [
    {
     "name": "stdout",
     "output_type": "stream",
     "text": [
      "{'data': array([[6.3200e-03, 1.8000e+01, 2.3100e+00, ..., 1.5300e+01, 3.9690e+02,\n",
      "        4.9800e+00],\n",
      "       [2.7310e-02, 0.0000e+00, 7.0700e+00, ..., 1.7800e+01, 3.9690e+02,\n",
      "        9.1400e+00],\n",
      "       [2.7290e-02, 0.0000e+00, 7.0700e+00, ..., 1.7800e+01, 3.9283e+02,\n",
      "        4.0300e+00],\n",
      "       ...,\n",
      "       [6.0760e-02, 0.0000e+00, 1.1930e+01, ..., 2.1000e+01, 3.9690e+02,\n",
      "        5.6400e+00],\n",
      "       [1.0959e-01, 0.0000e+00, 1.1930e+01, ..., 2.1000e+01, 3.9345e+02,\n",
      "        6.4800e+00],\n",
      "       [4.7410e-02, 0.0000e+00, 1.1930e+01, ..., 2.1000e+01, 3.9690e+02,\n",
      "        7.8800e+00]]), 'target': array([24. , 21.6, 34.7, 33.4, 36.2, 28.7, 22.9, 27.1, 16.5, 18.9, 15. ,\n",
      "       18.9, 21.7, 20.4, 18.2, 19.9, 23.1, 17.5, 20.2, 18.2, 13.6, 19.6,\n",
      "       15.2, 14.5, 15.6, 13.9, 16.6, 14.8, 18.4, 21. , 12.7, 14.5, 13.2,\n",
      "       13.1, 13.5, 18.9, 20. , 21. , 24.7, 30.8, 34.9, 26.6, 25.3, 24.7,\n",
      "       21.2, 19.3, 20. , 16.6, 14.4, 19.4, 19.7, 20.5, 25. , 23.4, 18.9,\n",
      "       35.4, 24.7, 31.6, 23.3, 19.6, 18.7, 16. , 22.2, 25. , 33. , 23.5,\n",
      "       19.4, 22. , 17.4, 20.9, 24.2, 21.7, 22.8, 23.4, 24.1, 21.4, 20. ,\n",
      "       20.8, 21.2, 20.3, 28. , 23.9, 24.8, 22.9, 23.9, 26.6, 22.5, 22.2,\n",
      "       23.6, 28.7, 22.6, 22. , 22.9, 25. , 20.6, 28.4, 21.4, 38.7, 43.8,\n",
      "       33.2, 27.5, 26.5, 18.6, 19.3, 20.1, 19.5, 19.5, 20.4, 19.8, 19.4,\n",
      "       21.7, 22.8, 18.8, 18.7, 18.5, 18.3, 21.2, 19.2, 20.4, 19.3, 22. ,\n",
      "       20.3, 20.5, 17.3, 18.8, 21.4, 15.7, 16.2, 18. , 14.3, 19.2, 19.6,\n",
      "       23. , 18.4, 15.6, 18.1, 17.4, 17.1, 13.3, 17.8, 14. , 14.4, 13.4,\n",
      "       15.6, 11.8, 13.8, 15.6, 14.6, 17.8, 15.4, 21.5, 19.6, 15.3, 19.4,\n",
      "       17. , 15.6, 13.1, 41.3, 24.3, 23.3, 27. , 50. , 50. , 50. , 22.7,\n",
      "       25. , 50. , 23.8, 23.8, 22.3, 17.4, 19.1, 23.1, 23.6, 22.6, 29.4,\n",
      "       23.2, 24.6, 29.9, 37.2, 39.8, 36.2, 37.9, 32.5, 26.4, 29.6, 50. ,\n",
      "       32. , 29.8, 34.9, 37. , 30.5, 36.4, 31.1, 29.1, 50. , 33.3, 30.3,\n",
      "       34.6, 34.9, 32.9, 24.1, 42.3, 48.5, 50. , 22.6, 24.4, 22.5, 24.4,\n",
      "       20. , 21.7, 19.3, 22.4, 28.1, 23.7, 25. , 23.3, 28.7, 21.5, 23. ,\n",
      "       26.7, 21.7, 27.5, 30.1, 44.8, 50. , 37.6, 31.6, 46.7, 31.5, 24.3,\n",
      "       31.7, 41.7, 48.3, 29. , 24. , 25.1, 31.5, 23.7, 23.3, 22. , 20.1,\n",
      "       22.2, 23.7, 17.6, 18.5, 24.3, 20.5, 24.5, 26.2, 24.4, 24.8, 29.6,\n",
      "       42.8, 21.9, 20.9, 44. , 50. , 36. , 30.1, 33.8, 43.1, 48.8, 31. ,\n",
      "       36.5, 22.8, 30.7, 50. , 43.5, 20.7, 21.1, 25.2, 24.4, 35.2, 32.4,\n",
      "       32. , 33.2, 33.1, 29.1, 35.1, 45.4, 35.4, 46. , 50. , 32.2, 22. ,\n",
      "       20.1, 23.2, 22.3, 24.8, 28.5, 37.3, 27.9, 23.9, 21.7, 28.6, 27.1,\n",
      "       20.3, 22.5, 29. , 24.8, 22. , 26.4, 33.1, 36.1, 28.4, 33.4, 28.2,\n",
      "       22.8, 20.3, 16.1, 22.1, 19.4, 21.6, 23.8, 16.2, 17.8, 19.8, 23.1,\n",
      "       21. , 23.8, 23.1, 20.4, 18.5, 25. , 24.6, 23. , 22.2, 19.3, 22.6,\n",
      "       19.8, 17.1, 19.4, 22.2, 20.7, 21.1, 19.5, 18.5, 20.6, 19. , 18.7,\n",
      "       32.7, 16.5, 23.9, 31.2, 17.5, 17.2, 23.1, 24.5, 26.6, 22.9, 24.1,\n",
      "       18.6, 30.1, 18.2, 20.6, 17.8, 21.7, 22.7, 22.6, 25. , 19.9, 20.8,\n",
      "       16.8, 21.9, 27.5, 21.9, 23.1, 50. , 50. , 50. , 50. , 50. , 13.8,\n",
      "       13.8, 15. , 13.9, 13.3, 13.1, 10.2, 10.4, 10.9, 11.3, 12.3,  8.8,\n",
      "        7.2, 10.5,  7.4, 10.2, 11.5, 15.1, 23.2,  9.7, 13.8, 12.7, 13.1,\n",
      "       12.5,  8.5,  5. ,  6.3,  5.6,  7.2, 12.1,  8.3,  8.5,  5. , 11.9,\n",
      "       27.9, 17.2, 27.5, 15. , 17.2, 17.9, 16.3,  7. ,  7.2,  7.5, 10.4,\n",
      "        8.8,  8.4, 16.7, 14.2, 20.8, 13.4, 11.7,  8.3, 10.2, 10.9, 11. ,\n",
      "        9.5, 14.5, 14.1, 16.1, 14.3, 11.7, 13.4,  9.6,  8.7,  8.4, 12.8,\n",
      "       10.5, 17.1, 18.4, 15.4, 10.8, 11.8, 14.9, 12.6, 14.1, 13. , 13.4,\n",
      "       15.2, 16.1, 17.8, 14.9, 14.1, 12.7, 13.5, 14.9, 20. , 16.4, 17.7,\n",
      "       19.5, 20.2, 21.4, 19.9, 19. , 19.1, 19.1, 20.1, 19.9, 19.6, 23.2,\n",
      "       29.8, 13.8, 13.3, 16.7, 12. , 14.6, 21.4, 23. , 23.7, 25. , 21.8,\n",
      "       20.6, 21.2, 19.1, 20.6, 15.2,  7. ,  8.1, 13.6, 20.1, 21.8, 24.5,\n",
      "       23.1, 19.7, 18.3, 21.2, 17.5, 16.8, 22.4, 20.6, 23.9, 22. , 11.9]), 'feature_names': array(['CRIM', 'ZN', 'INDUS', 'CHAS', 'NOX', 'RM', 'AGE', 'DIS', 'RAD',\n",
      "       'TAX', 'PTRATIO', 'B', 'LSTAT'], dtype='<U7'), 'DESCR': \".. _boston_dataset:\\n\\nBoston house prices dataset\\n---------------------------\\n\\n**Data Set Characteristics:**  \\n\\n    :Number of Instances: 506 \\n\\n    :Number of Attributes: 13 numeric/categorical predictive. Median Value (attribute 14) is usually the target.\\n\\n    :Attribute Information (in order):\\n        - CRIM     per capita crime rate by town\\n        - ZN       proportion of residential land zoned for lots over 25,000 sq.ft.\\n        - INDUS    proportion of non-retail business acres per town\\n        - CHAS     Charles River dummy variable (= 1 if tract bounds river; 0 otherwise)\\n        - NOX      nitric oxides concentration (parts per 10 million)\\n        - RM       average number of rooms per dwelling\\n        - AGE      proportion of owner-occupied units built prior to 1940\\n        - DIS      weighted distances to five Boston employment centres\\n        - RAD      index of accessibility to radial highways\\n        - TAX      full-value property-tax rate per $10,000\\n        - PTRATIO  pupil-teacher ratio by town\\n        - B        1000(Bk - 0.63)^2 where Bk is the proportion of blacks by town\\n        - LSTAT    % lower status of the population\\n        - MEDV     Median value of owner-occupied homes in $1000's\\n\\n    :Missing Attribute Values: None\\n\\n    :Creator: Harrison, D. and Rubinfeld, D.L.\\n\\nThis is a copy of UCI ML housing dataset.\\nhttps://archive.ics.uci.edu/ml/machine-learning-databases/housing/\\n\\n\\nThis dataset was taken from the StatLib library which is maintained at Carnegie Mellon University.\\n\\nThe Boston house-price data of Harrison, D. and Rubinfeld, D.L. 'Hedonic\\nprices and the demand for clean air', J. Environ. Economics & Management,\\nvol.5, 81-102, 1978.   Used in Belsley, Kuh & Welsch, 'Regression diagnostics\\n...', Wiley, 1980.   N.B. Various transformations are used in the table on\\npages 244-261 of the latter.\\n\\nThe Boston house-price data has been used in many machine learning papers that address regression\\nproblems.   \\n     \\n.. topic:: References\\n\\n   - Belsley, Kuh & Welsch, 'Regression diagnostics: Identifying Influential Data and Sources of Collinearity', Wiley, 1980. 244-261.\\n   - Quinlan,R. (1993). Combining Instance-Based and Model-Based Learning. In Proceedings on the Tenth International Conference of Machine Learning, 236-243, University of Massachusetts, Amherst. Morgan Kaufmann.\\n\", 'filename': 'C:\\\\Users\\\\pemtc\\\\Anaconda3\\\\lib\\\\site-packages\\\\sklearn\\\\datasets\\\\data\\\\boston_house_prices.csv'}\n"
     ]
    }
   ],
   "source": [
    "#take a look at the dataset\n",
    "print(boston)"
   ]
  },
  {
   "cell_type": "markdown",
   "metadata": {},
   "source": [
    "As that's not very readable we'll convert it to a pandas dataframe to make it look better:"
   ]
  },
  {
   "cell_type": "code",
   "execution_count": 6,
   "metadata": {},
   "outputs": [],
   "source": [
    "#create pandas dataframe\n",
    "df = pd.DataFrame(boston.data, columns = ['crim', 'zn', 'indus', 'chas', 'nox', 'rm', 'age', 'dis', 'rad', 'tax', 'b', 'ptratio', 'lstat'])"
   ]
  },
  {
   "cell_type": "markdown",
   "metadata": {},
   "source": [
    "The target value, represented by 'MEDV', which is the median value of houses in the dataset can now be added:"
   ]
  },
  {
   "cell_type": "code",
   "execution_count": 7,
   "metadata": {},
   "outputs": [],
   "source": [
    "#Add target value 'MEDV'\n",
    "df['MEDV'] = boston.target"
   ]
  },
  {
   "cell_type": "markdown",
   "metadata": {},
   "source": [
    "Let's take a look at the dataframe:"
   ]
  },
  {
   "cell_type": "code",
   "execution_count": 8,
   "metadata": {},
   "outputs": [
    {
     "data": {
      "text/html": [
       "<div>\n",
       "<style scoped>\n",
       "    .dataframe tbody tr th:only-of-type {\n",
       "        vertical-align: middle;\n",
       "    }\n",
       "\n",
       "    .dataframe tbody tr th {\n",
       "        vertical-align: top;\n",
       "    }\n",
       "\n",
       "    .dataframe thead th {\n",
       "        text-align: right;\n",
       "    }\n",
       "</style>\n",
       "<table border=\"1\" class=\"dataframe\">\n",
       "  <thead>\n",
       "    <tr style=\"text-align: right;\">\n",
       "      <th></th>\n",
       "      <th>crim</th>\n",
       "      <th>zn</th>\n",
       "      <th>indus</th>\n",
       "      <th>chas</th>\n",
       "      <th>nox</th>\n",
       "      <th>rm</th>\n",
       "      <th>age</th>\n",
       "      <th>dis</th>\n",
       "      <th>rad</th>\n",
       "      <th>tax</th>\n",
       "      <th>b</th>\n",
       "      <th>ptratio</th>\n",
       "      <th>lstat</th>\n",
       "      <th>MEDV</th>\n",
       "    </tr>\n",
       "  </thead>\n",
       "  <tbody>\n",
       "    <tr>\n",
       "      <th>0</th>\n",
       "      <td>0.00632</td>\n",
       "      <td>18.0</td>\n",
       "      <td>2.31</td>\n",
       "      <td>0.0</td>\n",
       "      <td>0.538</td>\n",
       "      <td>6.575</td>\n",
       "      <td>65.2</td>\n",
       "      <td>4.0900</td>\n",
       "      <td>1.0</td>\n",
       "      <td>296.0</td>\n",
       "      <td>15.3</td>\n",
       "      <td>396.90</td>\n",
       "      <td>4.98</td>\n",
       "      <td>24.0</td>\n",
       "    </tr>\n",
       "    <tr>\n",
       "      <th>1</th>\n",
       "      <td>0.02731</td>\n",
       "      <td>0.0</td>\n",
       "      <td>7.07</td>\n",
       "      <td>0.0</td>\n",
       "      <td>0.469</td>\n",
       "      <td>6.421</td>\n",
       "      <td>78.9</td>\n",
       "      <td>4.9671</td>\n",
       "      <td>2.0</td>\n",
       "      <td>242.0</td>\n",
       "      <td>17.8</td>\n",
       "      <td>396.90</td>\n",
       "      <td>9.14</td>\n",
       "      <td>21.6</td>\n",
       "    </tr>\n",
       "    <tr>\n",
       "      <th>2</th>\n",
       "      <td>0.02729</td>\n",
       "      <td>0.0</td>\n",
       "      <td>7.07</td>\n",
       "      <td>0.0</td>\n",
       "      <td>0.469</td>\n",
       "      <td>7.185</td>\n",
       "      <td>61.1</td>\n",
       "      <td>4.9671</td>\n",
       "      <td>2.0</td>\n",
       "      <td>242.0</td>\n",
       "      <td>17.8</td>\n",
       "      <td>392.83</td>\n",
       "      <td>4.03</td>\n",
       "      <td>34.7</td>\n",
       "    </tr>\n",
       "    <tr>\n",
       "      <th>3</th>\n",
       "      <td>0.03237</td>\n",
       "      <td>0.0</td>\n",
       "      <td>2.18</td>\n",
       "      <td>0.0</td>\n",
       "      <td>0.458</td>\n",
       "      <td>6.998</td>\n",
       "      <td>45.8</td>\n",
       "      <td>6.0622</td>\n",
       "      <td>3.0</td>\n",
       "      <td>222.0</td>\n",
       "      <td>18.7</td>\n",
       "      <td>394.63</td>\n",
       "      <td>2.94</td>\n",
       "      <td>33.4</td>\n",
       "    </tr>\n",
       "    <tr>\n",
       "      <th>4</th>\n",
       "      <td>0.06905</td>\n",
       "      <td>0.0</td>\n",
       "      <td>2.18</td>\n",
       "      <td>0.0</td>\n",
       "      <td>0.458</td>\n",
       "      <td>7.147</td>\n",
       "      <td>54.2</td>\n",
       "      <td>6.0622</td>\n",
       "      <td>3.0</td>\n",
       "      <td>222.0</td>\n",
       "      <td>18.7</td>\n",
       "      <td>396.90</td>\n",
       "      <td>5.33</td>\n",
       "      <td>36.2</td>\n",
       "    </tr>\n",
       "  </tbody>\n",
       "</table>\n",
       "</div>"
      ],
      "text/plain": [
       "      crim    zn  indus  chas    nox     rm   age     dis  rad    tax     b  \\\n",
       "0  0.00632  18.0   2.31   0.0  0.538  6.575  65.2  4.0900  1.0  296.0  15.3   \n",
       "1  0.02731   0.0   7.07   0.0  0.469  6.421  78.9  4.9671  2.0  242.0  17.8   \n",
       "2  0.02729   0.0   7.07   0.0  0.469  7.185  61.1  4.9671  2.0  242.0  17.8   \n",
       "3  0.03237   0.0   2.18   0.0  0.458  6.998  45.8  6.0622  3.0  222.0  18.7   \n",
       "4  0.06905   0.0   2.18   0.0  0.458  7.147  54.2  6.0622  3.0  222.0  18.7   \n",
       "\n",
       "   ptratio  lstat  MEDV  \n",
       "0   396.90   4.98  24.0  \n",
       "1   396.90   9.14  21.6  \n",
       "2   392.83   4.03  34.7  \n",
       "3   394.63   2.94  33.4  \n",
       "4   396.90   5.33  36.2  "
      ]
     },
     "execution_count": 8,
     "metadata": {},
     "output_type": "execute_result"
    }
   ],
   "source": [
    "#We'll take a look at the first 5 rows\n",
    "df.head(5)"
   ]
  },
  {
   "cell_type": "code",
   "execution_count": 9,
   "metadata": {},
   "outputs": [
    {
     "data": {
      "text/plain": [
       "crim       0\n",
       "zn         0\n",
       "indus      0\n",
       "chas       0\n",
       "nox        0\n",
       "rm         0\n",
       "age        0\n",
       "dis        0\n",
       "rad        0\n",
       "tax        0\n",
       "b          0\n",
       "ptratio    0\n",
       "lstat      0\n",
       "MEDV       0\n",
       "dtype: int64"
      ]
     },
     "execution_count": 9,
     "metadata": {},
     "output_type": "execute_result"
    }
   ],
   "source": [
    "#check for null values\n",
    "df.isnull().sum()"
   ]
  },
  {
   "cell_type": "markdown",
   "metadata": {},
   "source": [
    "No null values found.<br>\n",
    "We can visualise the relationship between each variable and the target variable using the pairplot function:"
   ]
  },
  {
   "cell_type": "code",
   "execution_count": 10,
   "metadata": {},
   "outputs": [
    {
     "data": {
      "image/png": "[encoded data removed]",
      "text/plain": [
       "<Figure size 720x180 with 4 Axes>"
      ]
     },
     "metadata": {
      "needs_background": "light"
     },
     "output_type": "display_data"
    },
    {
     "data": {
      "image/png": "[encoded data removed]",
      "text/plain": [
       "<Figure size 720x180 with 4 Axes>"
      ]
     },
     "metadata": {
      "needs_background": "light"
     },
     "output_type": "display_data"
    },
    {
     "data": {
      "image/png": "[encoded data removed]",
      "text/plain": [
       "<Figure size 720x180 with 4 Axes>"
      ]
     },
     "metadata": {
      "needs_background": "light"
     },
     "output_type": "display_data"
    },
    {
     "data": {
      "image/png": "[encoded data removed]",
      "text/plain": [
       "<Figure size 360x180 with 2 Axes>"
      ]
     },
     "metadata": {
      "needs_background": "light"
     },
     "output_type": "display_data"
    }
   ],
   "source": [
    "#visualise the relationship between each variable and the target variable using pairplot function\n",
    "#code adapted from https://dataoutpost.wordpress.com/2018/04/03/eda-part-1-full-python-code/\n",
    "for i in range(0, len(df.columns), 4):\n",
    "    sns.pairplot(data=df,\n",
    "    x_vars=df.columns[i:i+4],\n",
    "    y_vars=['MEDV'])"
   ]
  },
  {
   "cell_type": "markdown",
   "metadata": {},
   "source": [
    "We can see from this that the variable RM (no. of rooms) appears to have a linear relationship with the price variable MEDV, which we would expect. We can also see that the variable LSTAT (% lower status of the population) appears to have a negative linear relationship with the price variable. We can fit a regression line to these using seaborn to confirm:"
   ]
  },
  {
   "cell_type": "code",
   "execution_count": 11,
   "metadata": {},
   "outputs": [
    {
     "data": {
      "text/plain": [
       "Text(0.5, 1.0, 'Number of Rooms per Dwelling vs. Median Home Value')"
      ]
     },
     "execution_count": 11,
     "metadata": {},
     "output_type": "execute_result"
    },
    {
     "data": {
      "image/png": "[encoded data removed]",
      "text/plain": [
       "<Figure size 432x288 with 1 Axes>"
      ]
     },
     "metadata": {
      "needs_background": "light"
     },
     "output_type": "display_data"
    }
   ],
   "source": [
    "sns.regplot(x=\"rm\", y=\"MEDV\", data = df)\n",
    "plt.xlabel('# Rooms per Dwelling (RM)')\n",
    "plt.ylabel('Median Home Value (1,000s)')\n",
    "plt.title('Number of Rooms per Dwelling vs. Median Home Value')\n"
   ]
  },
  {
   "cell_type": "code",
   "execution_count": 12,
   "metadata": {},
   "outputs": [
    {
     "data": {
      "text/plain": [
       "Text(0.5, 1.0, 'Percentage of Population in Lower Economic Status vs. Median Home Value')"
      ]
     },
     "execution_count": 12,
     "metadata": {},
     "output_type": "execute_result"
    },
    {
     "data": {
      "image/png": "[encoded data removed]",
      "text/plain": [
       "<Figure size 432x288 with 1 Axes>"
      ]
     },
     "metadata": {
      "needs_background": "light"
     },
     "output_type": "display_data"
    }
   ],
   "source": [
    "sns.regplot(x=\"lstat\", y=\"MEDV\", data = df)\n",
    "plt.xlabel('% of Population in Lower Economic Status')\n",
    "plt.ylabel('Median Home Value ($1,000s)')\n",
    "plt.title('Percentage of Population in Lower Economic Status vs. Median Home Value')"
   ]
  },
  {
   "cell_type": "markdown",
   "metadata": {},
   "source": [
    "The 'MEDV' variable is our target variable, as it reflects the price of the property. Plotting this variable shows a normal distribution with some outliers:"
   ]
  },
  {
   "cell_type": "code",
   "execution_count": 13,
   "metadata": {},
   "outputs": [
    {
     "data": {
      "text/plain": [
       "<function matplotlib.pyplot.show(*args, **kw)>"
      ]
     },
     "execution_count": 13,
     "metadata": {},
     "output_type": "execute_result"
    },
    {
     "data": {
      "image/png": "[encoded data removed]",
      "text/plain": [
       "<Figure size 432x288 with 1 Axes>"
      ]
     },
     "metadata": {
      "needs_background": "light"
     },
     "output_type": "display_data"
    }
   ],
   "source": [
    "#plot medv values\n",
    "sns.distplot(df['MEDV'])\n",
    "plt.xlabel('Price ($1000s)')\n",
    "plt.show"
   ]
  },
  {
   "cell_type": "markdown",
   "metadata": {},
   "source": [
    "We can see from this plot that there is a disproportionate number of 'medv' values of 50. This is likely because when the data was being collected the values were in bands, with the highest being 50,000 and above. We will remove these as they skew the data."
   ]
  },
  {
   "cell_type": "code",
   "execution_count": 14,
   "metadata": {},
   "outputs": [],
   "source": [
    "#remove MEDV values of 50\n",
    "df = df[df.MEDV !=50]"
   ]
  },
  {
   "cell_type": "code",
   "execution_count": 15,
   "metadata": {},
   "outputs": [
    {
     "data": {
      "image/png": "[encoded data removed]",
      "text/plain": [
       "<Figure size 432x288 with 1 Axes>"
      ]
     },
     "metadata": {
      "needs_background": "light"
     },
     "output_type": "display_data"
    }
   ],
   "source": [
    "#plot medv values without the 50 values\n",
    "sns.distplot(df['MEDV'])\n",
    "plt.xlabel('Price ($1000s)')\n",
    "plt.show()"
   ]
  },
  {
   "cell_type": "markdown",
   "metadata": {},
   "source": []
  },
  {
   "cell_type": "markdown",
   "metadata": {},
   "source": [
    "Next we'll look at correlations between the variables. A correlation $<=0.25$ or $>=-0.25$ is a weak correlation and should not help us with predictions. "
   ]
  },
  {
   "cell_type": "code",
   "execution_count": 16,
   "metadata": {},
   "outputs": [
    {
     "data": {
      "image/png": "[encoded data removed]",
      "text/plain": [
       "<Figure size 1296x864 with 2 Axes>"
      ]
     },
     "metadata": {
      "needs_background": "light"
     },
     "output_type": "display_data"
    }
   ],
   "source": [
    "#show correlation between variables\n",
    "ax, fig = plt.subplots(figsize = (18,12))\n",
    "sns.heatmap(df.corr(), annot = True, cmap = 'coolwarm')\n",
    "plt.show()\n",
    "#blues show a negative correlation, oranges/reds a positive one"
   ]
  },
  {
   "cell_type": "markdown",
   "metadata": {},
   "source": [
    "From the plot above we can see that the variable with the strongest positive correlation is no. of rooms, and the one with the strongest negative correlation is % of lower status of population. Intuitively it is reasonable that houses with more rooms would cost more, likewise it is a fair assumption that areas with a higher proportion of lower socio-economic residents would have lower prices housing on average. From this there doesn't appear to be a strong correlation between the 'CHAS' variable and house prices.<br>\n",
    "Finally in this section we'll take a look at the statistics related to the 'MEDV' variable:"
   ]
  },
  {
   "cell_type": "code",
   "execution_count": 17,
   "metadata": {},
   "outputs": [
    {
     "name": "stdout",
     "output_type": "stream",
     "text": [
      "Statistics for Boston housing dataset price variable:\n",
      "\n",
      "Minimum: $5.0\n",
      "Maximum: $48.8\n",
      "Mean: $21.635918367346957\n",
      "Median: $20.9\n",
      "Standard deviation: $7.857271146580542\n"
     ]
    }
   ],
   "source": [
    "prices = df['MEDV']\n",
    "features = df.drop('MEDV', axis = 1)\n",
    "prices.describe()\n",
    "\n",
    "#look at statistics of the price variable\n",
    "#code adapted from https://towardsdatascience.com/machine-learning-project-predicting-boston-house-prices-with-\n",
    "#regression-b4e47493633d\n",
    "minimum_price = np.amin(prices)\n",
    "maximum_price = np.amax(prices)\n",
    "mean_price = np.mean(prices)\n",
    "median_price = np.median(prices)\n",
    "std_price = np.std(prices)\n",
    "\n",
    "#Show the calculated statistics\n",
    "print(\"Statistics for Boston housing dataset price variable:\\n\")\n",
    "print(\"Minimum: ${}\".format(minimum_price)) \n",
    "print(\"Maximum: ${}\".format(maximum_price))\n",
    "print(\"Mean: ${}\".format(mean_price))\n",
    "print(\"Median: ${}\".format(median_price))\n",
    "print(\"Standard deviation: ${}\".format(std_price))"
   ]
  },
  {
   "cell_type": "markdown",
   "metadata": {},
   "source": [
    "### Part 2 - Inferential Statistics<br>\n",
    "The aim of this section is to determine whether there is a significant difference in median prices of houses that are along the Charles river and those that are not. The Null Hypothesis will be that there is no difference between median house prices whether or not they are along the Charles River. We'll use a T Test to do this. Lets first take a look at the variable 'chas' which is the indicator as to whether the house lies along the river or not. '1' means it does, '0' means it does not. As this is a categorical variable we will use a stripplot to visualise the data:"
   ]
  },
  {
   "cell_type": "code",
   "execution_count": 18,
   "metadata": {},
   "outputs": [
    {
     "data": {
      "text/plain": [
       "<matplotlib.axes._subplots.AxesSubplot at 0x27a97e10978>"
      ]
     },
     "execution_count": 18,
     "metadata": {},
     "output_type": "execute_result"
    },
    {
     "data": {
      "image/png": "[encoded data removed]",
      "text/plain": [
       "<Figure size 432x288 with 1 Axes>"
      ]
     },
     "metadata": {
      "needs_background": "light"
     },
     "output_type": "display_data"
    }
   ],
   "source": [
    "sns.stripplot(x=\"chas\", y = 'MEDV', data = df, palette = 'bright')"
   ]
  },
  {
   "attachments": {
    "box_plot.png": {
     "image/png": "[encoded data removed]"
    }
   },
   "cell_type": "markdown",
   "metadata": {},
   "source": [
    "From observing the scatterplot above we can see that there are much fewer properties bordering the Charles river than properties that don't border it; it also looks like the highest priced properties are away from the river. <br> Next we'll use a boxplot, which shows the distribution of quantitative data in a way that allows comparisons between variables or across levels of a categorical variable. The box shows the quartiles of the dataset while the whiskers extend to show the rest of the distribution, except for points that are determined to be “outliers” using the inter-quartile range method.\n",
    "![box_plot.png](attachment:box_plot.png)\n"
   ]
  },
  {
   "cell_type": "code",
   "execution_count": 19,
   "metadata": {},
   "outputs": [
    {
     "data": {
      "text/plain": [
       "<matplotlib.axes._subplots.AxesSubplot at 0x27a9802fc88>"
      ]
     },
     "execution_count": 19,
     "metadata": {},
     "output_type": "execute_result"
    },
    {
     "data": {
      "image/png": "[encoded data removed]",
      "text/plain": [
       "<Figure size 432x288 with 1 Axes>"
      ]
     },
     "metadata": {
      "needs_background": "light"
     },
     "output_type": "display_data"
    }
   ],
   "source": [
    "sns.boxplot(x = \"chas\", y = \"MEDV\", data = df, palette = 'bright')"
   ]
  },
  {
   "cell_type": "markdown",
   "metadata": {},
   "source": [
    "We can see that there are a lot of outliers in the properties not bordering the river, and the median price of houses bordering the river appears greater than that of houses not bordering it.\n",
    "Our null hypothesis is that there is statistically no difference between the median prices of houses that border the Charles River and those that don't. Our alternative hypothesis is that there is statistically a significant difference between the median prices of houses that border the Charles river and those that don't. Lets seperate the variable into its components:"
   ]
  },
  {
   "cell_type": "code",
   "execution_count": 20,
   "metadata": {},
   "outputs": [],
   "source": [
    "charles = df.drop(['crim','rm','dis','zn','indus','nox','age','rad','tax', 'b','ptratio','lstat'], axis =1)"
   ]
  },
  {
   "cell_type": "code",
   "execution_count": 21,
   "metadata": {},
   "outputs": [
    {
     "data": {
      "text/html": [
       "<div>\n",
       "<style scoped>\n",
       "    .dataframe tbody tr th:only-of-type {\n",
       "        vertical-align: middle;\n",
       "    }\n",
       "\n",
       "    .dataframe tbody tr th {\n",
       "        vertical-align: top;\n",
       "    }\n",
       "\n",
       "    .dataframe thead tr th {\n",
       "        text-align: left;\n",
       "    }\n",
       "\n",
       "    .dataframe thead tr:last-of-type th {\n",
       "        text-align: right;\n",
       "    }\n",
       "</style>\n",
       "<table border=\"1\" class=\"dataframe\">\n",
       "  <thead>\n",
       "    <tr>\n",
       "      <th></th>\n",
       "      <th colspan=\"8\" halign=\"left\">MEDV</th>\n",
       "    </tr>\n",
       "    <tr>\n",
       "      <th></th>\n",
       "      <th>count</th>\n",
       "      <th>mean</th>\n",
       "      <th>std</th>\n",
       "      <th>min</th>\n",
       "      <th>25%</th>\n",
       "      <th>50%</th>\n",
       "      <th>75%</th>\n",
       "      <th>max</th>\n",
       "    </tr>\n",
       "    <tr>\n",
       "      <th>chas</th>\n",
       "      <th></th>\n",
       "      <th></th>\n",
       "      <th></th>\n",
       "      <th></th>\n",
       "      <th></th>\n",
       "      <th></th>\n",
       "      <th></th>\n",
       "      <th></th>\n",
       "    </tr>\n",
       "  </thead>\n",
       "  <tbody>\n",
       "    <tr>\n",
       "      <th>0.0</th>\n",
       "      <td>461.0</td>\n",
       "      <td>21.488503</td>\n",
       "      <td>7.898848</td>\n",
       "      <td>5.0</td>\n",
       "      <td>16.5</td>\n",
       "      <td>20.6</td>\n",
       "      <td>24.5</td>\n",
       "      <td>48.8</td>\n",
       "    </tr>\n",
       "    <tr>\n",
       "      <th>1.0</th>\n",
       "      <td>29.0</td>\n",
       "      <td>23.979310</td>\n",
       "      <td>7.024161</td>\n",
       "      <td>13.4</td>\n",
       "      <td>20.0</td>\n",
       "      <td>22.4</td>\n",
       "      <td>27.0</td>\n",
       "      <td>46.0</td>\n",
       "    </tr>\n",
       "  </tbody>\n",
       "</table>\n",
       "</div>"
      ],
      "text/plain": [
       "       MEDV                                                   \n",
       "      count       mean       std   min   25%   50%   75%   max\n",
       "chas                                                          \n",
       "0.0   461.0  21.488503  7.898848   5.0  16.5  20.6  24.5  48.8\n",
       "1.0    29.0  23.979310  7.024161  13.4  20.0  22.4  27.0  46.0"
      ]
     },
     "execution_count": 21,
     "metadata": {},
     "output_type": "execute_result"
    }
   ],
   "source": [
    "#group data in chas variable by 1 or 0, either bordering the river or not\n",
    "group = charles.groupby('chas')\n",
    "#look at this dataframe\n",
    "group.describe().head()"
   ]
  },
  {
   "cell_type": "code",
   "execution_count": 22,
   "metadata": {},
   "outputs": [],
   "source": [
    "bound = charles[(charles['chas'] == 1.0)]\n",
    "notbound = charles[(charles['chas'] == 0.0)]\n"
   ]
  },
  {
   "cell_type": "markdown",
   "metadata": {},
   "source": [
    "The independent t-test is an inferential statistical test that determines whether there is a statistically significant difference between the means of two groups. To run an independent t-test we need:<br>\n",
    "<ul>\n",
    "    <li>An independent, categorical variable that has two groups (we have the CHAS variable that is divided into two groups, bound and not bound).</li>\n",
    "<li>A continuous dependent variable (we have the MEDV variable).</li> \n",
    "</ul>\n",
    "There are number of tests that should be performed before performing an independent t-test. <br> 1. The Levene test for equal variances: The Levene test tests the null hypothesis that all input samples are from populations with equal variances. If the p-value of Levene's test is less than some significance level (typically 0.05), the obtained differences in sample variances are unlikely to have occurred based on random sampling from a population with equal variances. Thus, the null hypothesis of equal variances is rejected and it is concluded that there is a difference between the variances in the population. We conduct the Levene test using the stats package in scipy:"
   ]
  },
  {
   "cell_type": "code",
   "execution_count": 23,
   "metadata": {},
   "outputs": [
    {
     "data": {
      "text/plain": [
       "LeveneResult(statistic=0.6887118673011111, pvalue=0.40700864732277753)"
      ]
     },
     "execution_count": 23,
     "metadata": {},
     "output_type": "execute_result"
    }
   ],
   "source": [
    "from scipy import stats\n",
    "stats.levene(notbound['MEDV'], bound['MEDV'])"
   ]
  },
  {
   "cell_type": "markdown",
   "metadata": {},
   "source": [
    "The Pvalue is greater than .05, meaning there is homogeneity of variances and we can proceed. <br> <br>2. The second test we need to conduct is to test the assumption of normality - the distributions should be normal. We can use the shapiro test from the stats package in scipy for this:"
   ]
  },
  {
   "cell_type": "code",
   "execution_count": 24,
   "metadata": {},
   "outputs": [
    {
     "data": {
      "text/plain": [
       "(0.9188438653945923, 0.028505902737379074)"
      ]
     },
     "execution_count": 24,
     "metadata": {},
     "output_type": "execute_result"
    }
   ],
   "source": [
    "stats.shapiro(bound['MEDV'])"
   ]
  },
  {
   "cell_type": "code",
   "execution_count": 25,
   "metadata": {},
   "outputs": [
    {
     "data": {
      "text/plain": [
       "(0.9592850804328918, 5.540209957466402e-10)"
      ]
     },
     "execution_count": 25,
     "metadata": {},
     "output_type": "execute_result"
    }
   ],
   "source": [
    "stats.shapiro(notbound['MEDV'])"
   ]
  },
  {
   "cell_type": "markdown",
   "metadata": {},
   "source": [
    "Since $p>0.5$ for those properties not bordering the Charles river the distribution passes the normality criteria. However $p<.05$ for those properties bordering the river, so this distribution is not normal. We can see this illustrated in the histgrams below:"
   ]
  },
  {
   "cell_type": "code",
   "execution_count": 26,
   "metadata": {},
   "outputs": [
    {
     "data": {
      "text/plain": [
       "<matplotlib.axes._subplots.AxesSubplot at 0x27a98090588>"
      ]
     },
     "execution_count": 26,
     "metadata": {},
     "output_type": "execute_result"
    },
    {
     "data": {
      "image/png": "[encoded data removed]",
      "text/plain": [
       "<Figure size 432x288 with 1 Axes>"
      ]
     },
     "metadata": {
      "needs_background": "light"
     },
     "output_type": "display_data"
    }
   ],
   "source": [
    "sns.distplot(bound['MEDV'], hist='True')\n",
    "\n",
    "#plt.show()"
   ]
  },
  {
   "cell_type": "code",
   "execution_count": 27,
   "metadata": {},
   "outputs": [
    {
     "data": {
      "text/plain": [
       "<matplotlib.axes._subplots.AxesSubplot at 0x27a980abef0>"
      ]
     },
     "execution_count": 27,
     "metadata": {},
     "output_type": "execute_result"
    },
    {
     "data": {
      "image/png": "[encoded data removed]",
      "text/plain": [
       "<Figure size 432x288 with 1 Axes>"
      ]
     },
     "metadata": {
      "needs_background": "light"
     },
     "output_type": "display_data"
    }
   ],
   "source": [
    "sns.distplot(notbound['MEDV'], hist='True')\n",
    "#plt.show()"
   ]
  },
  {
   "cell_type": "markdown",
   "metadata": {},
   "source": [
    "It should be noted that there are a lot fewer data points bounding the river so it is more difficult to make an assumption about normality. It the data isn't normally distributed a non-parametric test should be used. <br> Running an independent t-test gives us the following:"
   ]
  },
  {
   "cell_type": "code",
   "execution_count": 28,
   "metadata": {},
   "outputs": [
    {
     "data": {
      "text/plain": [
       "Ttest_indResult(statistic=1.6571053443179937, pvalue=0.09814089320087695)"
      ]
     },
     "execution_count": 28,
     "metadata": {},
     "output_type": "execute_result"
    }
   ],
   "source": [
    "stats.ttest_ind(bound['MEDV'],notbound['MEDV'] )"
   ]
  },
  {
   "cell_type": "markdown",
   "metadata": {},
   "source": [
    "#### Interpretation:\n",
    "To determine if there is a significant difference between the groups we need to set a p-value threshold. If the test produces a p-value which is less than the threshold p-value then the test is said to be significant and that there is a significant difference between the two means. This means one rejects the null hypothesis in support of the alternative. Most commonly the p-value is set to 0.05 , so that's what we'll set it as. The result of the independent t-test is a p value of 0.098. As this is greater that the threshold set we reject the null hypothese that there is no difference in the means of the properties that border the Charles river and those that don't.<br> As there is some doubt regarding the normality of the data we'll also conduct a Welch t test - this is appropriate when the groups have vastly different sizes, as our Charles river groups do:"
   ]
  },
  {
   "cell_type": "code",
   "execution_count": 29,
   "metadata": {},
   "outputs": [
    {
     "data": {
      "text/plain": [
       "Ttest_indResult(statistic=1.8379064458206327, pvalue=0.07519889252702865)"
      ]
     },
     "execution_count": 29,
     "metadata": {},
     "output_type": "execute_result"
    }
   ],
   "source": [
    "stats.ttest_ind(bound['MEDV'],notbound['MEDV'], equal_var = False)"
   ]
  },
  {
   "cell_type": "markdown",
   "metadata": {},
   "source": [
    "This gives us the same result, i.e. we reject the null hypothesis that there is no difference in the means of the properties that border the Charles river and those that don't.<br> To conclude, we have established that there is a difference in median values for properties that border the Charles river versus those that do not."
   ]
  },
  {
   "cell_type": "markdown",
   "metadata": {},
   "source": [
    "### Part 3 - Predict<br>\n",
    "The aim of this section is to use keras to create a neural network that can predict the median house price based on some or all of the other variables in the dataset. A neural network is composed of:\n",
    "<ul>\n",
    "    <li>Layers - combine to make a network or model</li>\n",
    "    <li>Input data and corresponding targets</li>\n",
    "    <li>Loss function, which defines the feedback signal used for learning</li>\n",
    "    <li>Optimizer, which determines how learning proceeds</li>\n",
    "</ul>\n",
    "The layers map the input data to predictions, the loss function then compares these predictions to the targets, and produce a loss value, which is a measure of how well the predictions match what was expected.<br> We'll start by importing the necessary libraries:"
   ]
  },
  {
   "cell_type": "code",
   "execution_count": 31,
   "metadata": {},
   "outputs": [
    {
     "name": "stderr",
     "output_type": "stream",
     "text": [
      "Using TensorFlow backend.\n"
     ]
    }
   ],
   "source": [
    "import tensorflow as tf\n",
    "import keras as kr\n",
    "# For splitting data sets.\n",
    "import sklearn.model_selection as mod\n",
    "# For whitening.\n",
    "import sklearn.decomposition as dec\n",
    "# For preprocessing data.\n",
    "import sklearn.preprocessing as pre\n",
    "#split dataframe into target & other variables\n",
    "x = df.drop('MEDV', axis = 1)\n",
    "y = df['MEDV']\n"
   ]
  },
  {
   "cell_type": "markdown",
   "metadata": {},
   "source": [
    "Next we split the data into training and test, we'll use 80% of the data for training, leaving 20% for testing."
   ]
  },
  {
   "cell_type": "code",
   "execution_count": 32,
   "metadata": {},
   "outputs": [],
   "source": [
    "#split data into testing & training split, 80% train, 20% test\n",
    "x_train, x_test, y_train, y_test = mod.train_test_split(x, y, test_size=0.2)"
   ]
  },
  {
   "cell_type": "markdown",
   "metadata": {},
   "source": [
    "Let's look at the shapes of both sets:"
   ]
  },
  {
   "cell_type": "code",
   "execution_count": 33,
   "metadata": {},
   "outputs": [
    {
     "data": {
      "text/plain": [
       "(392, 13)"
      ]
     },
     "execution_count": 33,
     "metadata": {},
     "output_type": "execute_result"
    }
   ],
   "source": [
    "x_train.shape\n"
   ]
  },
  {
   "cell_type": "code",
   "execution_count": 34,
   "metadata": {},
   "outputs": [
    {
     "data": {
      "text/plain": [
       "(98, 13)"
      ]
     },
     "execution_count": 34,
     "metadata": {},
     "output_type": "execute_result"
    }
   ],
   "source": [
    "x_test.shape"
   ]
  },
  {
   "cell_type": "markdown",
   "metadata": {},
   "source": [
    "Looking at the data we can see that we have 392 training samples and 98 testing samples, each with thirteen feature variables, as detailed in section 1 above. Our target variable is the median value of houses, in thousands of dollars. "
   ]
  },
  {
   "cell_type": "markdown",
   "metadata": {},
   "source": [
    "#### Building & training:<br>\n",
    "Now we'll build and train our model. As there are not a large number of samples we'll use a small network with two hidden layers. The last layer is linear, so the network is free to predict values in any range. We are using the Mean Squared Error loss function; this is the square of the difference between predictions and targets. It is a widely used loss function for regression problems. We are also measuring the MAE (Mean Absolute Error), which is the absolute value of the difference between predictions and targets.<br>\n",
    "##### Example 1:"
   ]
  },
  {
   "cell_type": "code",
   "execution_count": 55,
   "metadata": {},
   "outputs": [],
   "source": [
    "m = kr.models.Sequential()\n",
    "\n",
    "m.add(kr.layers.Dense(26, input_dim=13, activation=\"relu\"))\n",
    "m.add(kr.layers.Dense(26, input_dim=13, activation=\"relu\"))\n",
    "m.add(kr.layers.Dense(1, activation=\"linear\"))\n",
    "\n",
    "m.compile(loss=\"mean_squared_error\", optimizer=\"rmsprop\", metrics=['mae'])"
   ]
  },
  {
   "cell_type": "code",
   "execution_count": 56,
   "metadata": {},
   "outputs": [
    {
     "name": "stdout",
     "output_type": "stream",
     "text": [
      "Epoch 1/300\n",
      "392/392 [==============================] - 0s 326us/step - loss: 169.5091 - mae: 8.6967\n",
      "Epoch 2/300\n",
      "392/392 [==============================] - 0s 102us/step - loss: 48.2831 - mae: 5.4302\n",
      "Epoch 3/300\n",
      "392/392 [==============================] - 0s 102us/step - loss: 48.0722 - mae: 5.3141\n",
      "Epoch 4/300\n",
      "392/392 [==============================] - 0s 112us/step - loss: 50.5213 - mae: 5.3578\n",
      "Epoch 5/300\n",
      "392/392 [==============================] - 0s 92us/step - loss: 45.9248 - mae: 5.2003\n",
      "Epoch 6/300\n",
      "392/392 [==============================] - 0s 92us/step - loss: 44.0427 - mae: 5.1398\n",
      "Epoch 7/300\n",
      "392/392 [==============================] - 0s 92us/step - loss: 37.7525 - mae: 4.7645\n",
      "Epoch 8/300\n",
      "392/392 [==============================] - 0s 92us/step - loss: 41.2945 - mae: 4.9044\n",
      "Epoch 9/300\n",
      "392/392 [==============================] - 0s 112us/step - loss: 41.6857 - mae: 4.9663\n",
      "Epoch 10/300\n",
      "392/392 [==============================] - 0s 92us/step - loss: 41.5492 - mae: 4.9843\n",
      "Epoch 11/300\n",
      "392/392 [==============================] - 0s 102us/step - loss: 41.8806 - mae: 4.8838\n",
      "Epoch 12/300\n",
      "392/392 [==============================] - 0s 102us/step - loss: 39.1006 - mae: 4.7910\n",
      "Epoch 13/300\n",
      "392/392 [==============================] - 0s 102us/step - loss: 39.5999 - mae: 4.7300\n",
      "Epoch 14/300\n",
      "392/392 [==============================] - 0s 92us/step - loss: 40.1816 - mae: 4.8681\n",
      "Epoch 15/300\n",
      "392/392 [==============================] - 0s 102us/step - loss: 39.2173 - mae: 4.7496\n",
      "Epoch 16/300\n",
      "392/392 [==============================] - 0s 112us/step - loss: 35.3780 - mae: 4.4371\n",
      "Epoch 17/300\n",
      "392/392 [==============================] - 0s 102us/step - loss: 34.4033 - mae: 4.4525\n",
      "Epoch 18/300\n",
      "392/392 [==============================] - 0s 102us/step - loss: 35.3734 - mae: 4.7099\n",
      "Epoch 19/300\n",
      "392/392 [==============================] - 0s 102us/step - loss: 39.9643 - mae: 4.7813\n",
      "Epoch 20/300\n",
      "392/392 [==============================] - 0s 92us/step - loss: 35.8055 - mae: 4.5513\n",
      "Epoch 21/300\n",
      "392/392 [==============================] - 0s 112us/step - loss: 34.4874 - mae: 4.4733\n",
      "Epoch 22/300\n",
      "392/392 [==============================] - 0s 102us/step - loss: 35.4049 - mae: 4.5083\n",
      "Epoch 23/300\n",
      "392/392 [==============================] - 0s 92us/step - loss: 34.5574 - mae: 4.5350\n",
      "Epoch 24/300\n",
      "392/392 [==============================] - 0s 102us/step - loss: 34.1860 - mae: 4.5173\n",
      "Epoch 25/300\n",
      "392/392 [==============================] - 0s 92us/step - loss: 34.1754 - mae: 4.3888\n",
      "Epoch 26/300\n",
      "392/392 [==============================] - 0s 92us/step - loss: 33.8887 - mae: 4.4323\n",
      "Epoch 27/300\n",
      "392/392 [==============================] - 0s 112us/step - loss: 34.9691 - mae: 4.5456\n",
      "Epoch 28/300\n",
      "392/392 [==============================] - 0s 102us/step - loss: 33.0255 - mae: 4.3248\n",
      "Epoch 29/300\n",
      "392/392 [==============================] - 0s 112us/step - loss: 32.6649 - mae: 4.3095\n",
      "Epoch 30/300\n",
      "392/392 [==============================] - 0s 102us/step - loss: 33.3630 - mae: 4.3918\n",
      "Epoch 31/300\n",
      "392/392 [==============================] - 0s 92us/step - loss: 32.6772 - mae: 4.3723\n",
      "Epoch 32/300\n",
      "392/392 [==============================] - 0s 92us/step - loss: 30.4333 - mae: 4.1602\n",
      "Epoch 33/300\n",
      "392/392 [==============================] - 0s 92us/step - loss: 34.0333 - mae: 4.4342\n",
      "Epoch 34/300\n",
      "392/392 [==============================] - 0s 102us/step - loss: 30.9928 - mae: 4.2902\n",
      "Epoch 35/300\n",
      "392/392 [==============================] - 0s 102us/step - loss: 30.3177 - mae: 4.1846\n",
      "Epoch 36/300\n",
      "392/392 [==============================] - 0s 92us/step - loss: 30.9115 - mae: 4.2349\n",
      "Epoch 37/300\n",
      "392/392 [==============================] - 0s 112us/step - loss: 29.5847 - mae: 4.0632\n",
      "Epoch 38/300\n",
      "392/392 [==============================] - 0s 112us/step - loss: 30.7717 - mae: 4.2515\n",
      "Epoch 39/300\n",
      "392/392 [==============================] - 0s 92us/step - loss: 26.7857 - mae: 3.9830\n",
      "Epoch 40/300\n",
      "392/392 [==============================] - 0s 102us/step - loss: 29.3635 - mae: 4.2133\n",
      "Epoch 41/300\n",
      "392/392 [==============================] - 0s 92us/step - loss: 30.8895 - mae: 4.3082\n",
      "Epoch 42/300\n",
      "392/392 [==============================] - 0s 92us/step - loss: 29.1616 - mae: 4.0929\n",
      "Epoch 43/300\n",
      "392/392 [==============================] - 0s 92us/step - loss: 28.6596 - mae: 4.0925\n",
      "Epoch 44/300\n",
      "392/392 [==============================] - 0s 102us/step - loss: 30.3534 - mae: 4.3233\n",
      "Epoch 45/300\n",
      "392/392 [==============================] - 0s 112us/step - loss: 28.5609 - mae: 4.1325\n",
      "Epoch 46/300\n",
      "392/392 [==============================] - 0s 102us/step - loss: 28.5163 - mae: 4.0547\n",
      "Epoch 47/300\n",
      "392/392 [==============================] - 0s 92us/step - loss: 29.1779 - mae: 4.0089\n",
      "Epoch 48/300\n",
      "392/392 [==============================] - 0s 92us/step - loss: 28.3485 - mae: 4.0384\n",
      "Epoch 49/300\n",
      "392/392 [==============================] - 0s 102us/step - loss: 28.1912 - mae: 3.9983\n",
      "Epoch 50/300\n",
      "392/392 [==============================] - 0s 92us/step - loss: 29.9068 - mae: 4.1752\n",
      "Epoch 51/300\n",
      "392/392 [==============================] - 0s 102us/step - loss: 28.5366 - mae: 4.1711\n",
      "Epoch 52/300\n",
      "392/392 [==============================] - 0s 102us/step - loss: 28.1911 - mae: 4.0430\n",
      "Epoch 53/300\n",
      "392/392 [==============================] - 0s 92us/step - loss: 27.0429 - mae: 3.8941\n",
      "Epoch 54/300\n",
      "392/392 [==============================] - 0s 92us/step - loss: 27.6334 - mae: 4.1528\n",
      "Epoch 55/300\n",
      "392/392 [==============================] - 0s 102us/step - loss: 28.4494 - mae: 4.0378\n",
      "Epoch 56/300\n",
      "392/392 [==============================] - 0s 92us/step - loss: 26.5970 - mae: 3.9307\n",
      "Epoch 57/300\n",
      "392/392 [==============================] - 0s 102us/step - loss: 25.7488 - mae: 3.8179\n",
      "Epoch 58/300\n",
      "392/392 [==============================] - 0s 92us/step - loss: 26.1323 - mae: 3.9187\n",
      "Epoch 59/300\n",
      "392/392 [==============================] - 0s 92us/step - loss: 26.8956 - mae: 3.9713\n",
      "Epoch 60/300\n",
      "392/392 [==============================] - 0s 92us/step - loss: 25.8316 - mae: 3.7509\n",
      "Epoch 61/300\n",
      "392/392 [==============================] - 0s 92us/step - loss: 25.3297 - mae: 3.8361\n",
      "Epoch 62/300\n",
      "392/392 [==============================] - 0s 102us/step - loss: 25.8502 - mae: 3.7949\n",
      "Epoch 63/300\n",
      "392/392 [==============================] - 0s 102us/step - loss: 25.1897 - mae: 3.7746\n",
      "Epoch 64/300\n",
      "392/392 [==============================] - 0s 82us/step - loss: 25.4418 - mae: 3.9321\n",
      "Epoch 65/300\n",
      "392/392 [==============================] - 0s 92us/step - loss: 25.2211 - mae: 3.7896\n",
      "Epoch 66/300\n",
      "392/392 [==============================] - 0s 92us/step - loss: 22.9582 - mae: 3.6354\n",
      "Epoch 67/300\n",
      "392/392 [==============================] - 0s 92us/step - loss: 26.1715 - mae: 3.8508\n",
      "Epoch 68/300\n",
      "392/392 [==============================] - 0s 82us/step - loss: 24.4646 - mae: 3.6657\n",
      "Epoch 69/300\n",
      "392/392 [==============================] - 0s 92us/step - loss: 22.8668 - mae: 3.6053\n",
      "Epoch 70/300\n",
      "392/392 [==============================] - 0s 102us/step - loss: 24.2692 - mae: 3.8016\n",
      "Epoch 71/300\n",
      "392/392 [==============================] - 0s 92us/step - loss: 25.9466 - mae: 3.8940\n",
      "Epoch 72/300\n",
      "392/392 [==============================] - 0s 81us/step - loss: 25.3161 - mae: 3.9003\n",
      "Epoch 73/300\n",
      "392/392 [==============================] - 0s 102us/step - loss: 24.6358 - mae: 3.7733\n",
      "Epoch 74/300\n",
      "392/392 [==============================] - 0s 112us/step - loss: 24.7582 - mae: 3.8203\n",
      "Epoch 75/300\n",
      "392/392 [==============================] - 0s 112us/step - loss: 23.3143 - mae: 3.6665\n",
      "Epoch 76/300\n",
      "392/392 [==============================] - 0s 82us/step - loss: 24.3217 - mae: 3.6983\n",
      "Epoch 77/300\n",
      "392/392 [==============================] - ETA: 0s - loss: 34.7341 - mae: 4.50 - 0s 82us/step - loss: 21.6554 - mae: 3.5769\n",
      "Epoch 78/300\n",
      "392/392 [==============================] - 0s 92us/step - loss: 24.9669 - mae: 3.7337\n",
      "Epoch 79/300\n",
      "392/392 [==============================] - 0s 92us/step - loss: 24.5662 - mae: 3.7628\n",
      "Epoch 80/300\n",
      "392/392 [==============================] - 0s 102us/step - loss: 22.6448 - mae: 3.6124\n",
      "Epoch 81/300\n",
      "392/392 [==============================] - 0s 102us/step - loss: 22.1581 - mae: 3.5779\n",
      "Epoch 82/300\n",
      "392/392 [==============================] - 0s 112us/step - loss: 22.6259 - mae: 3.5812\n",
      "Epoch 83/300\n"
     ]
    },
    {
     "name": "stdout",
     "output_type": "stream",
     "text": [
      "392/392 [==============================] - 0s 92us/step - loss: 24.6305 - mae: 3.8814\n",
      "Epoch 84/300\n",
      "392/392 [==============================] - 0s 102us/step - loss: 22.2108 - mae: 3.6515\n",
      "Epoch 85/300\n",
      "392/392 [==============================] - 0s 102us/step - loss: 21.5204 - mae: 3.5118\n",
      "Epoch 86/300\n",
      "392/392 [==============================] - 0s 112us/step - loss: 21.8754 - mae: 3.6297\n",
      "Epoch 87/300\n",
      "392/392 [==============================] - 0s 112us/step - loss: 22.5569 - mae: 3.5837\n",
      "Epoch 88/300\n",
      "392/392 [==============================] - 0s 102us/step - loss: 22.8873 - mae: 3.6855\n",
      "Epoch 89/300\n",
      "392/392 [==============================] - 0s 112us/step - loss: 21.2693 - mae: 3.4927\n",
      "Epoch 90/300\n",
      "392/392 [==============================] - 0s 102us/step - loss: 21.7191 - mae: 3.5682\n",
      "Epoch 91/300\n",
      "392/392 [==============================] - 0s 92us/step - loss: 21.9225 - mae: 3.6278\n",
      "Epoch 92/300\n",
      "392/392 [==============================] - 0s 92us/step - loss: 21.7180 - mae: 3.5355\n",
      "Epoch 93/300\n",
      "392/392 [==============================] - 0s 102us/step - loss: 21.9940 - mae: 3.5333\n",
      "Epoch 94/300\n",
      "392/392 [==============================] - 0s 102us/step - loss: 21.0252 - mae: 3.4986\n",
      "Epoch 95/300\n",
      "392/392 [==============================] - 0s 92us/step - loss: 22.0354 - mae: 3.6027\n",
      "Epoch 96/300\n",
      "392/392 [==============================] - 0s 92us/step - loss: 21.6906 - mae: 3.5703\n",
      "Epoch 97/300\n",
      "392/392 [==============================] - 0s 92us/step - loss: 20.4267 - mae: 3.4003\n",
      "Epoch 98/300\n",
      "392/392 [==============================] - 0s 92us/step - loss: 23.0847 - mae: 3.6521\n",
      "Epoch 99/300\n",
      "392/392 [==============================] - 0s 82us/step - loss: 19.4170 - mae: 3.2914\n",
      "Epoch 100/300\n",
      "392/392 [==============================] - 0s 102us/step - loss: 20.2261 - mae: 3.5938\n",
      "Epoch 101/300\n",
      "392/392 [==============================] - 0s 92us/step - loss: 20.8530 - mae: 3.5159\n",
      "Epoch 102/300\n",
      "392/392 [==============================] - 0s 102us/step - loss: 20.8455 - mae: 3.5088\n",
      "Epoch 103/300\n",
      "392/392 [==============================] - 0s 92us/step - loss: 22.5903 - mae: 3.5859\n",
      "Epoch 104/300\n",
      "392/392 [==============================] - 0s 102us/step - loss: 19.2685 - mae: 3.3237\n",
      "Epoch 105/300\n",
      "392/392 [==============================] - 0s 102us/step - loss: 19.3128 - mae: 3.3808\n",
      "Epoch 106/300\n",
      "392/392 [==============================] - 0s 102us/step - loss: 20.1233 - mae: 3.3857\n",
      "Epoch 107/300\n",
      "392/392 [==============================] - 0s 92us/step - loss: 20.2473 - mae: 3.3937\n",
      "Epoch 108/300\n",
      "392/392 [==============================] - 0s 82us/step - loss: 19.9856 - mae: 3.4417\n",
      "Epoch 109/300\n",
      "392/392 [==============================] - 0s 82us/step - loss: 20.3454 - mae: 3.4193\n",
      "Epoch 110/300\n",
      "392/392 [==============================] - ETA: 0s - loss: 30.6860 - mae: 4.06 - 0s 92us/step - loss: 19.8210 - mae: 3.4718\n",
      "Epoch 111/300\n",
      "392/392 [==============================] - ETA: 0s - loss: 52.5333 - mae: 6.30 - 0s 92us/step - loss: 21.0003 - mae: 3.4540\n",
      "Epoch 112/300\n",
      "392/392 [==============================] - 0s 92us/step - loss: 19.5099 - mae: 3.3026\n",
      "Epoch 113/300\n",
      "392/392 [==============================] - ETA: 0s - loss: 13.2036 - mae: 2.78 - 0s 102us/step - loss: 19.8589 - mae: 3.4074\n",
      "Epoch 114/300\n",
      "392/392 [==============================] - 0s 92us/step - loss: 19.2398 - mae: 3.3066\n",
      "Epoch 115/300\n",
      "392/392 [==============================] - 0s 82us/step - loss: 20.3970 - mae: 3.4128\n",
      "Epoch 116/300\n",
      "392/392 [==============================] - 0s 102us/step - loss: 19.9826 - mae: 3.3545\n",
      "Epoch 117/300\n",
      "392/392 [==============================] - 0s 92us/step - loss: 20.2870 - mae: 3.4094\n",
      "Epoch 118/300\n",
      "392/392 [==============================] - 0s 102us/step - loss: 17.6060 - mae: 3.1285\n",
      "Epoch 119/300\n",
      "392/392 [==============================] - 0s 82us/step - loss: 19.7931 - mae: 3.4005\n",
      "Epoch 120/300\n",
      "392/392 [==============================] - 0s 92us/step - loss: 18.3203 - mae: 3.2313\n",
      "Epoch 121/300\n",
      "392/392 [==============================] - 0s 92us/step - loss: 19.5884 - mae: 3.3190\n",
      "Epoch 122/300\n",
      "392/392 [==============================] - 0s 92us/step - loss: 19.0596 - mae: 3.3503\n",
      "Epoch 123/300\n",
      "392/392 [==============================] - 0s 92us/step - loss: 19.2304 - mae: 3.2813\n",
      "Epoch 124/300\n",
      "392/392 [==============================] - 0s 92us/step - loss: 19.4897 - mae: 3.3877\n",
      "Epoch 125/300\n",
      "392/392 [==============================] - 0s 92us/step - loss: 19.1165 - mae: 3.3715\n",
      "Epoch 126/300\n",
      "392/392 [==============================] - 0s 92us/step - loss: 18.9011 - mae: 3.2330\n",
      "Epoch 127/300\n",
      "392/392 [==============================] - 0s 102us/step - loss: 18.1727 - mae: 3.2708\n",
      "Epoch 128/300\n",
      "392/392 [==============================] - 0s 92us/step - loss: 18.4061 - mae: 3.2358\n",
      "Epoch 129/300\n",
      "392/392 [==============================] - ETA: 0s - loss: 34.7161 - mae: 4.39 - 0s 92us/step - loss: 18.0179 - mae: 3.2859\n",
      "Epoch 130/300\n",
      "392/392 [==============================] - 0s 92us/step - loss: 18.9842 - mae: 3.3585\n",
      "Epoch 131/300\n",
      "392/392 [==============================] - 0s 92us/step - loss: 19.0402 - mae: 3.3170\n",
      "Epoch 132/300\n",
      "392/392 [==============================] - 0s 92us/step - loss: 19.1402 - mae: 3.3142\n",
      "Epoch 133/300\n",
      "392/392 [==============================] - 0s 82us/step - loss: 18.4031 - mae: 3.2865\n",
      "Epoch 134/300\n",
      "392/392 [==============================] - 0s 82us/step - loss: 19.3756 - mae: 3.3457\n",
      "Epoch 135/300\n",
      "392/392 [==============================] - 0s 92us/step - loss: 16.4724 - mae: 3.0619\n",
      "Epoch 136/300\n",
      "392/392 [==============================] - 0s 92us/step - loss: 17.6982 - mae: 3.2268\n",
      "Epoch 137/300\n",
      "392/392 [==============================] - 0s 102us/step - loss: 18.0300 - mae: 3.2114\n",
      "Epoch 138/300\n",
      "392/392 [==============================] - 0s 92us/step - loss: 17.7864 - mae: 3.1888\n",
      "Epoch 139/300\n",
      "392/392 [==============================] - 0s 92us/step - loss: 17.6976 - mae: 3.1442\n",
      "Epoch 140/300\n",
      "392/392 [==============================] - ETA: 0s - loss: 17.4043 - mae: 3.64 - 0s 92us/step - loss: 17.4557 - mae: 3.2244\n",
      "Epoch 141/300\n",
      "392/392 [==============================] - 0s 82us/step - loss: 18.3519 - mae: 3.3270\n",
      "Epoch 142/300\n",
      "392/392 [==============================] - 0s 102us/step - loss: 17.6639 - mae: 3.1143\n",
      "Epoch 143/300\n",
      "392/392 [==============================] - 0s 92us/step - loss: 17.9899 - mae: 3.1380\n",
      "Epoch 144/300\n",
      "392/392 [==============================] - 0s 92us/step - loss: 17.2619 - mae: 3.1044\n",
      "Epoch 145/300\n",
      "392/392 [==============================] - 0s 92us/step - loss: 17.4550 - mae: 3.1538\n",
      "Epoch 146/300\n",
      "392/392 [==============================] - 0s 82us/step - loss: 17.7627 - mae: 3.1092\n",
      "Epoch 147/300\n",
      "392/392 [==============================] - 0s 92us/step - loss: 18.6404 - mae: 3.2632\n",
      "Epoch 148/300\n",
      "392/392 [==============================] - 0s 92us/step - loss: 18.2242 - mae: 3.3151\n",
      "Epoch 149/300\n",
      "392/392 [==============================] - 0s 92us/step - loss: 17.2108 - mae: 3.1345\n",
      "Epoch 150/300\n",
      "392/392 [==============================] - 0s 102us/step - loss: 16.6542 - mae: 3.0520\n",
      "Epoch 151/300\n",
      "392/392 [==============================] - 0s 92us/step - loss: 17.4011 - mae: 3.0988\n",
      "Epoch 152/300\n",
      "392/392 [==============================] - 0s 92us/step - loss: 17.5573 - mae: 3.1549\n",
      "Epoch 153/300\n",
      "392/392 [==============================] - 0s 82us/step - loss: 16.9170 - mae: 3.1278\n",
      "Epoch 154/300\n",
      "392/392 [==============================] - 0s 82us/step - loss: 16.1716 - mae: 3.1269\n",
      "Epoch 155/300\n",
      "392/392 [==============================] - 0s 92us/step - loss: 16.0701 - mae: 3.0816\n",
      "Epoch 156/300\n",
      "392/392 [==============================] - 0s 92us/step - loss: 16.8700 - mae: 3.1640\n",
      "Epoch 157/300\n",
      "392/392 [==============================] - 0s 92us/step - loss: 16.9502 - mae: 3.1167\n",
      "Epoch 158/300\n",
      "392/392 [==============================] - 0s 92us/step - loss: 17.3837 - mae: 3.1434\n",
      "Epoch 159/300\n",
      "392/392 [==============================] - 0s 102us/step - loss: 16.8101 - mae: 3.0842\n",
      "Epoch 160/300\n",
      "392/392 [==============================] - 0s 92us/step - loss: 17.3042 - mae: 3.1583\n",
      "Epoch 161/300\n",
      "392/392 [==============================] - 0s 122us/step - loss: 15.4560 - mae: 3.0423\n",
      "Epoch 162/300\n",
      "392/392 [==============================] - 0s 183us/step - loss: 16.4079 - mae: 3.0905\n",
      "Epoch 163/300\n"
     ]
    },
    {
     "name": "stdout",
     "output_type": "stream",
     "text": [
      "392/392 [==============================] - 0s 194us/step - loss: 18.3863 - mae: 3.2616\n",
      "Epoch 164/300\n",
      "392/392 [==============================] - 0s 194us/step - loss: 15.3598 - mae: 2.9938\n",
      "Epoch 165/300\n",
      "392/392 [==============================] - 0s 194us/step - loss: 15.7972 - mae: 3.1172\n",
      "Epoch 166/300\n",
      "392/392 [==============================] - 0s 183us/step - loss: 16.1110 - mae: 3.0446\n",
      "Epoch 167/300\n",
      "392/392 [==============================] - 0s 183us/step - loss: 16.1014 - mae: 3.0083\n",
      "Epoch 168/300\n",
      "392/392 [==============================] - 0s 204us/step - loss: 15.2943 - mae: 2.9742\n",
      "Epoch 169/300\n",
      "392/392 [==============================] - 0s 194us/step - loss: 16.6133 - mae: 3.1657\n",
      "Epoch 170/300\n",
      "392/392 [==============================] - 0s 183us/step - loss: 15.6549 - mae: 2.9797\n",
      "Epoch 171/300\n",
      "392/392 [==============================] - 0s 194us/step - loss: 16.5230 - mae: 3.1595\n",
      "Epoch 172/300\n",
      "392/392 [==============================] - 0s 204us/step - loss: 15.0209 - mae: 2.9226\n",
      "Epoch 173/300\n",
      "392/392 [==============================] - 0s 194us/step - loss: 15.5828 - mae: 2.9876\n",
      "Epoch 174/300\n",
      "392/392 [==============================] - 0s 204us/step - loss: 16.4097 - mae: 3.0993\n",
      "Epoch 175/300\n",
      "392/392 [==============================] - 0s 214us/step - loss: 16.7135 - mae: 3.0684\n",
      "Epoch 176/300\n",
      "392/392 [==============================] - 0s 183us/step - loss: 14.7893 - mae: 2.8115\n",
      "Epoch 177/300\n",
      "392/392 [==============================] - 0s 183us/step - loss: 15.4235 - mae: 3.0267\n",
      "Epoch 178/300\n",
      "392/392 [==============================] - 0s 183us/step - loss: 16.9737 - mae: 3.1470\n",
      "Epoch 179/300\n",
      "392/392 [==============================] - 0s 194us/step - loss: 15.1814 - mae: 2.9585\n",
      "Epoch 180/300\n",
      "392/392 [==============================] - 0s 194us/step - loss: 15.0764 - mae: 2.9754\n",
      "Epoch 181/300\n",
      "392/392 [==============================] - 0s 214us/step - loss: 15.6326 - mae: 3.0511\n",
      "Epoch 182/300\n",
      "392/392 [==============================] - 0s 194us/step - loss: 16.7601 - mae: 3.1983\n",
      "Epoch 183/300\n",
      "392/392 [==============================] - 0s 183us/step - loss: 14.9542 - mae: 2.8873\n",
      "Epoch 184/300\n",
      "392/392 [==============================] - 0s 214us/step - loss: 15.1733 - mae: 2.9130\n",
      "Epoch 185/300\n",
      "392/392 [==============================] - 0s 173us/step - loss: 14.8422 - mae: 2.9732\n",
      "Epoch 186/300\n",
      "392/392 [==============================] - 0s 183us/step - loss: 15.3438 - mae: 2.9798\n",
      "Epoch 187/300\n",
      "392/392 [==============================] - 0s 122us/step - loss: 15.6895 - mae: 2.9609\n",
      "Epoch 188/300\n",
      "392/392 [==============================] - 0s 92us/step - loss: 15.3103 - mae: 3.0285\n",
      "Epoch 189/300\n",
      "392/392 [==============================] - 0s 92us/step - loss: 14.8479 - mae: 2.9380\n",
      "Epoch 190/300\n",
      "392/392 [==============================] - 0s 92us/step - loss: 14.3471 - mae: 2.8180\n",
      "Epoch 191/300\n",
      "392/392 [==============================] - 0s 92us/step - loss: 15.6857 - mae: 3.0376\n",
      "Epoch 192/300\n",
      "392/392 [==============================] - 0s 92us/step - loss: 15.1243 - mae: 2.9475\n",
      "Epoch 193/300\n",
      "392/392 [==============================] - 0s 92us/step - loss: 14.9667 - mae: 2.9177\n",
      "Epoch 194/300\n",
      "392/392 [==============================] - 0s 102us/step - loss: 15.0961 - mae: 3.0092\n",
      "Epoch 195/300\n",
      "392/392 [==============================] - 0s 92us/step - loss: 15.1363 - mae: 2.9635\n",
      "Epoch 196/300\n",
      "392/392 [==============================] - 0s 92us/step - loss: 14.2388 - mae: 2.9316\n",
      "Epoch 197/300\n",
      "392/392 [==============================] - 0s 102us/step - loss: 15.2267 - mae: 3.0293\n",
      "Epoch 198/300\n",
      "392/392 [==============================] - 0s 92us/step - loss: 14.7742 - mae: 2.9443\n",
      "Epoch 199/300\n",
      "392/392 [==============================] - 0s 102us/step - loss: 15.1757 - mae: 3.0102\n",
      "Epoch 200/300\n",
      "392/392 [==============================] - 0s 92us/step - loss: 15.0482 - mae: 2.9324\n",
      "Epoch 201/300\n",
      "392/392 [==============================] - 0s 92us/step - loss: 14.2570 - mae: 2.8613\n",
      "Epoch 202/300\n",
      "392/392 [==============================] - 0s 92us/step - loss: 13.9862 - mae: 2.8572\n",
      "Epoch 203/300\n",
      "392/392 [==============================] - 0s 92us/step - loss: 14.6136 - mae: 2.8750\n",
      "Epoch 204/300\n",
      "392/392 [==============================] - ETA: 0s - loss: 8.5657 - mae: 2.308 - 0s 92us/step - loss: 14.6451 - mae: 2.9149\n",
      "Epoch 205/300\n",
      "392/392 [==============================] - 0s 92us/step - loss: 15.2762 - mae: 2.9506\n",
      "Epoch 206/300\n",
      "392/392 [==============================] - 0s 82us/step - loss: 13.4794 - mae: 2.7763\n",
      "Epoch 207/300\n",
      "392/392 [==============================] - 0s 92us/step - loss: 15.0567 - mae: 2.9328\n",
      "Epoch 208/300\n",
      "392/392 [==============================] - 0s 92us/step - loss: 14.5588 - mae: 2.9127\n",
      "Epoch 209/300\n",
      "392/392 [==============================] - 0s 92us/step - loss: 14.7531 - mae: 2.9534\n",
      "Epoch 210/300\n",
      "392/392 [==============================] - 0s 82us/step - loss: 14.7819 - mae: 2.9284\n",
      "Epoch 211/300\n",
      "392/392 [==============================] - 0s 92us/step - loss: 14.0648 - mae: 2.8974\n",
      "Epoch 212/300\n",
      "392/392 [==============================] - 0s 92us/step - loss: 13.4342 - mae: 2.8602\n",
      "Epoch 213/300\n",
      "392/392 [==============================] - 0s 92us/step - loss: 14.3040 - mae: 2.8481\n",
      "Epoch 214/300\n",
      "392/392 [==============================] - 0s 82us/step - loss: 14.1816 - mae: 2.8429\n",
      "Epoch 215/300\n",
      "392/392 [==============================] - 0s 82us/step - loss: 15.6449 - mae: 3.0663\n",
      "Epoch 216/300\n",
      "392/392 [==============================] - 0s 82us/step - loss: 13.7713 - mae: 2.8252\n",
      "Epoch 217/300\n",
      "392/392 [==============================] - 0s 92us/step - loss: 14.2983 - mae: 2.8829\n",
      "Epoch 218/300\n",
      "392/392 [==============================] - 0s 92us/step - loss: 14.6641 - mae: 2.9066\n",
      "Epoch 219/300\n",
      "392/392 [==============================] - 0s 92us/step - loss: 13.4274 - mae: 2.7265\n",
      "Epoch 220/300\n",
      "392/392 [==============================] - 0s 92us/step - loss: 14.6471 - mae: 2.9698\n",
      "Epoch 221/300\n",
      "392/392 [==============================] - 0s 92us/step - loss: 14.4380 - mae: 2.8437\n",
      "Epoch 222/300\n",
      "392/392 [==============================] - 0s 82us/step - loss: 13.8376 - mae: 2.7643\n",
      "Epoch 223/300\n",
      "392/392 [==============================] - 0s 92us/step - loss: 13.8280 - mae: 2.7991\n",
      "Epoch 224/300\n",
      "392/392 [==============================] - 0s 92us/step - loss: 13.7302 - mae: 2.7463\n",
      "Epoch 225/300\n",
      "392/392 [==============================] - 0s 92us/step - loss: 14.5158 - mae: 2.9335\n",
      "Epoch 226/300\n",
      "392/392 [==============================] - 0s 92us/step - loss: 13.9453 - mae: 2.8645\n",
      "Epoch 227/300\n",
      "392/392 [==============================] - 0s 92us/step - loss: 13.3023 - mae: 2.7168\n",
      "Epoch 228/300\n",
      "392/392 [==============================] - 0s 81us/step - loss: 12.4965 - mae: 2.6810\n",
      "Epoch 229/300\n",
      "392/392 [==============================] - 0s 92us/step - loss: 13.7433 - mae: 2.8806\n",
      "Epoch 230/300\n",
      "392/392 [==============================] - 0s 82us/step - loss: 13.8958 - mae: 2.8683\n",
      "Epoch 231/300\n",
      "392/392 [==============================] - 0s 82us/step - loss: 13.9988 - mae: 2.9236\n",
      "Epoch 232/300\n",
      "392/392 [==============================] - 0s 102us/step - loss: 12.9424 - mae: 2.7524\n",
      "Epoch 233/300\n",
      "392/392 [==============================] - 0s 112us/step - loss: 13.4265 - mae: 2.7768\n",
      "Epoch 234/300\n",
      "392/392 [==============================] - 0s 102us/step - loss: 13.5264 - mae: 2.8588\n",
      "Epoch 235/300\n",
      "392/392 [==============================] - 0s 92us/step - loss: 13.6212 - mae: 2.8173\n",
      "Epoch 236/300\n",
      "392/392 [==============================] - 0s 102us/step - loss: 12.9437 - mae: 2.7235\n",
      "Epoch 237/300\n",
      "392/392 [==============================] - 0s 102us/step - loss: 13.6239 - mae: 2.8017\n",
      "Epoch 238/300\n",
      "392/392 [==============================] - 0s 102us/step - loss: 12.9300 - mae: 2.7467\n",
      "Epoch 239/300\n",
      "392/392 [==============================] - 0s 102us/step - loss: 12.8309 - mae: 2.7291\n",
      "Epoch 240/300\n",
      "392/392 [==============================] - 0s 92us/step - loss: 11.9153 - mae: 2.6158\n",
      "Epoch 241/300\n",
      "392/392 [==============================] - 0s 102us/step - loss: 14.1490 - mae: 2.9210\n",
      "Epoch 242/300\n",
      "392/392 [==============================] - 0s 112us/step - loss: 12.5875 - mae: 2.6764\n",
      "Epoch 243/300\n",
      "392/392 [==============================] - 0s 102us/step - loss: 13.1380 - mae: 2.7509\n",
      "Epoch 244/300\n",
      "392/392 [==============================] - 0s 92us/step - loss: 12.7316 - mae: 2.6904\n",
      "Epoch 245/300\n",
      "392/392 [==============================] - 0s 82us/step - loss: 13.9481 - mae: 2.8382\n",
      "Epoch 246/300\n",
      "392/392 [==============================] - 0s 102us/step - loss: 13.6955 - mae: 2.7989\n",
      "Epoch 247/300\n",
      "392/392 [==============================] - 0s 112us/step - loss: 13.5872 - mae: 2.8074\n",
      "Epoch 248/300\n",
      "392/392 [==============================] - ETA: 0s - loss: 12.3431 - mae: 3.09 - 0s 102us/step - loss: 12.3445 - mae: 2.6303\n",
      "Epoch 249/300\n",
      "392/392 [==============================] - 0s 92us/step - loss: 12.9657 - mae: 2.7435\n",
      "Epoch 250/300\n",
      "392/392 [==============================] - 0s 102us/step - loss: 11.7317 - mae: 2.6157\n",
      "Epoch 251/300\n",
      "392/392 [==============================] - 0s 92us/step - loss: 12.7126 - mae: 2.7035\n",
      "Epoch 252/300\n",
      "392/392 [==============================] - 0s 92us/step - loss: 13.3676 - mae: 2.7728\n",
      "Epoch 253/300\n",
      "392/392 [==============================] - 0s 102us/step - loss: 12.8442 - mae: 2.6585\n",
      "Epoch 254/300\n",
      "392/392 [==============================] - 0s 92us/step - loss: 12.9876 - mae: 2.7693\n",
      "Epoch 255/300\n",
      "392/392 [==============================] - ETA: 0s - loss: 23.7738 - mae: 4.56 - 0s 92us/step - loss: 11.7010 - mae: 2.6766\n",
      "Epoch 256/300\n",
      "392/392 [==============================] - 0s 102us/step - loss: 12.6183 - mae: 2.7539\n",
      "Epoch 257/300\n",
      "392/392 [==============================] - 0s 122us/step - loss: 12.1733 - mae: 2.6189\n",
      "Epoch 258/300\n",
      "392/392 [==============================] - 0s 132us/step - loss: 12.5561 - mae: 2.7857\n",
      "Epoch 259/300\n",
      "392/392 [==============================] - 0s 122us/step - loss: 12.4886 - mae: 2.6769\n",
      "Epoch 260/300\n",
      "392/392 [==============================] - 0s 112us/step - loss: 12.0897 - mae: 2.6726\n",
      "Epoch 261/300\n",
      "392/392 [==============================] - 0s 102us/step - loss: 13.8156 - mae: 2.8644\n",
      "Epoch 262/300\n",
      "392/392 [==============================] - 0s 92us/step - loss: 11.8599 - mae: 2.6610\n",
      "Epoch 263/300\n",
      "392/392 [==============================] - 0s 82us/step - loss: 12.6123 - mae: 2.7275\n",
      "Epoch 264/300\n",
      "392/392 [==============================] - 0s 82us/step - loss: 11.3287 - mae: 2.6040\n",
      "Epoch 265/300\n",
      "392/392 [==============================] - 0s 82us/step - loss: 12.8757 - mae: 2.7359\n",
      "Epoch 266/300\n",
      "392/392 [==============================] - 0s 92us/step - loss: 12.9731 - mae: 2.7615\n",
      "Epoch 267/300\n",
      "392/392 [==============================] - 0s 92us/step - loss: 12.2560 - mae: 2.6411\n",
      "Epoch 268/300\n",
      "392/392 [==============================] - 0s 92us/step - loss: 11.6603 - mae: 2.6106\n",
      "Epoch 269/300\n",
      "392/392 [==============================] - 0s 92us/step - loss: 11.7374 - mae: 2.5861\n",
      "Epoch 270/300\n",
      "392/392 [==============================] - 0s 81us/step - loss: 11.3374 - mae: 2.5359\n",
      "Epoch 271/300\n",
      "392/392 [==============================] - 0s 92us/step - loss: 11.5521 - mae: 2.6309\n",
      "Epoch 272/300\n",
      "392/392 [==============================] - 0s 92us/step - loss: 12.4495 - mae: 2.7297\n",
      "Epoch 273/300\n",
      "392/392 [==============================] - 0s 102us/step - loss: 13.4819 - mae: 2.7592\n",
      "Epoch 274/300\n",
      "392/392 [==============================] - 0s 102us/step - loss: 11.7576 - mae: 2.6167\n",
      "Epoch 275/300\n",
      "392/392 [==============================] - 0s 92us/step - loss: 12.6500 - mae: 2.7102\n",
      "Epoch 276/300\n",
      "392/392 [==============================] - 0s 92us/step - loss: 12.1130 - mae: 2.6986\n",
      "Epoch 277/300\n",
      "392/392 [==============================] - 0s 102us/step - loss: 12.6061 - mae: 2.6971\n",
      "Epoch 278/300\n",
      "392/392 [==============================] - 0s 82us/step - loss: 10.7815 - mae: 2.4923\n",
      "Epoch 279/300\n",
      "392/392 [==============================] - 0s 92us/step - loss: 11.9385 - mae: 2.6677\n",
      "Epoch 280/300\n",
      "392/392 [==============================] - 0s 92us/step - loss: 12.6568 - mae: 2.6467\n",
      "Epoch 281/300\n",
      "392/392 [==============================] - 0s 102us/step - loss: 11.2138 - mae: 2.6459\n",
      "Epoch 282/300\n",
      "392/392 [==============================] - 0s 82us/step - loss: 11.8542 - mae: 2.7232\n",
      "Epoch 283/300\n",
      "392/392 [==============================] - 0s 102us/step - loss: 12.1527 - mae: 2.6086\n",
      "Epoch 284/300\n",
      "392/392 [==============================] - 0s 102us/step - loss: 12.4959 - mae: 2.6935\n",
      "Epoch 285/300\n",
      "392/392 [==============================] - 0s 92us/step - loss: 11.8072 - mae: 2.6391\n",
      "Epoch 286/300\n",
      "392/392 [==============================] - 0s 82us/step - loss: 11.7533 - mae: 2.6359\n",
      "Epoch 287/300\n",
      "392/392 [==============================] - 0s 92us/step - loss: 11.5828 - mae: 2.5384\n",
      "Epoch 288/300\n",
      "392/392 [==============================] - 0s 82us/step - loss: 12.0055 - mae: 2.5716\n",
      "Epoch 289/300\n",
      "392/392 [==============================] - 0s 82us/step - loss: 12.2772 - mae: 2.6715\n",
      "Epoch 290/300\n",
      "392/392 [==============================] - 0s 92us/step - loss: 12.5938 - mae: 2.7765\n",
      "Epoch 291/300\n",
      "392/392 [==============================] - 0s 92us/step - loss: 11.5339 - mae: 2.5917\n",
      "Epoch 292/300\n",
      "392/392 [==============================] - 0s 163us/step - loss: 11.1477 - mae: 2.5038\n",
      "Epoch 293/300\n",
      "392/392 [==============================] - 0s 183us/step - loss: 13.0166 - mae: 2.7866\n",
      "Epoch 294/300\n",
      "392/392 [==============================] - 0s 194us/step - loss: 12.2338 - mae: 2.6563\n",
      "Epoch 295/300\n",
      "392/392 [==============================] - 0s 204us/step - loss: 11.9551 - mae: 2.5777\n",
      "Epoch 296/300\n",
      "392/392 [==============================] - 0s 183us/step - loss: 11.2434 - mae: 2.5944\n",
      "Epoch 297/300\n",
      "392/392 [==============================] - 0s 204us/step - loss: 11.8108 - mae: 2.6672\n",
      "Epoch 298/300\n",
      "392/392 [==============================] - 0s 183us/step - loss: 11.6920 - mae: 2.5794\n",
      "Epoch 299/300\n",
      "392/392 [==============================] - 0s 204us/step - loss: 10.7304 - mae: 2.4796\n",
      "Epoch 300/300\n",
      "392/392 [==============================] - 0s 183us/step - loss: 11.2884 - mae: 2.5525\n"
     ]
    },
    {
     "data": {
      "text/plain": [
       "<keras.callbacks.callbacks.History at 0x261247be908>"
      ]
     },
     "execution_count": 56,
     "metadata": {},
     "output_type": "execute_result"
    }
   ],
   "source": [
    "m.fit(x_train, y_train, epochs=300, batch_size=10)"
   ]
  },
  {
   "cell_type": "code",
   "execution_count": 57,
   "metadata": {},
   "outputs": [
    {
     "data": {
      "text/plain": [
       "array([[15., 25., 30., 40., 16., 33., 37., 31., 19., 12., 26., 24., 20.,\n",
       "        27., 15., 26., 29., 30., 22., 34., 33., 25., 23., 21., 33., 26.,\n",
       "        32., 27., 26., 13., 23., 35., 23., 31., 24., 22., 40., 25., 24.,\n",
       "        26., 22., 26., 21., 23., 20., 21., 17., 27., 20., 17., 23., 38.,\n",
       "        25., 21., 24., 17., 17., 25., 25., 25., 28., 22., 19., 22., 29.,\n",
       "        21., 14., 24., 27., 26., 18., 35., 27., 35., 21., 25., 27., 22.,\n",
       "        32., 20., 27., 16., 26., 28., 26., 23., 36., 38., 31., 17., 20.,\n",
       "        26., 15.,  8., 26., 25., 25., 25.]], dtype=float32)"
      ]
     },
     "execution_count": 57,
     "metadata": {},
     "output_type": "execute_result"
    }
   ],
   "source": [
    "m.predict(x_test).round().T"
   ]
  },
  {
   "cell_type": "code",
   "execution_count": 58,
   "metadata": {},
   "outputs": [
    {
     "name": "stderr",
     "output_type": "stream",
     "text": [
      "C:\\Users\\pemtc\\Anaconda3\\lib\\site-packages\\ipykernel_launcher.py:1: FutureWarning: Method .as_matrix will be removed in a future version. Use .values instead.\n",
      "  \"\"\"Entry point for launching an IPython kernel.\n"
     ]
    },
    {
     "data": {
      "text/plain": [
       "array([ 8.4, 21.8, 34.7, 33.3, 11. , 31.6, 38.7, 36.2, 14.6, 13.8, 22.9,\n",
       "       20.1, 11.5, 23.3, 18.6, 19.6, 24.1, 25. , 19.6, 33.4, 33.1, 19.9,\n",
       "       21.2, 18. , 29.9, 23. , 22.5, 24.7, 20.1, 10.4, 16.2, 31.7, 16.8,\n",
       "       26.4, 19.8, 17.1, 34.9, 17.4, 22.3, 24.5, 22.2, 23.3, 19.6, 13.8,\n",
       "       16.3, 12.7, 14.6, 23.7, 15.2, 20.4, 27.9, 35.1, 24.3, 20.3, 22.2,\n",
       "       19.1, 12.7, 23.1, 21.1, 23.9, 26.4, 18.7, 16.6, 18.5, 41.3, 20.5,\n",
       "       11.9, 23.9, 23.8, 21.7, 15.6, 42.8, 24.7, 32. , 19.1, 20. , 23.3,\n",
       "       21.4, 24.6, 22.5, 24. , 13.5, 25. , 23.1, 19.3, 18.2, 32.9, 31.5,\n",
       "       28.7,  9.7, 19.5, 23.4, 10.9, 13.2, 19.1, 18.5, 20.6, 27.5],\n",
       "      dtype=float32)"
      ]
     },
     "execution_count": 58,
     "metadata": {},
     "output_type": "execute_result"
    }
   ],
   "source": [
    "y_test.as_matrix().astype(np.float32)"
   ]
  },
  {
   "cell_type": "code",
   "execution_count": 59,
   "metadata": {},
   "outputs": [
    {
     "name": "stdout",
     "output_type": "stream",
     "text": [
      "98/98 [==============================] - 0s 856us/step\n"
     ]
    },
    {
     "data": {
      "text/plain": [
       "[19.75105787783253, 3.785405397415161]"
      ]
     },
     "execution_count": 59,
     "metadata": {},
     "output_type": "execute_result"
    }
   ],
   "source": [
    "m.evaluate(x_test, y_test)"
   ]
  },
  {
   "cell_type": "markdown",
   "metadata": {},
   "source": [
    "This gives us a mean squared error of 19.75, which equates to a dollar amount of 4444. It is good practice to normalise the data, as the values all have different ranges. For each feature of the input data we subtract the mean and divide by the standard deviation of the feature so that the feature is centered around zero. We can do this with keras:<br>\n",
    "##### Example 2:"
   ]
  },
  {
   "cell_type": "code",
   "execution_count": 35,
   "metadata": {},
   "outputs": [
    {
     "name": "stdout",
     "output_type": "stream",
     "text": [
      "[[-0.26700581 -0.51753152  1.69507907 ...  1.28244149 -1.61207527\n",
      "   0.78119571]\n",
      " [-0.37545273  0.59421966 -0.8979651  ...  0.20449067  0.4182699\n",
      "  -0.95444113]\n",
      " [-0.37152097  0.94998003 -1.30603077 ... -0.08949592  0.4182699\n",
      "  -0.78405416]\n",
      " ...\n",
      " [-0.3428029  -0.51753152  1.69507907 ...  1.28244149  0.1359832\n",
      "   0.72199345]\n",
      " [-0.37192922 -0.51753152 -0.95430253 ... -0.04049815  0.39178187\n",
      "  -0.49959454]\n",
      " [-0.36908421  1.26127036 -0.66195697 ... -0.48147803  0.4182699\n",
      "  -1.2879953 ]]\n"
     ]
    }
   ],
   "source": [
    "scaler = pre.StandardScaler()\n",
    "scaler.fit(x_train)\n",
    "x_train_scaled = scaler.transform(x_train)\n",
    "scaler.fit(x_test)\n",
    "x_test_scaled = scaler.transform(x_test)\n",
    "print(x_test_scaled)"
   ]
  },
  {
   "cell_type": "code",
   "execution_count": 36,
   "metadata": {},
   "outputs": [
    {
     "name": "stdout",
     "output_type": "stream",
     "text": [
      "WARNING:tensorflow:From C:\\Users\\pemtc\\Anaconda3\\lib\\site-packages\\tensorflow\\python\\ops\\resource_variable_ops.py:435: colocate_with (from tensorflow.python.framework.ops) is deprecated and will be removed in a future version.\n",
      "Instructions for updating:\n",
      "Colocations handled automatically by placer.\n"
     ]
    }
   ],
   "source": [
    "m = kr.models.Sequential()\n",
    "\n",
    "m.add(kr.layers.Dense(13, input_dim=13, activation=\"relu\"))\n",
    "#m.add(kr.layers.Dense(13, activation=\"tanh\"))\n",
    "m.add(kr.layers.Dense(1, activation=\"linear\"))\n",
    "\n",
    "m.compile(loss=\"mean_squared_error\", optimizer=\"adam\", metrics = [\"mae\"])"
   ]
  },
  {
   "cell_type": "code",
   "execution_count": 37,
   "metadata": {},
   "outputs": [
    {
     "name": "stdout",
     "output_type": "stream",
     "text": [
      "WARNING:tensorflow:From C:\\Users\\pemtc\\Anaconda3\\lib\\site-packages\\tensorflow\\python\\ops\\math_ops.py:3066: to_int32 (from tensorflow.python.ops.math_ops) is deprecated and will be removed in a future version.\n",
      "Instructions for updating:\n",
      "Use tf.cast instead.\n",
      "Train on 313 samples, validate on 79 samples\n",
      "Epoch 1/150\n",
      "313/313 [==============================] - 0s 408us/step - loss: 512.8265 - mae: 21.3457 - val_loss: 531.0163 - val_mae: 21.7110\n",
      "Epoch 2/150\n",
      "313/313 [==============================] - 0s 86us/step - loss: 496.2641 - mae: 20.9904 - val_loss: 510.8271 - val_mae: 21.2862\n",
      "Epoch 3/150\n",
      "313/313 [==============================] - 0s 99us/step - loss: 479.4550 - mae: 20.6284 - val_loss: 489.2374 - val_mae: 20.8197\n",
      "Epoch 4/150\n",
      "313/313 [==============================] - 0s 102us/step - loss: 461.3564 - mae: 20.2229 - val_loss: 467.5163 - val_mae: 20.3296\n",
      "Epoch 5/150\n",
      "313/313 [==============================] - 0s 99us/step - loss: 442.4570 - mae: 19.7818 - val_loss: 443.7896 - val_mae: 19.7796\n",
      "Epoch 6/150\n",
      "313/313 [==============================] - 0s 102us/step - loss: 421.5347 - mae: 19.2818 - val_loss: 418.3328 - val_mae: 19.1619\n",
      "Epoch 7/150\n",
      "313/313 [==============================] - 0s 102us/step - loss: 399.3482 - mae: 18.7270 - val_loss: 391.5679 - val_mae: 18.4879\n",
      "Epoch 8/150\n",
      "313/313 [==============================] - 0s 92us/step - loss: 375.4230 - mae: 18.1133 - val_loss: 364.7692 - val_mae: 17.7714\n",
      "Epoch 9/150\n",
      "313/313 [==============================] - 0s 92us/step - loss: 350.9022 - mae: 17.4431 - val_loss: 334.8727 - val_mae: 16.9467\n",
      "Epoch 10/150\n",
      "313/313 [==============================] - 0s 96us/step - loss: 324.8176 - mae: 16.7001 - val_loss: 306.4743 - val_mae: 16.1054\n",
      "Epoch 11/150\n",
      "313/313 [==============================] - 0s 89us/step - loss: 298.1130 - mae: 15.9143 - val_loss: 276.8547 - val_mae: 15.1719\n",
      "Epoch 12/150\n",
      "313/313 [==============================] - 0s 99us/step - loss: 270.5333 - mae: 15.0492 - val_loss: 245.9288 - val_mae: 14.1408\n",
      "Epoch 13/150\n",
      "313/313 [==============================] - 0s 86us/step - loss: 242.8107 - mae: 14.1343 - val_loss: 216.4985 - val_mae: 13.1137\n",
      "Epoch 14/150\n",
      "313/313 [==============================] - 0s 92us/step - loss: 215.6325 - mae: 13.2097 - val_loss: 187.8702 - val_mae: 12.0705\n",
      "Epoch 15/150\n",
      "313/313 [==============================] - 0s 96us/step - loss: 189.5553 - mae: 12.2349 - val_loss: 160.9835 - val_mae: 10.9693\n",
      "Epoch 16/150\n",
      "313/313 [==============================] - 0s 102us/step - loss: 164.7684 - mae: 11.2643 - val_loss: 137.4396 - val_mae: 9.9331\n",
      "Epoch 17/150\n",
      "313/313 [==============================] - 0s 92us/step - loss: 142.4635 - mae: 10.3599 - val_loss: 116.4774 - val_mae: 9.0266\n",
      "Epoch 18/150\n",
      "313/313 [==============================] - 0s 92us/step - loss: 122.6288 - mae: 9.4716 - val_loss: 99.5703 - val_mae: 8.2385\n",
      "Epoch 19/150\n",
      "313/313 [==============================] - 0s 182us/step - loss: 105.7687 - mae: 8.7049 - val_loss: 85.7362 - val_mae: 7.6208\n",
      "Epoch 20/150\n",
      "313/313 [==============================] - 0s 220us/step - loss: 91.4933 - mae: 8.0382 - val_loss: 74.9949 - val_mae: 7.1692\n",
      "Epoch 21/150\n",
      "313/313 [==============================] - 0s 207us/step - loss: 79.4682 - mae: 7.4810 - val_loss: 66.5325 - val_mae: 6.7911\n",
      "Epoch 22/150\n",
      "313/313 [==============================] - 0s 188us/step - loss: 69.8232 - mae: 6.9797 - val_loss: 59.5366 - val_mae: 6.4479\n",
      "Epoch 23/150\n",
      "313/313 [==============================] - 0s 198us/step - loss: 61.6985 - mae: 6.5453 - val_loss: 54.2693 - val_mae: 6.1651\n",
      "Epoch 24/150\n",
      "313/313 [==============================] - 0s 220us/step - loss: 55.1887 - mae: 6.1616 - val_loss: 49.4688 - val_mae: 5.8824\n",
      "Epoch 25/150\n",
      "313/313 [==============================] - 0s 194us/step - loss: 49.4226 - mae: 5.8153 - val_loss: 45.2934 - val_mae: 5.6404\n",
      "Epoch 26/150\n",
      "313/313 [==============================] - 0s 194us/step - loss: 44.6588 - mae: 5.4990 - val_loss: 41.6065 - val_mae: 5.4155\n",
      "Epoch 27/150\n",
      "313/313 [==============================] - 0s 201us/step - loss: 40.5475 - mae: 5.2104 - val_loss: 38.7202 - val_mae: 5.2208\n",
      "Epoch 28/150\n",
      "313/313 [==============================] - 0s 198us/step - loss: 37.1871 - mae: 4.9630 - val_loss: 35.9290 - val_mae: 5.0369\n",
      "Epoch 29/150\n",
      "313/313 [==============================] - 0s 220us/step - loss: 34.3448 - mae: 4.7415 - val_loss: 33.5357 - val_mae: 4.8645\n",
      "Epoch 30/150\n",
      "313/313 [==============================] - 0s 198us/step - loss: 31.8219 - mae: 4.5265 - val_loss: 31.0183 - val_mae: 4.6779\n",
      "Epoch 31/150\n",
      "313/313 [==============================] - 0s 204us/step - loss: 29.8006 - mae: 4.3417 - val_loss: 29.0051 - val_mae: 4.5199\n",
      "Epoch 32/150\n",
      "313/313 [==============================] - 0s 194us/step - loss: 28.0598 - mae: 4.1743 - val_loss: 27.2832 - val_mae: 4.3767\n",
      "Epoch 33/150\n",
      "313/313 [==============================] - 0s 204us/step - loss: 26.5381 - mae: 4.0254 - val_loss: 25.8881 - val_mae: 4.2629\n",
      "Epoch 34/150\n",
      "313/313 [==============================] - 0s 207us/step - loss: 25.2741 - mae: 3.9105 - val_loss: 24.5349 - val_mae: 4.1596\n",
      "Epoch 35/150\n",
      "313/313 [==============================] - 0s 185us/step - loss: 24.1616 - mae: 3.7933 - val_loss: 23.3490 - val_mae: 4.0703\n",
      "Epoch 36/150\n",
      "313/313 [==============================] - 0s 198us/step - loss: 23.2104 - mae: 3.6932 - val_loss: 22.2919 - val_mae: 3.9780\n",
      "Epoch 37/150\n",
      "313/313 [==============================] - 0s 198us/step - loss: 22.3552 - mae: 3.6114 - val_loss: 21.4818 - val_mae: 3.9165\n",
      "Epoch 38/150\n",
      "313/313 [==============================] - 0s 191us/step - loss: 21.7308 - mae: 3.5543 - val_loss: 20.7187 - val_mae: 3.8589\n",
      "Epoch 39/150\n",
      "313/313 [==============================] - 0s 217us/step - loss: 21.1671 - mae: 3.5041 - val_loss: 20.0815 - val_mae: 3.8092\n",
      "Epoch 40/150\n",
      "313/313 [==============================] - 0s 204us/step - loss: 20.6171 - mae: 3.4430 - val_loss: 19.4949 - val_mae: 3.7553\n",
      "Epoch 41/150\n",
      "313/313 [==============================] - 0s 204us/step - loss: 20.0981 - mae: 3.3968 - val_loss: 19.0115 - val_mae: 3.7178\n",
      "Epoch 42/150\n",
      "313/313 [==============================] - 0s 201us/step - loss: 19.7021 - mae: 3.3591 - val_loss: 18.4022 - val_mae: 3.6529\n",
      "Epoch 43/150\n",
      "313/313 [==============================] - 0s 204us/step - loss: 19.2913 - mae: 3.3115 - val_loss: 18.0893 - val_mae: 3.6207\n",
      "Epoch 44/150\n",
      "313/313 [==============================] - 0s 194us/step - loss: 18.9488 - mae: 3.2688 - val_loss: 17.8276 - val_mae: 3.5931\n",
      "Epoch 45/150\n",
      "313/313 [==============================] - 0s 220us/step - loss: 18.6693 - mae: 3.2433 - val_loss: 17.4694 - val_mae: 3.5530\n",
      "Epoch 46/150\n",
      "313/313 [==============================] - 0s 213us/step - loss: 18.3857 - mae: 3.2148 - val_loss: 17.2552 - val_mae: 3.5362\n",
      "Epoch 47/150\n",
      "313/313 [==============================] - 0s 201us/step - loss: 18.1336 - mae: 3.1957 - val_loss: 17.0926 - val_mae: 3.5207\n",
      "Epoch 48/150\n",
      "313/313 [==============================] - 0s 198us/step - loss: 17.9281 - mae: 3.1694 - val_loss: 16.8832 - val_mae: 3.4951\n",
      "Epoch 49/150\n",
      "313/313 [==============================] - 0s 198us/step - loss: 17.6775 - mae: 3.1489 - val_loss: 16.6690 - val_mae: 3.4680\n",
      "Epoch 50/150\n",
      "313/313 [==============================] - 0s 198us/step - loss: 17.4717 - mae: 3.1315 - val_loss: 16.5568 - val_mae: 3.4568\n",
      "Epoch 51/150\n",
      "313/313 [==============================] - 0s 210us/step - loss: 17.2853 - mae: 3.1165 - val_loss: 16.5208 - val_mae: 3.4542\n",
      "Epoch 52/150\n",
      "313/313 [==============================] - 0s 210us/step - loss: 17.0826 - mae: 3.0960 - val_loss: 16.3175 - val_mae: 3.4276\n",
      "Epoch 53/150\n",
      "313/313 [==============================] - 0s 191us/step - loss: 16.9289 - mae: 3.0832 - val_loss: 16.2244 - val_mae: 3.4171\n",
      "Epoch 54/150\n",
      "313/313 [==============================] - 0s 191us/step - loss: 16.7054 - mae: 3.0600 - val_loss: 16.0706 - val_mae: 3.3902\n",
      "Epoch 55/150\n",
      "313/313 [==============================] - 0s 185us/step - loss: 16.5277 - mae: 3.0387 - val_loss: 15.8924 - val_mae: 3.3632\n",
      "Epoch 56/150\n",
      "313/313 [==============================] - 0s 201us/step - loss: 16.3916 - mae: 3.0144 - val_loss: 15.6959 - val_mae: 3.3316\n",
      "Epoch 57/150\n",
      "313/313 [==============================] - 0s 201us/step - loss: 16.2232 - mae: 2.9965 - val_loss: 15.6511 - val_mae: 3.3320\n"
     ]
    },
    {
     "name": "stdout",
     "output_type": "stream",
     "text": [
      "Epoch 58/150\n",
      "313/313 [==============================] - 0s 213us/step - loss: 16.0626 - mae: 2.9961 - val_loss: 15.5431 - val_mae: 3.3211\n",
      "Epoch 59/150\n",
      "313/313 [==============================] - 0s 198us/step - loss: 15.8673 - mae: 2.9822 - val_loss: 15.4724 - val_mae: 3.3148\n",
      "Epoch 60/150\n",
      "313/313 [==============================] - 0s 191us/step - loss: 15.7835 - mae: 2.9641 - val_loss: 15.2882 - val_mae: 3.2851\n",
      "Epoch 61/150\n",
      "313/313 [==============================] - 0s 182us/step - loss: 15.5940 - mae: 2.9502 - val_loss: 15.2685 - val_mae: 3.2934\n",
      "Epoch 62/150\n",
      "313/313 [==============================] - 0s 191us/step - loss: 15.4415 - mae: 2.9313 - val_loss: 15.1362 - val_mae: 3.2734\n",
      "Epoch 63/150\n",
      "313/313 [==============================] - 0s 185us/step - loss: 15.2685 - mae: 2.9183 - val_loss: 15.0785 - val_mae: 3.2738\n",
      "Epoch 64/150\n",
      "313/313 [==============================] - 0s 159us/step - loss: 15.1441 - mae: 2.9045 - val_loss: 15.0111 - val_mae: 3.2673\n",
      "Epoch 65/150\n",
      "313/313 [==============================] - 0s 96us/step - loss: 14.9797 - mae: 2.8872 - val_loss: 14.8658 - val_mae: 3.2475\n",
      "Epoch 66/150\n",
      "313/313 [==============================] - 0s 96us/step - loss: 14.8291 - mae: 2.8770 - val_loss: 14.8612 - val_mae: 3.2576\n",
      "Epoch 67/150\n",
      "313/313 [==============================] - 0s 96us/step - loss: 14.7185 - mae: 2.8644 - val_loss: 14.8534 - val_mae: 3.2624\n",
      "Epoch 68/150\n",
      "313/313 [==============================] - 0s 92us/step - loss: 14.5543 - mae: 2.8453 - val_loss: 14.7012 - val_mae: 3.2405\n",
      "Epoch 69/150\n",
      "313/313 [==============================] - 0s 96us/step - loss: 14.4361 - mae: 2.8340 - val_loss: 14.5592 - val_mae: 3.2201\n",
      "Epoch 70/150\n",
      "313/313 [==============================] - 0s 89us/step - loss: 14.3168 - mae: 2.8237 - val_loss: 14.5748 - val_mae: 3.2334\n",
      "Epoch 71/150\n",
      "313/313 [==============================] - 0s 92us/step - loss: 14.2011 - mae: 2.8072 - val_loss: 14.5398 - val_mae: 3.2339\n",
      "Epoch 72/150\n",
      "313/313 [==============================] - 0s 86us/step - loss: 14.0586 - mae: 2.7988 - val_loss: 14.4634 - val_mae: 3.2256\n",
      "Epoch 73/150\n",
      "313/313 [==============================] - 0s 89us/step - loss: 13.9220 - mae: 2.7803 - val_loss: 14.3015 - val_mae: 3.1998\n",
      "Epoch 74/150\n",
      "313/313 [==============================] - 0s 86us/step - loss: 13.8040 - mae: 2.7685 - val_loss: 14.2289 - val_mae: 3.1923\n",
      "Epoch 75/150\n",
      "313/313 [==============================] - 0s 92us/step - loss: 13.6839 - mae: 2.7543 - val_loss: 14.2452 - val_mae: 3.2045\n",
      "Epoch 76/150\n",
      "313/313 [==============================] - 0s 83us/step - loss: 13.5851 - mae: 2.7404 - val_loss: 14.0682 - val_mae: 3.1756\n",
      "Epoch 77/150\n",
      "313/313 [==============================] - 0s 89us/step - loss: 13.4377 - mae: 2.7273 - val_loss: 14.0198 - val_mae: 3.1761\n",
      "Epoch 78/150\n",
      "313/313 [==============================] - 0s 96us/step - loss: 13.3295 - mae: 2.7197 - val_loss: 13.9523 - val_mae: 3.1681\n",
      "Epoch 79/150\n",
      "313/313 [==============================] - 0s 92us/step - loss: 13.2139 - mae: 2.7183 - val_loss: 13.9916 - val_mae: 3.1814\n",
      "Epoch 80/150\n",
      "313/313 [==============================] - 0s 89us/step - loss: 13.1298 - mae: 2.7072 - val_loss: 13.8673 - val_mae: 3.1653\n",
      "Epoch 81/150\n",
      "313/313 [==============================] - 0s 86us/step - loss: 12.9911 - mae: 2.6927 - val_loss: 13.8401 - val_mae: 3.1631\n",
      "Epoch 82/150\n",
      "313/313 [==============================] - 0s 92us/step - loss: 12.9078 - mae: 2.6732 - val_loss: 13.6270 - val_mae: 3.1297\n",
      "Epoch 83/150\n",
      "313/313 [==============================] - 0s 89us/step - loss: 12.8052 - mae: 2.6744 - val_loss: 13.6151 - val_mae: 3.1388\n",
      "Epoch 84/150\n",
      "313/313 [==============================] - 0s 92us/step - loss: 12.6766 - mae: 2.6532 - val_loss: 13.4826 - val_mae: 3.1208\n",
      "Epoch 85/150\n",
      "313/313 [==============================] - 0s 80us/step - loss: 12.5589 - mae: 2.6435 - val_loss: 13.4184 - val_mae: 3.1117\n",
      "Epoch 86/150\n",
      "313/313 [==============================] - 0s 105us/step - loss: 12.4695 - mae: 2.6414 - val_loss: 13.3818 - val_mae: 3.1071\n",
      "Epoch 87/150\n",
      "313/313 [==============================] - 0s 89us/step - loss: 12.3363 - mae: 2.6261 - val_loss: 13.2992 - val_mae: 3.0958\n",
      "Epoch 88/150\n",
      "313/313 [==============================] - 0s 92us/step - loss: 12.2494 - mae: 2.6071 - val_loss: 13.1635 - val_mae: 3.0762\n",
      "Epoch 89/150\n",
      "313/313 [==============================] - 0s 92us/step - loss: 12.1324 - mae: 2.5960 - val_loss: 13.1020 - val_mae: 3.0721\n",
      "Epoch 90/150\n",
      "313/313 [==============================] - 0s 89us/step - loss: 12.0369 - mae: 2.5943 - val_loss: 13.0261 - val_mae: 3.0644\n",
      "Epoch 91/150\n",
      "313/313 [==============================] - 0s 80us/step - loss: 11.9719 - mae: 2.5842 - val_loss: 13.0201 - val_mae: 3.0629\n",
      "Epoch 92/150\n",
      "313/313 [==============================] - 0s 86us/step - loss: 11.8403 - mae: 2.5779 - val_loss: 12.9467 - val_mae: 3.0579\n",
      "Epoch 93/150\n",
      "313/313 [==============================] - 0s 92us/step - loss: 11.7184 - mae: 2.5561 - val_loss: 12.8275 - val_mae: 3.0405\n",
      "Epoch 94/150\n",
      "313/313 [==============================] - 0s 86us/step - loss: 11.6271 - mae: 2.5529 - val_loss: 12.7660 - val_mae: 3.0346\n",
      "Epoch 95/150\n",
      "313/313 [==============================] - 0s 86us/step - loss: 11.5083 - mae: 2.5329 - val_loss: 12.7884 - val_mae: 3.0407\n",
      "Epoch 96/150\n",
      "313/313 [==============================] - 0s 80us/step - loss: 11.4404 - mae: 2.5277 - val_loss: 12.6815 - val_mae: 3.0276\n",
      "Epoch 97/150\n",
      "313/313 [==============================] - 0s 86us/step - loss: 11.3213 - mae: 2.5103 - val_loss: 12.6368 - val_mae: 3.0214\n",
      "Epoch 98/150\n",
      "313/313 [==============================] - 0s 89us/step - loss: 11.2416 - mae: 2.5088 - val_loss: 12.5528 - val_mae: 3.0123\n",
      "Epoch 99/150\n",
      "313/313 [==============================] - 0s 89us/step - loss: 11.1411 - mae: 2.4919 - val_loss: 12.3873 - val_mae: 2.9861\n",
      "Epoch 100/150\n",
      "313/313 [==============================] - 0s 76us/step - loss: 11.0278 - mae: 2.4855 - val_loss: 12.4389 - val_mae: 3.0019\n",
      "Epoch 101/150\n",
      "313/313 [==============================] - 0s 89us/step - loss: 10.9761 - mae: 2.4831 - val_loss: 12.3045 - val_mae: 2.9827\n",
      "Epoch 102/150\n",
      "313/313 [==============================] - 0s 92us/step - loss: 10.8828 - mae: 2.4646 - val_loss: 12.2699 - val_mae: 2.9800\n",
      "Epoch 103/150\n",
      "313/313 [==============================] - 0s 89us/step - loss: 10.7820 - mae: 2.4522 - val_loss: 12.0923 - val_mae: 2.9542\n",
      "Epoch 104/150\n",
      "313/313 [==============================] - 0s 80us/step - loss: 10.6802 - mae: 2.4465 - val_loss: 12.1624 - val_mae: 2.9669\n",
      "Epoch 105/150\n",
      "313/313 [==============================] - 0s 96us/step - loss: 10.5902 - mae: 2.4394 - val_loss: 12.0189 - val_mae: 2.9463\n",
      "Epoch 106/150\n",
      "313/313 [==============================] - 0s 99us/step - loss: 10.5183 - mae: 2.4312 - val_loss: 11.9544 - val_mae: 2.9377\n",
      "Epoch 107/150\n",
      "313/313 [==============================] - 0s 86us/step - loss: 10.4212 - mae: 2.4154 - val_loss: 11.8372 - val_mae: 2.9214\n",
      "Epoch 108/150\n",
      "313/313 [==============================] - 0s 92us/step - loss: 10.3329 - mae: 2.4039 - val_loss: 11.7421 - val_mae: 2.9098\n",
      "Epoch 109/150\n",
      "313/313 [==============================] - 0s 83us/step - loss: 10.2644 - mae: 2.3977 - val_loss: 11.6772 - val_mae: 2.9011\n",
      "Epoch 110/150\n",
      "313/313 [==============================] - 0s 89us/step - loss: 10.1934 - mae: 2.3815 - val_loss: 11.5962 - val_mae: 2.8897\n",
      "Epoch 111/150\n",
      "313/313 [==============================] - 0s 92us/step - loss: 10.0954 - mae: 2.3753 - val_loss: 11.6317 - val_mae: 2.8952\n",
      "Epoch 112/150\n",
      "313/313 [==============================] - 0s 89us/step - loss: 10.0184 - mae: 2.3625 - val_loss: 11.4943 - val_mae: 2.8761\n",
      "Epoch 113/150\n",
      "313/313 [==============================] - 0s 89us/step - loss: 9.9417 - mae: 2.3534 - val_loss: 11.4294 - val_mae: 2.8675\n",
      "Epoch 114/150\n",
      "313/313 [==============================] - 0s 80us/step - loss: 9.8690 - mae: 2.3450 - val_loss: 11.2368 - val_mae: 2.8409\n",
      "Epoch 115/150\n",
      "313/313 [==============================] - 0s 83us/step - loss: 9.8525 - mae: 2.3329 - val_loss: 11.2092 - val_mae: 2.8350\n",
      "Epoch 116/150\n",
      "313/313 [==============================] - 0s 89us/step - loss: 9.7424 - mae: 2.3275 - val_loss: 11.1936 - val_mae: 2.8382\n",
      "Epoch 117/150\n"
     ]
    },
    {
     "name": "stdout",
     "output_type": "stream",
     "text": [
      "313/313 [==============================] - 0s 92us/step - loss: 9.6788 - mae: 2.3176 - val_loss: 10.9899 - val_mae: 2.8106\n",
      "Epoch 118/150\n",
      "313/313 [==============================] - 0s 86us/step - loss: 9.5948 - mae: 2.3032 - val_loss: 11.0756 - val_mae: 2.8186\n",
      "Epoch 119/150\n",
      "313/313 [==============================] - 0s 89us/step - loss: 9.4999 - mae: 2.2928 - val_loss: 11.0034 - val_mae: 2.8115\n",
      "Epoch 120/150\n",
      "313/313 [==============================] - 0s 89us/step - loss: 9.4254 - mae: 2.2866 - val_loss: 10.8018 - val_mae: 2.7869\n",
      "Epoch 121/150\n",
      "313/313 [==============================] - 0s 89us/step - loss: 9.3856 - mae: 2.2804 - val_loss: 10.7691 - val_mae: 2.7815\n",
      "Epoch 122/150\n",
      "313/313 [==============================] - 0s 76us/step - loss: 9.3006 - mae: 2.2647 - val_loss: 10.6456 - val_mae: 2.7626\n",
      "Epoch 123/150\n",
      "313/313 [==============================] - 0s 96us/step - loss: 9.2680 - mae: 2.2656 - val_loss: 10.7053 - val_mae: 2.7728\n",
      "Epoch 124/150\n",
      "313/313 [==============================] - 0s 86us/step - loss: 9.2175 - mae: 2.2498 - val_loss: 10.5501 - val_mae: 2.7439\n",
      "Epoch 125/150\n",
      "313/313 [==============================] - 0s 89us/step - loss: 9.1214 - mae: 2.2393 - val_loss: 10.5458 - val_mae: 2.7491\n",
      "Epoch 126/150\n",
      "313/313 [==============================] - 0s 86us/step - loss: 9.0846 - mae: 2.2394 - val_loss: 10.5257 - val_mae: 2.7455\n",
      "Epoch 127/150\n",
      "313/313 [==============================] - 0s 86us/step - loss: 9.0284 - mae: 2.2287 - val_loss: 10.4358 - val_mae: 2.7334\n",
      "Epoch 128/150\n",
      "313/313 [==============================] - 0s 83us/step - loss: 8.9911 - mae: 2.2257 - val_loss: 10.3724 - val_mae: 2.7226\n",
      "Epoch 129/150\n",
      "313/313 [==============================] - 0s 92us/step - loss: 8.9278 - mae: 2.2138 - val_loss: 10.4615 - val_mae: 2.7356\n",
      "Epoch 130/150\n",
      "313/313 [==============================] - 0s 92us/step - loss: 8.8922 - mae: 2.2136 - val_loss: 10.3376 - val_mae: 2.7154\n",
      "Epoch 131/150\n",
      "313/313 [==============================] - 0s 83us/step - loss: 8.8433 - mae: 2.1992 - val_loss: 10.2481 - val_mae: 2.7021\n",
      "Epoch 132/150\n",
      "313/313 [==============================] - 0s 191us/step - loss: 8.7932 - mae: 2.1904 - val_loss: 10.1565 - val_mae: 2.6889\n",
      "Epoch 133/150\n",
      "313/313 [==============================] - 0s 217us/step - loss: 8.7326 - mae: 2.1795 - val_loss: 10.0106 - val_mae: 2.6650\n",
      "Epoch 134/150\n",
      "313/313 [==============================] - 0s 194us/step - loss: 8.6773 - mae: 2.1734 - val_loss: 9.9881 - val_mae: 2.6635\n",
      "Epoch 135/150\n",
      "313/313 [==============================] - 0s 198us/step - loss: 8.6664 - mae: 2.1677 - val_loss: 10.0079 - val_mae: 2.6687\n",
      "Epoch 136/150\n",
      "313/313 [==============================] - 0s 191us/step - loss: 8.6248 - mae: 2.1604 - val_loss: 9.9672 - val_mae: 2.6634\n",
      "Epoch 137/150\n",
      "313/313 [==============================] - 0s 194us/step - loss: 8.5598 - mae: 2.1524 - val_loss: 9.9293 - val_mae: 2.6567\n",
      "Epoch 138/150\n",
      "313/313 [==============================] - 0s 188us/step - loss: 8.5090 - mae: 2.1465 - val_loss: 9.8482 - val_mae: 2.6439\n",
      "Epoch 139/150\n",
      "313/313 [==============================] - 0s 185us/step - loss: 8.4730 - mae: 2.1426 - val_loss: 9.8383 - val_mae: 2.6425\n",
      "Epoch 140/150\n",
      "313/313 [==============================] - 0s 188us/step - loss: 8.4536 - mae: 2.1332 - val_loss: 9.8070 - val_mae: 2.6357\n",
      "Epoch 141/150\n",
      "313/313 [==============================] - 0s 194us/step - loss: 8.4160 - mae: 2.1304 - val_loss: 9.6497 - val_mae: 2.6109\n",
      "Epoch 142/150\n",
      "313/313 [==============================] - 0s 198us/step - loss: 8.3706 - mae: 2.1234 - val_loss: 9.7080 - val_mae: 2.6231\n",
      "Epoch 143/150\n",
      "313/313 [==============================] - 0s 194us/step - loss: 8.3337 - mae: 2.1166 - val_loss: 9.5851 - val_mae: 2.6006\n",
      "Epoch 144/150\n",
      "313/313 [==============================] - 0s 191us/step - loss: 8.2947 - mae: 2.1104 - val_loss: 9.5872 - val_mae: 2.6039\n",
      "Epoch 145/150\n",
      "313/313 [==============================] - 0s 188us/step - loss: 8.2544 - mae: 2.1002 - val_loss: 9.5375 - val_mae: 2.5972\n",
      "Epoch 146/150\n",
      "313/313 [==============================] - 0s 191us/step - loss: 8.2286 - mae: 2.1016 - val_loss: 9.4562 - val_mae: 2.5828\n",
      "Epoch 147/150\n",
      "313/313 [==============================] - 0s 198us/step - loss: 8.1945 - mae: 2.0922 - val_loss: 9.4532 - val_mae: 2.5791\n",
      "Epoch 148/150\n",
      "313/313 [==============================] - 0s 194us/step - loss: 8.1558 - mae: 2.0892 - val_loss: 9.3811 - val_mae: 2.5715\n",
      "Epoch 149/150\n",
      "313/313 [==============================] - 0s 194us/step - loss: 8.1389 - mae: 2.0895 - val_loss: 9.3116 - val_mae: 2.5598\n",
      "Epoch 150/150\n",
      "313/313 [==============================] - 0s 198us/step - loss: 8.1077 - mae: 2.0801 - val_loss: 9.2847 - val_mae: 2.5550\n"
     ]
    }
   ],
   "source": [
    "history=m.fit(x_train_scaled, y_train, epochs=150, validation_split = .2, batch_size=10)"
   ]
  },
  {
   "cell_type": "code",
   "execution_count": 38,
   "metadata": {},
   "outputs": [
    {
     "data": {
      "text/plain": [
       "array([[13., 26., 33.,  7., 28., 33., 13., 30., 11., 25.,  7., 14., 14.,\n",
       "        22., 16., 18., 31., 21., 22., 18., 22., 19., 16., 27., 25., 30.,\n",
       "        16., 29., 15., 35., 16., 24., 26., 16., 18., 17., 22., 31., 24.,\n",
       "        21., 15., 15., 24., 12., 23., 16., 19., 23., 28., 39., 12., 16.,\n",
       "        18., 21., 19., 32., 24., 14., 19., 18., 24., 17., 24., 17., 22.,\n",
       "        29., 22., 12., 12., 22., 18., 12., 23., 40., 42., 32., 14., 17.,\n",
       "        21., 24., 22., 26., 17., 19., 16., 19., 17., 22., 23., 13., 16.,\n",
       "        23., 23., 15., 18., 15., 24., 29.]], dtype=float32)"
      ]
     },
     "execution_count": 38,
     "metadata": {},
     "output_type": "execute_result"
    }
   ],
   "source": [
    "#x_test_scaled = scaler.transform(x_test)\n",
    "m.predict(x_test_scaled).round().T"
   ]
  },
  {
   "cell_type": "code",
   "execution_count": 39,
   "metadata": {},
   "outputs": [
    {
     "name": "stderr",
     "output_type": "stream",
     "text": [
      "C:\\Users\\pemtc\\Anaconda3\\lib\\site-packages\\ipykernel_launcher.py:1: FutureWarning: Method .as_matrix will be removed in a future version. Use .values instead.\n",
      "  \"\"\"Entry point for launching an IPython kernel.\n"
     ]
    },
    {
     "data": {
      "text/plain": [
       "array([15.6, 28. , 33.4,  5. , 31.5, 32.7, 10.2, 33.1, 13.8, 29.6,  5. ,\n",
       "       14.1, 10.9, 23.8, 19.4, 18.6, 34.9, 19.9, 20.6, 19.8, 21.7, 21.5,\n",
       "       18.2, 29.8, 24.1, 23.6, 18.2, 33. , 14.5, 35.4, 18.5, 24.4, 30.8,\n",
       "       17.5, 22.2, 15.6, 26.4, 33.1, 25. , 21.4, 17.5, 13.3, 25.2, 10.5,\n",
       "       24.6, 11.5, 20.1, 22.6, 24.8, 37.6,  9.5, 19.6, 20.3, 22. , 22.2,\n",
       "       35.4, 22.8, 14.5, 21.1, 19.4, 24.2, 15. , 25.3, 16.7, 23.3, 41.3,\n",
       "       23. ,  8.1, 15.6, 26.2, 13.1, 16.5, 22.4, 48.3, 48.5, 36.4, 16.6,\n",
       "       19.5, 15.3, 23.3, 27.5, 23.9, 16.8, 24.5, 19.5, 20.8, 24.5, 24.4,\n",
       "       24.8, 20.2, 17.8, 23.7, 22.8, 13. , 22. , 17.4, 22.2, 32. ],\n",
       "      dtype=float32)"
      ]
     },
     "execution_count": 39,
     "metadata": {},
     "output_type": "execute_result"
    }
   ],
   "source": [
    "y_test.as_matrix().astype(np.float32)"
   ]
  },
  {
   "cell_type": "code",
   "execution_count": 40,
   "metadata": {},
   "outputs": [
    {
     "name": "stdout",
     "output_type": "stream",
     "text": [
      "98/98 [==============================] - 0s 71us/step\n"
     ]
    },
    {
     "data": {
      "text/plain": [
       "[10.91444613009083, 2.6123270988464355]"
      ]
     },
     "execution_count": 40,
     "metadata": {},
     "output_type": "execute_result"
    }
   ],
   "source": [
    "m.evaluate(x_test_scaled, y_test)"
   ]
  },
  {
   "cell_type": "markdown",
   "metadata": {},
   "source": [
    "That is a better result. Over the course of the project I experimented with a few of the variables in the model. For example, adding more depth with extra layers, adding more width with additional input nodes, changing the activation function, number of epochs, batch size etc. The above result appeared to be optimal. I found adding a second layer and changing the activation function to tanh in the first layer made the biggest difference. Reducing the number of input variables by removing the ones with least correlation to price didn't help either. The best result was achieved using all input variables. The next step is to try whitening the data, i.e. removing any underlying correlations. <br> \n",
    "##### Example 3:"
   ]
  },
  {
   "cell_type": "code",
   "execution_count": 41,
   "metadata": {},
   "outputs": [],
   "source": [
    "pca = dec.PCA(n_components=13, whiten=True)\n",
    "pca.fit(x_train)\n",
    "pca.fit(x_test)\n",
    "x_train_white = pd.DataFrame(pca.transform(x_train), columns=x.columns)\n",
    "#x_train_white"
   ]
  },
  {
   "cell_type": "code",
   "execution_count": 42,
   "metadata": {},
   "outputs": [],
   "source": [
    "m = kr.models.Sequential()\n",
    "\n",
    "m.add(kr.layers.Dense(13, input_dim=13, activation=\"tanh\"))\n",
    "m.add(kr.layers.Dense(13,activation=\"tanh\"))\n",
    "m.add(kr.layers.Dense(1, activation=\"linear\"))\n",
    "\n",
    "\n",
    "m.compile(loss=\"mean_squared_error\", optimizer=\"rmsprop\", metrics = [\"mae\"])"
   ]
  },
  {
   "cell_type": "code",
   "execution_count": 43,
   "metadata": {},
   "outputs": [
    {
     "name": "stdout",
     "output_type": "stream",
     "text": [
      "Epoch 1/300\n",
      "392/392 [==============================] - 0s 712us/step - loss: 514.6410 - mae: 21.3326\n",
      "Epoch 2/300\n",
      "392/392 [==============================] - 0s 183us/step - loss: 499.3629 - mae: 21.0019\n",
      "Epoch 3/300\n",
      "392/392 [==============================] - 0s 181us/step - loss: 482.6211 - mae: 20.6309\n",
      "Epoch 4/300\n",
      "392/392 [==============================] - 0s 186us/step - loss: 462.5533 - mae: 20.1736\n",
      "Epoch 5/300\n",
      "392/392 [==============================] - 0s 191us/step - loss: 438.5244 - mae: 19.6003\n",
      "Epoch 6/300\n",
      "392/392 [==============================] - 0s 186us/step - loss: 411.1534 - mae: 18.9151\n",
      "Epoch 7/300\n",
      "392/392 [==============================] - 0s 221us/step - loss: 380.9111 - mae: 18.1222\n",
      "Epoch 8/300\n",
      "392/392 [==============================] - 0s 186us/step - loss: 349.6548 - mae: 17.2509\n",
      "Epoch 9/300\n",
      "392/392 [==============================] - 0s 188us/step - loss: 318.5984 - mae: 16.3325\n",
      "Epoch 10/300\n",
      "392/392 [==============================] - 0s 188us/step - loss: 289.4888 - mae: 15.3935\n",
      "Epoch 11/300\n",
      "392/392 [==============================] - 0s 191us/step - loss: 262.7707 - mae: 14.4705\n",
      "Epoch 12/300\n",
      "392/392 [==============================] - 0s 188us/step - loss: 238.9293 - mae: 13.6110\n",
      "Epoch 13/300\n",
      "392/392 [==============================] - 0s 181us/step - loss: 218.4080 - mae: 12.8200\n",
      "Epoch 14/300\n",
      "392/392 [==============================] - 0s 181us/step - loss: 200.6115 - mae: 12.1052\n",
      "Epoch 15/300\n",
      "392/392 [==============================] - 0s 188us/step - loss: 185.0056 - mae: 11.4810\n",
      "Epoch 16/300\n",
      "392/392 [==============================] - 0s 178us/step - loss: 170.9596 - mae: 10.8830\n",
      "Epoch 17/300\n",
      "392/392 [==============================] - 0s 188us/step - loss: 158.4319 - mae: 10.3321\n",
      "Epoch 18/300\n",
      "392/392 [==============================] - 0s 188us/step - loss: 147.2043 - mae: 9.8156\n",
      "Epoch 19/300\n",
      "392/392 [==============================] - 0s 130us/step - loss: 137.0899 - mae: 9.3546\n",
      "Epoch 20/300\n",
      "392/392 [==============================] - 0s 84us/step - loss: 127.5774 - mae: 8.9222\n",
      "Epoch 21/300\n",
      "392/392 [==============================] - 0s 84us/step - loss: 118.8127 - mae: 8.4990\n",
      "Epoch 22/300\n",
      "392/392 [==============================] - 0s 79us/step - loss: 110.7588 - mae: 8.1211\n",
      "Epoch 23/300\n",
      "392/392 [==============================] - 0s 79us/step - loss: 103.2600 - mae: 7.7638\n",
      "Epoch 24/300\n",
      "392/392 [==============================] - 0s 79us/step - loss: 96.2558 - mae: 7.4037\n",
      "Epoch 25/300\n",
      "392/392 [==============================] - 0s 79us/step - loss: 89.4484 - mae: 7.0435\n",
      "Epoch 26/300\n",
      "392/392 [==============================] - 0s 81us/step - loss: 83.2190 - mae: 6.6902\n",
      "Epoch 27/300\n",
      "392/392 [==============================] - 0s 84us/step - loss: 77.3224 - mae: 6.3511\n",
      "Epoch 28/300\n",
      "392/392 [==============================] - 0s 81us/step - loss: 72.2629 - mae: 6.0487\n",
      "Epoch 29/300\n",
      "392/392 [==============================] - 0s 81us/step - loss: 67.3935 - mae: 5.7508\n",
      "Epoch 30/300\n",
      "392/392 [==============================] - 0s 84us/step - loss: 63.1899 - mae: 5.4990\n",
      "Epoch 31/300\n",
      "392/392 [==============================] - 0s 92us/step - loss: 59.4472 - mae: 5.2608\n",
      "Epoch 32/300\n",
      "392/392 [==============================] - 0s 76us/step - loss: 55.8098 - mae: 5.0274\n",
      "Epoch 33/300\n",
      "392/392 [==============================] - 0s 84us/step - loss: 52.5644 - mae: 4.8225\n",
      "Epoch 34/300\n",
      "392/392 [==============================] - 0s 81us/step - loss: 49.6417 - mae: 4.6518\n",
      "Epoch 35/300\n",
      "392/392 [==============================] - 0s 81us/step - loss: 46.9880 - mae: 4.5000\n",
      "Epoch 36/300\n",
      "392/392 [==============================] - 0s 74us/step - loss: 44.5670 - mae: 4.3622\n",
      "Epoch 37/300\n",
      "392/392 [==============================] - 0s 76us/step - loss: 42.3728 - mae: 4.2369\n",
      "Epoch 38/300\n",
      "392/392 [==============================] - 0s 81us/step - loss: 40.5970 - mae: 4.1238\n",
      "Epoch 39/300\n",
      "392/392 [==============================] - 0s 81us/step - loss: 38.8262 - mae: 4.0377\n",
      "Epoch 40/300\n",
      "392/392 [==============================] - 0s 81us/step - loss: 37.4340 - mae: 3.9772\n",
      "Epoch 41/300\n",
      "392/392 [==============================] - 0s 79us/step - loss: 36.3267 - mae: 3.9561\n",
      "Epoch 42/300\n",
      "392/392 [==============================] - 0s 81us/step - loss: 35.3684 - mae: 3.9161\n",
      "Epoch 43/300\n",
      "392/392 [==============================] - 0s 81us/step - loss: 34.4803 - mae: 3.9173\n",
      "Epoch 44/300\n",
      "392/392 [==============================] - 0s 71us/step - loss: 33.7665 - mae: 3.8824\n",
      "Epoch 45/300\n",
      "392/392 [==============================] - 0s 74us/step - loss: 33.0737 - mae: 3.8705\n",
      "Epoch 46/300\n",
      "392/392 [==============================] - 0s 76us/step - loss: 32.5112 - mae: 3.8889\n",
      "Epoch 47/300\n",
      "392/392 [==============================] - 0s 81us/step - loss: 31.8206 - mae: 3.8611\n",
      "Epoch 48/300\n",
      "392/392 [==============================] - 0s 79us/step - loss: 31.2805 - mae: 3.8564\n",
      "Epoch 49/300\n",
      "392/392 [==============================] - 0s 153us/step - loss: 30.7900 - mae: 3.8449\n",
      "Epoch 50/300\n",
      "392/392 [==============================] - 0s 178us/step - loss: 30.2585 - mae: 3.8099\n",
      "Epoch 51/300\n",
      "392/392 [==============================] - 0s 181us/step - loss: 29.7630 - mae: 3.7853\n",
      "Epoch 52/300\n",
      "392/392 [==============================] - 0s 181us/step - loss: 29.3270 - mae: 3.7563\n",
      "Epoch 53/300\n",
      "392/392 [==============================] - 0s 183us/step - loss: 28.7650 - mae: 3.7126\n",
      "Epoch 54/300\n",
      "392/392 [==============================] - 0s 183us/step - loss: 28.2997 - mae: 3.6847\n",
      "Epoch 55/300\n",
      "392/392 [==============================] - 0s 191us/step - loss: 27.8676 - mae: 3.6510\n",
      "Epoch 56/300\n",
      "392/392 [==============================] - 0s 193us/step - loss: 27.2204 - mae: 3.6131\n",
      "Epoch 57/300\n",
      "392/392 [==============================] - 0s 186us/step - loss: 26.8820 - mae: 3.5885\n",
      "Epoch 58/300\n",
      "392/392 [==============================] - 0s 193us/step - loss: 26.3961 - mae: 3.5342\n",
      "Epoch 59/300\n",
      "392/392 [==============================] - 0s 191us/step - loss: 25.7775 - mae: 3.4798\n",
      "Epoch 60/300\n",
      "392/392 [==============================] - 0s 176us/step - loss: 25.2511 - mae: 3.4392\n",
      "Epoch 61/300\n",
      "392/392 [==============================] - 0s 173us/step - loss: 24.7684 - mae: 3.3884\n",
      "Epoch 62/300\n",
      "392/392 [==============================] - 0s 201us/step - loss: 24.3070 - mae: 3.3505\n",
      "Epoch 63/300\n",
      "392/392 [==============================] - 0s 176us/step - loss: 23.9011 - mae: 3.3258\n",
      "Epoch 64/300\n",
      "392/392 [==============================] - 0s 178us/step - loss: 23.4352 - mae: 3.2920\n",
      "Epoch 65/300\n",
      "392/392 [==============================] - 0s 188us/step - loss: 22.9644 - mae: 3.2504\n",
      "Epoch 66/300\n",
      "392/392 [==============================] - 0s 183us/step - loss: 22.5670 - mae: 3.2285\n",
      "Epoch 67/300\n",
      "392/392 [==============================] - 0s 181us/step - loss: 22.1592 - mae: 3.2008\n",
      "Epoch 68/300\n",
      "392/392 [==============================] - 0s 183us/step - loss: 21.7588 - mae: 3.1565\n",
      "Epoch 69/300\n",
      "392/392 [==============================] - 0s 188us/step - loss: 21.2659 - mae: 3.1279\n",
      "Epoch 70/300\n",
      "392/392 [==============================] - 0s 186us/step - loss: 20.8635 - mae: 3.0828\n",
      "Epoch 71/300\n",
      "392/392 [==============================] - 0s 176us/step - loss: 20.4546 - mae: 3.0597\n",
      "Epoch 72/300\n",
      "392/392 [==============================] - 0s 186us/step - loss: 19.9625 - mae: 3.0108\n",
      "Epoch 73/300\n",
      "392/392 [==============================] - 0s 178us/step - loss: 19.5322 - mae: 2.9700\n",
      "Epoch 74/300\n",
      "392/392 [==============================] - 0s 170us/step - loss: 18.9935 - mae: 2.9266\n",
      "Epoch 75/300\n",
      "392/392 [==============================] - 0s 178us/step - loss: 18.5785 - mae: 2.8819\n",
      "Epoch 76/300\n",
      "392/392 [==============================] - 0s 186us/step - loss: 18.0772 - mae: 2.8496\n",
      "Epoch 77/300\n",
      "392/392 [==============================] - 0s 188us/step - loss: 17.5283 - mae: 2.7866\n",
      "Epoch 78/300\n",
      "392/392 [==============================] - 0s 191us/step - loss: 17.0404 - mae: 2.7288\n",
      "Epoch 79/300\n",
      "392/392 [==============================] - 0s 188us/step - loss: 16.5270 - mae: 2.6990\n",
      "Epoch 80/300\n",
      "392/392 [==============================] - 0s 188us/step - loss: 16.0278 - mae: 2.6456\n",
      "Epoch 81/300\n",
      "392/392 [==============================] - 0s 188us/step - loss: 15.5152 - mae: 2.5844\n",
      "Epoch 82/300\n"
     ]
    },
    {
     "name": "stdout",
     "output_type": "stream",
     "text": [
      "392/392 [==============================] - 0s 191us/step - loss: 15.0704 - mae: 2.5600\n",
      "Epoch 83/300\n",
      "392/392 [==============================] - 0s 181us/step - loss: 14.6438 - mae: 2.5099\n",
      "Epoch 84/300\n",
      "392/392 [==============================] - 0s 181us/step - loss: 14.1765 - mae: 2.4724\n",
      "Epoch 85/300\n",
      "392/392 [==============================] - 0s 176us/step - loss: 13.7575 - mae: 2.4247\n",
      "Epoch 86/300\n",
      "392/392 [==============================] - 0s 178us/step - loss: 13.3862 - mae: 2.3858\n",
      "Epoch 87/300\n",
      "392/392 [==============================] - 0s 176us/step - loss: 12.9927 - mae: 2.3417\n",
      "Epoch 88/300\n",
      "392/392 [==============================] - 0s 181us/step - loss: 12.6704 - mae: 2.3196\n",
      "Epoch 89/300\n",
      "392/392 [==============================] - 0s 99us/step - loss: 12.2973 - mae: 2.3054\n",
      "Epoch 90/300\n",
      "392/392 [==============================] - 0s 76us/step - loss: 11.9834 - mae: 2.2636\n",
      "Epoch 91/300\n",
      "392/392 [==============================] - 0s 79us/step - loss: 11.6700 - mae: 2.2242\n",
      "Epoch 92/300\n",
      "392/392 [==============================] - 0s 74us/step - loss: 11.4310 - mae: 2.2203\n",
      "Epoch 93/300\n",
      "392/392 [==============================] - 0s 79us/step - loss: 11.0894 - mae: 2.1754\n",
      "Epoch 94/300\n",
      "392/392 [==============================] - 0s 71us/step - loss: 10.8065 - mae: 2.1718\n",
      "Epoch 95/300\n",
      "392/392 [==============================] - 0s 74us/step - loss: 10.6055 - mae: 2.1424\n",
      "Epoch 96/300\n",
      "392/392 [==============================] - 0s 76us/step - loss: 10.3946 - mae: 2.1414\n",
      "Epoch 97/300\n",
      "392/392 [==============================] - 0s 84us/step - loss: 10.1632 - mae: 2.1208\n",
      "Epoch 98/300\n",
      "392/392 [==============================] - 0s 79us/step - loss: 9.9327 - mae: 2.0859\n",
      "Epoch 99/300\n",
      "392/392 [==============================] - 0s 76us/step - loss: 9.7342 - mae: 2.1005\n",
      "Epoch 100/300\n",
      "392/392 [==============================] - 0s 81us/step - loss: 9.4893 - mae: 2.0719\n",
      "Epoch 101/300\n",
      "392/392 [==============================] - 0s 79us/step - loss: 9.3754 - mae: 2.0458\n",
      "Epoch 102/300\n",
      "392/392 [==============================] - 0s 74us/step - loss: 9.1735 - mae: 2.0439\n",
      "Epoch 103/300\n",
      "392/392 [==============================] - 0s 79us/step - loss: 9.0395 - mae: 2.0276\n",
      "Epoch 104/300\n",
      "392/392 [==============================] - 0s 69us/step - loss: 8.8681 - mae: 1.9986\n",
      "Epoch 105/300\n",
      "392/392 [==============================] - 0s 74us/step - loss: 8.7392 - mae: 2.0022\n",
      "Epoch 106/300\n",
      "392/392 [==============================] - 0s 79us/step - loss: 8.5958 - mae: 1.9770\n",
      "Epoch 107/300\n",
      "392/392 [==============================] - 0s 76us/step - loss: 8.4721 - mae: 1.9853\n",
      "Epoch 108/300\n",
      "392/392 [==============================] - 0s 84us/step - loss: 8.3266 - mae: 1.9617\n",
      "Epoch 109/300\n",
      "392/392 [==============================] - 0s 76us/step - loss: 8.2197 - mae: 1.9490\n",
      "Epoch 110/300\n",
      "392/392 [==============================] - 0s 79us/step - loss: 8.0852 - mae: 1.9432\n",
      "Epoch 111/300\n",
      "392/392 [==============================] - 0s 79us/step - loss: 8.0071 - mae: 1.9458\n",
      "Epoch 112/300\n",
      "392/392 [==============================] - 0s 76us/step - loss: 7.7968 - mae: 1.9139\n",
      "Epoch 113/300\n",
      "392/392 [==============================] - 0s 76us/step - loss: 7.7347 - mae: 1.9022\n",
      "Epoch 114/300\n",
      "392/392 [==============================] - 0s 76us/step - loss: 7.6364 - mae: 1.8972\n",
      "Epoch 115/300\n",
      "392/392 [==============================] - 0s 74us/step - loss: 7.5466 - mae: 1.8912\n",
      "Epoch 116/300\n",
      "392/392 [==============================] - 0s 79us/step - loss: 7.3902 - mae: 1.8684\n",
      "Epoch 117/300\n",
      "392/392 [==============================] - 0s 69us/step - loss: 7.3958 - mae: 1.8811\n",
      "Epoch 118/300\n",
      "392/392 [==============================] - 0s 81us/step - loss: 7.2261 - mae: 1.8648\n",
      "Epoch 119/300\n",
      "392/392 [==============================] - 0s 74us/step - loss: 7.2190 - mae: 1.8631\n",
      "Epoch 120/300\n",
      "392/392 [==============================] - 0s 130us/step - loss: 7.0567 - mae: 1.8333\n",
      "Epoch 121/300\n",
      "392/392 [==============================] - 0s 181us/step - loss: 7.0079 - mae: 1.8288\n",
      "Epoch 122/300\n",
      "392/392 [==============================] - 0s 183us/step - loss: 6.9331 - mae: 1.8268\n",
      "Epoch 123/300\n",
      "392/392 [==============================] - ETA: 0s - loss: 6.9968 - mae: 1.825 - 0s 183us/step - loss: 6.8845 - mae: 1.8210\n",
      "Epoch 124/300\n",
      "392/392 [==============================] - 0s 183us/step - loss: 6.7610 - mae: 1.8176\n",
      "Epoch 125/300\n",
      "392/392 [==============================] - 0s 178us/step - loss: 6.7181 - mae: 1.8084\n",
      "Epoch 126/300\n",
      "392/392 [==============================] - 0s 181us/step - loss: 6.6682 - mae: 1.8136\n",
      "Epoch 127/300\n",
      "392/392 [==============================] - 0s 186us/step - loss: 6.5288 - mae: 1.7800\n",
      "Epoch 128/300\n",
      "392/392 [==============================] - 0s 188us/step - loss: 6.5076 - mae: 1.7735\n",
      "Epoch 129/300\n",
      "392/392 [==============================] - 0s 186us/step - loss: 6.4500 - mae: 1.7726\n",
      "Epoch 130/300\n",
      "392/392 [==============================] - 0s 178us/step - loss: 6.3618 - mae: 1.7625\n",
      "Epoch 131/300\n",
      "392/392 [==============================] - 0s 183us/step - loss: 6.3172 - mae: 1.7636\n",
      "Epoch 132/300\n",
      "392/392 [==============================] - 0s 186us/step - loss: 6.2229 - mae: 1.7625\n",
      "Epoch 133/300\n",
      "392/392 [==============================] - 0s 181us/step - loss: 6.2112 - mae: 1.7435\n",
      "Epoch 134/300\n",
      "392/392 [==============================] - 0s 181us/step - loss: 6.1448 - mae: 1.7269\n",
      "Epoch 135/300\n",
      "392/392 [==============================] - 0s 178us/step - loss: 6.1110 - mae: 1.7363\n",
      "Epoch 136/300\n",
      "392/392 [==============================] - 0s 188us/step - loss: 6.0139 - mae: 1.7264\n",
      "Epoch 137/300\n",
      "392/392 [==============================] - 0s 196us/step - loss: 5.9300 - mae: 1.7087\n",
      "Epoch 138/300\n",
      "392/392 [==============================] - 0s 188us/step - loss: 5.9404 - mae: 1.7144\n",
      "Epoch 139/300\n",
      "392/392 [==============================] - 0s 178us/step - loss: 5.8559 - mae: 1.7150\n",
      "Epoch 140/300\n",
      "392/392 [==============================] - 0s 178us/step - loss: 5.8239 - mae: 1.7076\n",
      "Epoch 141/300\n",
      "392/392 [==============================] - 0s 170us/step - loss: 5.7739 - mae: 1.6923\n",
      "Epoch 142/300\n",
      "392/392 [==============================] - 0s 173us/step - loss: 5.6356 - mae: 1.6824\n",
      "Epoch 143/300\n",
      "392/392 [==============================] - 0s 178us/step - loss: 5.6613 - mae: 1.6816\n",
      "Epoch 144/300\n",
      "392/392 [==============================] - 0s 186us/step - loss: 5.6103 - mae: 1.6803\n",
      "Epoch 145/300\n",
      "392/392 [==============================] - 0s 178us/step - loss: 5.5944 - mae: 1.6675\n",
      "Epoch 146/300\n",
      "392/392 [==============================] - 0s 173us/step - loss: 5.5728 - mae: 1.6774\n",
      "Epoch 147/300\n",
      "392/392 [==============================] - 0s 181us/step - loss: 5.5485 - mae: 1.6574\n",
      "Epoch 148/300\n",
      "392/392 [==============================] - 0s 183us/step - loss: 5.4508 - mae: 1.6500\n",
      "Epoch 149/300\n",
      "392/392 [==============================] - 0s 181us/step - loss: 5.3970 - mae: 1.6338\n",
      "Epoch 150/300\n",
      "392/392 [==============================] - 0s 188us/step - loss: 5.3812 - mae: 1.6440\n",
      "Epoch 151/300\n",
      "392/392 [==============================] - 0s 183us/step - loss: 5.4204 - mae: 1.6503\n",
      "Epoch 152/300\n",
      "392/392 [==============================] - 0s 170us/step - loss: 5.3299 - mae: 1.6545\n",
      "Epoch 153/300\n",
      "392/392 [==============================] - 0s 176us/step - loss: 5.2833 - mae: 1.6434\n",
      "Epoch 154/300\n",
      "392/392 [==============================] - 0s 181us/step - loss: 5.2758 - mae: 1.6363\n",
      "Epoch 155/300\n",
      "392/392 [==============================] - 0s 173us/step - loss: 5.2306 - mae: 1.6210\n",
      "Epoch 156/300\n",
      "392/392 [==============================] - 0s 186us/step - loss: 5.2183 - mae: 1.6269\n",
      "Epoch 157/300\n",
      "392/392 [==============================] - 0s 186us/step - loss: 5.1542 - mae: 1.6099\n",
      "Epoch 158/300\n",
      "392/392 [==============================] - 0s 181us/step - loss: 5.1242 - mae: 1.6068\n",
      "Epoch 159/300\n",
      "392/392 [==============================] - 0s 181us/step - loss: 5.1362 - mae: 1.6203\n",
      "Epoch 160/300\n",
      "392/392 [==============================] - 0s 173us/step - loss: 5.0342 - mae: 1.5845\n",
      "Epoch 161/300\n",
      "392/392 [==============================] - 0s 188us/step - loss: 5.0665 - mae: 1.6093\n",
      "Epoch 162/300\n",
      "392/392 [==============================] - 0s 183us/step - loss: 5.0502 - mae: 1.5946\n",
      "Epoch 163/300\n",
      "392/392 [==============================] - 0s 170us/step - loss: 4.9723 - mae: 1.5919\n",
      "Epoch 164/300\n"
     ]
    },
    {
     "name": "stdout",
     "output_type": "stream",
     "text": [
      "392/392 [==============================] - 0s 188us/step - loss: 4.8939 - mae: 1.5584\n",
      "Epoch 165/300\n",
      "392/392 [==============================] - 0s 178us/step - loss: 4.9835 - mae: 1.5830\n",
      "Epoch 166/300\n",
      "392/392 [==============================] - 0s 173us/step - loss: 4.9043 - mae: 1.5733\n",
      "Epoch 167/300\n",
      "392/392 [==============================] - 0s 183us/step - loss: 4.8732 - mae: 1.5684\n",
      "Epoch 168/300\n",
      "392/392 [==============================] - 0s 176us/step - loss: 4.8736 - mae: 1.5744\n",
      "Epoch 169/300\n",
      "392/392 [==============================] - 0s 188us/step - loss: 4.8448 - mae: 1.5657\n",
      "Epoch 170/300\n",
      "392/392 [==============================] - 0s 176us/step - loss: 4.8096 - mae: 1.5500\n",
      "Epoch 171/300\n",
      "392/392 [==============================] - 0s 193us/step - loss: 4.7223 - mae: 1.5522\n",
      "Epoch 172/300\n",
      "392/392 [==============================] - 0s 188us/step - loss: 4.7958 - mae: 1.5568\n",
      "Epoch 173/300\n",
      "392/392 [==============================] - 0s 181us/step - loss: 4.7388 - mae: 1.5477\n",
      "Epoch 174/300\n",
      "392/392 [==============================] - 0s 109us/step - loss: 4.6894 - mae: 1.5499\n",
      "Epoch 175/300\n",
      "392/392 [==============================] - 0s 81us/step - loss: 4.7089 - mae: 1.5520\n",
      "Epoch 176/300\n",
      "392/392 [==============================] - 0s 74us/step - loss: 4.7007 - mae: 1.5592\n",
      "Epoch 177/300\n",
      "392/392 [==============================] - 0s 76us/step - loss: 4.5995 - mae: 1.5263\n",
      "Epoch 178/300\n",
      "392/392 [==============================] - 0s 76us/step - loss: 4.6056 - mae: 1.5357\n",
      "Epoch 179/300\n",
      "392/392 [==============================] - 0s 79us/step - loss: 4.5724 - mae: 1.5425\n",
      "Epoch 180/300\n",
      "392/392 [==============================] - 0s 76us/step - loss: 4.5525 - mae: 1.5271\n",
      "Epoch 181/300\n",
      "392/392 [==============================] - 0s 79us/step - loss: 4.6223 - mae: 1.5335\n",
      "Epoch 182/300\n",
      "392/392 [==============================] - 0s 79us/step - loss: 4.5471 - mae: 1.5350\n",
      "Epoch 183/300\n",
      "392/392 [==============================] - 0s 84us/step - loss: 4.5533 - mae: 1.5242\n",
      "Epoch 184/300\n",
      "392/392 [==============================] - 0s 84us/step - loss: 4.5424 - mae: 1.5218\n",
      "Epoch 185/300\n",
      "392/392 [==============================] - 0s 79us/step - loss: 4.4575 - mae: 1.5032\n",
      "Epoch 186/300\n",
      "392/392 [==============================] - 0s 79us/step - loss: 4.4492 - mae: 1.5195\n",
      "Epoch 187/300\n",
      "392/392 [==============================] - 0s 79us/step - loss: 4.3883 - mae: 1.5024\n",
      "Epoch 188/300\n",
      "392/392 [==============================] - 0s 79us/step - loss: 4.3924 - mae: 1.5044\n",
      "Epoch 189/300\n",
      "392/392 [==============================] - 0s 76us/step - loss: 4.3488 - mae: 1.5160\n",
      "Epoch 190/300\n",
      "392/392 [==============================] - 0s 76us/step - loss: 4.3462 - mae: 1.4893\n",
      "Epoch 191/300\n",
      "392/392 [==============================] - 0s 79us/step - loss: 4.3258 - mae: 1.5162\n",
      "Epoch 192/300\n",
      "392/392 [==============================] - 0s 71us/step - loss: 4.3286 - mae: 1.4958\n",
      "Epoch 193/300\n",
      "392/392 [==============================] - 0s 79us/step - loss: 4.2576 - mae: 1.4808\n",
      "Epoch 194/300\n",
      "392/392 [==============================] - 0s 76us/step - loss: 4.2379 - mae: 1.4887\n",
      "Epoch 195/300\n",
      "392/392 [==============================] - 0s 76us/step - loss: 4.2660 - mae: 1.4894\n",
      "Epoch 196/300\n",
      "392/392 [==============================] - 0s 81us/step - loss: 4.1891 - mae: 1.4678\n",
      "Epoch 197/300\n",
      "392/392 [==============================] - 0s 76us/step - loss: 4.1659 - mae: 1.4802\n",
      "Epoch 198/300\n",
      "392/392 [==============================] - 0s 76us/step - loss: 4.2038 - mae: 1.4784\n",
      "Epoch 199/300\n",
      "392/392 [==============================] - 0s 89us/step - loss: 4.1723 - mae: 1.4680\n",
      "Epoch 200/300\n",
      "392/392 [==============================] - 0s 74us/step - loss: 4.0974 - mae: 1.4627\n",
      "Epoch 201/300\n",
      "392/392 [==============================] - 0s 76us/step - loss: 4.1422 - mae: 1.4739\n",
      "Epoch 202/300\n",
      "392/392 [==============================] - 0s 76us/step - loss: 4.0491 - mae: 1.4648\n",
      "Epoch 203/300\n",
      "392/392 [==============================] - 0s 81us/step - loss: 4.0776 - mae: 1.4675\n",
      "Epoch 204/300\n",
      "392/392 [==============================] - 0s 81us/step - loss: 4.0720 - mae: 1.4584\n",
      "Epoch 205/300\n",
      "392/392 [==============================] - 0s 191us/step - loss: 4.0026 - mae: 1.4543\n",
      "Epoch 206/300\n",
      "392/392 [==============================] - 0s 191us/step - loss: 4.0353 - mae: 1.4580\n",
      "Epoch 207/300\n",
      "392/392 [==============================] - 0s 183us/step - loss: 3.9835 - mae: 1.4366\n",
      "Epoch 208/300\n",
      "392/392 [==============================] - 0s 183us/step - loss: 3.9445 - mae: 1.4454\n",
      "Epoch 209/300\n",
      "392/392 [==============================] - 0s 173us/step - loss: 3.9496 - mae: 1.4387\n",
      "Epoch 210/300\n",
      "392/392 [==============================] - 0s 198us/step - loss: 3.9057 - mae: 1.4384\n",
      "Epoch 211/300\n",
      "392/392 [==============================] - ETA: 0s - loss: 3.9866 - mae: 1.434 - 0s 198us/step - loss: 3.9523 - mae: 1.4514\n",
      "Epoch 212/300\n",
      "392/392 [==============================] - 0s 173us/step - loss: 3.8192 - mae: 1.4159\n",
      "Epoch 213/300\n",
      "392/392 [==============================] - 0s 181us/step - loss: 3.8930 - mae: 1.4325\n",
      "Epoch 214/300\n",
      "392/392 [==============================] - 0s 178us/step - loss: 3.8367 - mae: 1.4389\n",
      "Epoch 215/300\n",
      "392/392 [==============================] - 0s 183us/step - loss: 3.7909 - mae: 1.4245\n",
      "Epoch 216/300\n",
      "392/392 [==============================] - 0s 176us/step - loss: 3.8277 - mae: 1.4244\n",
      "Epoch 217/300\n",
      "392/392 [==============================] - 0s 178us/step - loss: 3.8103 - mae: 1.4146\n",
      "Epoch 218/300\n",
      "392/392 [==============================] - 0s 183us/step - loss: 3.7588 - mae: 1.4144\n",
      "Epoch 219/300\n",
      "392/392 [==============================] - 0s 181us/step - loss: 3.7638 - mae: 1.4157\n",
      "Epoch 220/300\n",
      "392/392 [==============================] - 0s 173us/step - loss: 3.7209 - mae: 1.3975\n",
      "Epoch 221/300\n",
      "392/392 [==============================] - 0s 176us/step - loss: 3.6585 - mae: 1.3909\n",
      "Epoch 222/300\n",
      "392/392 [==============================] - 0s 173us/step - loss: 3.7026 - mae: 1.4082\n",
      "Epoch 223/300\n",
      "392/392 [==============================] - 0s 176us/step - loss: 3.6582 - mae: 1.4027\n",
      "Epoch 224/300\n",
      "392/392 [==============================] - 0s 176us/step - loss: 3.6310 - mae: 1.3836\n",
      "Epoch 225/300\n",
      "392/392 [==============================] - 0s 173us/step - loss: 3.5812 - mae: 1.3934\n",
      "Epoch 226/300\n",
      "392/392 [==============================] - 0s 181us/step - loss: 3.5962 - mae: 1.3923\n",
      "Epoch 227/300\n",
      "392/392 [==============================] - 0s 193us/step - loss: 3.5568 - mae: 1.3801\n",
      "Epoch 228/300\n",
      "392/392 [==============================] - 0s 181us/step - loss: 3.5928 - mae: 1.3791\n",
      "Epoch 229/300\n",
      "392/392 [==============================] - 0s 170us/step - loss: 3.5698 - mae: 1.3905\n",
      "Epoch 230/300\n",
      "392/392 [==============================] - 0s 183us/step - loss: 3.5677 - mae: 1.3761\n",
      "Epoch 231/300\n",
      "392/392 [==============================] - 0s 176us/step - loss: 3.5314 - mae: 1.3698\n",
      "Epoch 232/300\n",
      "392/392 [==============================] - 0s 183us/step - loss: 3.4394 - mae: 1.3770\n",
      "Epoch 233/300\n",
      "392/392 [==============================] - 0s 181us/step - loss: 3.5257 - mae: 1.3867\n",
      "Epoch 234/300\n",
      "392/392 [==============================] - 0s 196us/step - loss: 3.4990 - mae: 1.3727\n",
      "Epoch 235/300\n",
      "392/392 [==============================] - 0s 181us/step - loss: 3.4822 - mae: 1.3614\n",
      "Epoch 236/300\n",
      "392/392 [==============================] - 0s 183us/step - loss: 3.4569 - mae: 1.3746\n",
      "Epoch 237/300\n",
      "392/392 [==============================] - 0s 181us/step - loss: 3.4433 - mae: 1.3806\n",
      "Epoch 238/300\n",
      "392/392 [==============================] - 0s 173us/step - loss: 3.4178 - mae: 1.3734\n",
      "Epoch 239/300\n",
      "392/392 [==============================] - 0s 181us/step - loss: 3.3772 - mae: 1.3561\n",
      "Epoch 240/300\n",
      "392/392 [==============================] - 0s 193us/step - loss: 3.3928 - mae: 1.3524\n",
      "Epoch 241/300\n",
      "392/392 [==============================] - 0s 193us/step - loss: 3.3760 - mae: 1.3581\n",
      "Epoch 242/300\n",
      "392/392 [==============================] - 0s 188us/step - loss: 3.3607 - mae: 1.3451\n",
      "Epoch 243/300\n",
      "392/392 [==============================] - 0s 188us/step - loss: 3.3710 - mae: 1.3464\n",
      "Epoch 244/300\n",
      "392/392 [==============================] - 0s 173us/step - loss: 3.3482 - mae: 1.3487\n",
      "Epoch 245/300\n",
      "392/392 [==============================] - 0s 173us/step - loss: 3.2800 - mae: 1.3369\n"
     ]
    },
    {
     "name": "stdout",
     "output_type": "stream",
     "text": [
      "Epoch 246/300\n",
      "392/392 [==============================] - 0s 183us/step - loss: 3.3022 - mae: 1.3357\n",
      "Epoch 247/300\n",
      "392/392 [==============================] - 0s 176us/step - loss: 3.2791 - mae: 1.3495\n",
      "Epoch 248/300\n",
      "392/392 [==============================] - 0s 181us/step - loss: 3.2898 - mae: 1.3367\n",
      "Epoch 249/300\n",
      "392/392 [==============================] - 0s 176us/step - loss: 3.2510 - mae: 1.3215\n",
      "Epoch 250/300\n",
      "392/392 [==============================] - 0s 176us/step - loss: 3.2351 - mae: 1.3278\n",
      "Epoch 251/300\n",
      "392/392 [==============================] - 0s 178us/step - loss: 3.2294 - mae: 1.3381\n",
      "Epoch 252/300\n",
      "392/392 [==============================] - 0s 176us/step - loss: 3.1953 - mae: 1.3401\n",
      "Epoch 253/300\n",
      "392/392 [==============================] - 0s 170us/step - loss: 3.1779 - mae: 1.3177\n",
      "Epoch 254/300\n",
      "392/392 [==============================] - 0s 176us/step - loss: 3.1629 - mae: 1.3142\n",
      "Epoch 255/300\n",
      "392/392 [==============================] - 0s 173us/step - loss: 3.1668 - mae: 1.3303\n",
      "Epoch 256/300\n",
      "392/392 [==============================] - 0s 196us/step - loss: 3.1645 - mae: 1.3111\n",
      "Epoch 257/300\n",
      "392/392 [==============================] - 0s 188us/step - loss: 3.1516 - mae: 1.3157\n",
      "Epoch 258/300\n",
      "392/392 [==============================] - 0s 165us/step - loss: 3.1199 - mae: 1.2994\n",
      "Epoch 259/300\n",
      "392/392 [==============================] - 0s 79us/step - loss: 3.1597 - mae: 1.3110\n",
      "Epoch 260/300\n",
      "392/392 [==============================] - 0s 74us/step - loss: 3.0995 - mae: 1.3089\n",
      "Epoch 261/300\n",
      "392/392 [==============================] - 0s 76us/step - loss: 3.0948 - mae: 1.3036\n",
      "Epoch 262/300\n",
      "392/392 [==============================] - 0s 74us/step - loss: 3.0566 - mae: 1.3006\n",
      "Epoch 263/300\n",
      "392/392 [==============================] - 0s 81us/step - loss: 3.0755 - mae: 1.2969\n",
      "Epoch 264/300\n",
      "392/392 [==============================] - 0s 71us/step - loss: 2.9836 - mae: 1.2869\n",
      "Epoch 265/300\n",
      "392/392 [==============================] - 0s 79us/step - loss: 3.0308 - mae: 1.2905\n",
      "Epoch 266/300\n",
      "392/392 [==============================] - 0s 71us/step - loss: 3.0364 - mae: 1.2950\n",
      "Epoch 267/300\n",
      "392/392 [==============================] - 0s 74us/step - loss: 3.0244 - mae: 1.2968\n",
      "Epoch 268/300\n",
      "392/392 [==============================] - 0s 69us/step - loss: 2.9262 - mae: 1.2757\n",
      "Epoch 269/300\n",
      "392/392 [==============================] - 0s 74us/step - loss: 2.9847 - mae: 1.2979\n",
      "Epoch 270/300\n",
      "392/392 [==============================] - 0s 79us/step - loss: 2.9566 - mae: 1.2963\n",
      "Epoch 271/300\n",
      "392/392 [==============================] - 0s 71us/step - loss: 2.9266 - mae: 1.2673\n",
      "Epoch 272/300\n",
      "392/392 [==============================] - 0s 74us/step - loss: 2.9558 - mae: 1.2764\n",
      "Epoch 273/300\n",
      "392/392 [==============================] - 0s 74us/step - loss: 2.8813 - mae: 1.2657\n",
      "Epoch 274/300\n",
      "392/392 [==============================] - 0s 71us/step - loss: 2.9583 - mae: 1.2801\n",
      "Epoch 275/300\n",
      "392/392 [==============================] - 0s 79us/step - loss: 2.9230 - mae: 1.2755\n",
      "Epoch 276/300\n",
      "392/392 [==============================] - 0s 76us/step - loss: 2.8961 - mae: 1.2634\n",
      "Epoch 277/300\n",
      "392/392 [==============================] - 0s 74us/step - loss: 2.8753 - mae: 1.2519\n",
      "Epoch 278/300\n",
      "392/392 [==============================] - 0s 74us/step - loss: 2.8653 - mae: 1.2540\n",
      "Epoch 279/300\n",
      "392/392 [==============================] - 0s 79us/step - loss: 2.8593 - mae: 1.2537\n",
      "Epoch 280/300\n",
      "392/392 [==============================] - 0s 74us/step - loss: 2.8323 - mae: 1.2487\n",
      "Epoch 281/300\n",
      "392/392 [==============================] - 0s 76us/step - loss: 2.8422 - mae: 1.2593\n",
      "Epoch 282/300\n",
      "392/392 [==============================] - 0s 79us/step - loss: 2.8244 - mae: 1.2454\n",
      "Epoch 283/300\n",
      "392/392 [==============================] - 0s 76us/step - loss: 2.8139 - mae: 1.2532\n",
      "Epoch 284/300\n",
      "392/392 [==============================] - 0s 76us/step - loss: 2.8043 - mae: 1.2427\n",
      "Epoch 285/300\n",
      "392/392 [==============================] - 0s 76us/step - loss: 2.7674 - mae: 1.2363\n",
      "Epoch 286/300\n",
      "392/392 [==============================] - 0s 71us/step - loss: 2.7895 - mae: 1.2354\n",
      "Epoch 287/300\n",
      "392/392 [==============================] - 0s 76us/step - loss: 2.7358 - mae: 1.2279\n",
      "Epoch 288/300\n",
      "392/392 [==============================] - 0s 81us/step - loss: 2.7416 - mae: 1.2318\n",
      "Epoch 289/300\n",
      "392/392 [==============================] - 0s 74us/step - loss: 2.7325 - mae: 1.2425\n",
      "Epoch 290/300\n",
      "392/392 [==============================] - 0s 132us/step - loss: 2.7367 - mae: 1.2375\n",
      "Epoch 291/300\n",
      "392/392 [==============================] - 0s 186us/step - loss: 2.7086 - mae: 1.2286\n",
      "Epoch 292/300\n",
      "392/392 [==============================] - 0s 188us/step - loss: 2.7246 - mae: 1.2279\n",
      "Epoch 293/300\n",
      "392/392 [==============================] - 0s 186us/step - loss: 2.7117 - mae: 1.2248\n",
      "Epoch 294/300\n",
      "392/392 [==============================] - 0s 181us/step - loss: 2.6611 - mae: 1.2073\n",
      "Epoch 295/300\n",
      "392/392 [==============================] - 0s 186us/step - loss: 2.6214 - mae: 1.2150\n",
      "Epoch 296/300\n",
      "392/392 [==============================] - 0s 181us/step - loss: 2.6843 - mae: 1.2263\n",
      "Epoch 297/300\n",
      "392/392 [==============================] - 0s 183us/step - loss: 2.6375 - mae: 1.2022\n",
      "Epoch 298/300\n",
      "392/392 [==============================] - 0s 181us/step - loss: 2.6134 - mae: 1.2023\n",
      "Epoch 299/300\n",
      "392/392 [==============================] - 0s 181us/step - loss: 2.6183 - mae: 1.2115\n",
      "Epoch 300/300\n",
      "392/392 [==============================] - 0s 183us/step - loss: 2.6418 - mae: 1.2115\n"
     ]
    },
    {
     "data": {
      "text/plain": [
       "<keras.callbacks.callbacks.History at 0x27a9d9b9d68>"
      ]
     },
     "execution_count": 43,
     "metadata": {},
     "output_type": "execute_result"
    }
   ],
   "source": [
    "m.fit(x_train_white, y_train, epochs=300, batch_size=10)"
   ]
  },
  {
   "cell_type": "code",
   "execution_count": 44,
   "metadata": {},
   "outputs": [
    {
     "data": {
      "text/plain": [
       "array([[ 28.,  27.,  16.,  -8.,  23.,  30.,  12.,  29.,  25.,  28., -30.,\n",
       "         21.,  11.,  24.,  28.,  34.,  21.,  23.,  23.,  27.,  33.,  26.,\n",
       "         34.,  28.,  26.,  22.,  23.,  29.,  22.,  30.,  28.,  24.,  27.,\n",
       "         26.,  26.,  23.,  27.,  21.,  20.,  27.,  23.,  11.,  28.,   7.,\n",
       "         24.,  26.,  36.,  28.,  27.,  18.,  21.,  23.,  39.,  33.,  27.,\n",
       "         12.,  20.,  23.,  26.,  33.,  26.,  36.,  28.,  20.,  23.,  23.,\n",
       "         23.,  36.,  30.,  28.,  17.,  44.,  19.,  18.,  12.,  29.,  25.,\n",
       "         24.,  30.,  31.,  19.,  18.,  22.,  23.,  24.,  25.,  30.,  25.,\n",
       "         34.,  26.,  11.,  21.,  27.,  20.,  29.,  26.,  27.,  27.]],\n",
       "      dtype=float32)"
      ]
     },
     "execution_count": 44,
     "metadata": {},
     "output_type": "execute_result"
    }
   ],
   "source": [
    "#scaler.fit(x_test)\n",
    "x_test_white = scaler.transform(x_test)\n",
    "m.predict(x_test_white).round().T"
   ]
  },
  {
   "cell_type": "code",
   "execution_count": 45,
   "metadata": {},
   "outputs": [
    {
     "name": "stderr",
     "output_type": "stream",
     "text": [
      "C:\\Users\\pemtc\\Anaconda3\\lib\\site-packages\\ipykernel_launcher.py:1: FutureWarning: Method .as_matrix will be removed in a future version. Use .values instead.\n",
      "  \"\"\"Entry point for launching an IPython kernel.\n"
     ]
    },
    {
     "data": {
      "text/plain": [
       "array([15.6, 28. , 33.4,  5. , 31.5, 32.7, 10.2, 33.1, 13.8, 29.6,  5. ,\n",
       "       14.1, 10.9, 23.8, 19.4, 18.6, 34.9, 19.9, 20.6, 19.8, 21.7, 21.5,\n",
       "       18.2, 29.8, 24.1, 23.6, 18.2, 33. , 14.5, 35.4, 18.5, 24.4, 30.8,\n",
       "       17.5, 22.2, 15.6, 26.4, 33.1, 25. , 21.4, 17.5, 13.3, 25.2, 10.5,\n",
       "       24.6, 11.5, 20.1, 22.6, 24.8, 37.6,  9.5, 19.6, 20.3, 22. , 22.2,\n",
       "       35.4, 22.8, 14.5, 21.1, 19.4, 24.2, 15. , 25.3, 16.7, 23.3, 41.3,\n",
       "       23. ,  8.1, 15.6, 26.2, 13.1, 16.5, 22.4, 48.3, 48.5, 36.4, 16.6,\n",
       "       19.5, 15.3, 23.3, 27.5, 23.9, 16.8, 24.5, 19.5, 20.8, 24.5, 24.4,\n",
       "       24.8, 20.2, 17.8, 23.7, 22.8, 13. , 22. , 17.4, 22.2, 32. ],\n",
       "      dtype=float32)"
      ]
     },
     "execution_count": 45,
     "metadata": {},
     "output_type": "execute_result"
    }
   ],
   "source": [
    "y_test.as_matrix().astype(np.float32)"
   ]
  },
  {
   "cell_type": "code",
   "execution_count": 46,
   "metadata": {},
   "outputs": [
    {
     "name": "stdout",
     "output_type": "stream",
     "text": [
      "98/98 [==============================] - 0s 611us/step\n"
     ]
    },
    {
     "data": {
      "text/plain": [
       "[122.20229094369071, 8.047411918640137]"
      ]
     },
     "execution_count": 46,
     "metadata": {},
     "output_type": "execute_result"
    }
   ],
   "source": [
    "m.evaluate(x_test_white, y_test)"
   ]
  },
  {
   "cell_type": "markdown",
   "metadata": {},
   "source": [
    "This hasn't improved the result, and in fact it's significantly worse. From this we conclude that in this example whitening the data doesn't give us a better outcome. "
   ]
  },
  {
   "cell_type": "markdown",
   "metadata": {},
   "source": [
    "Going back to our scaled example (example 2 above), which gave us the best result, we can plot the training & testing loss values, which basically shows the loss flattening out after a certain number of epochs:"
   ]
  },
  {
   "cell_type": "code",
   "execution_count": 47,
   "metadata": {},
   "outputs": [
    {
     "data": {
      "image/png": "[encoded data removed]",
      "text/plain": [
       "<Figure size 432x288 with 1 Axes>"
      ]
     },
     "metadata": {
      "needs_background": "light"
     },
     "output_type": "display_data"
    }
   ],
   "source": [
    "plt.plot(history.history['loss'])\n",
    "plt.plot(history.history['val_loss'])\n",
    "plt.title('model loss value')\n",
    "plt.ylabel('loss')\n",
    "plt.xlabel('epoch')\n",
    "plt.legend(['train', 'test'], loc='upper left')\n",
    "plt.show()"
   ]
  },
  {
   "cell_type": "markdown",
   "metadata": {},
   "source": [
    "#### Conclusion:\n",
    "The  mean squared error achieved by example 2 above varied between 6 and 10 on different runnings of the notebook. The MSE measures the averaged squared difference between the predicted and actual values. The actual difference in dollars was between 2450 and 3162 (square root of 6 & 10). If the model predicted the values exactly the result would have been 0. We can conclude from this that it's a reasonable model, however it could probably be improved upon with further trial and error around the parameters.<br><br>\n",
    "Main Factors that improved the model:\n",
    "<ul>\n",
    "    <li>Standardising</li>\n",
    "    <li>Changing the activation function</li>\n",
    "    <li>Adding one additional layer</li>\n",
    "</ul>\n",
    "Factors that didn't improve the model, or made it worse:\n",
    "<ul>\n",
    "    <li>Removing variables with weak correlations with price</li>\n",
    "    <li>Adding further layers after the second</li>\n",
    "    <li>Changing the width of the layers</li>\n",
    "    <li>Adding more epochs</li>\n",
    "    <li>Whitening</li>\n",
    "</ul>"
   ]
  },
  {
   "cell_type": "markdown",
   "metadata": {},
   "source": [
    "#### References:"
   ]
  },
  {
   "cell_type": "markdown",
   "metadata": {},
   "source": [
    "Harrison Jr, David, & Rubenfeld, Daniel, 1978, '*Hedonic Housing Prices and the Demand for Clean Air*', Journal of Environmental Economics & Management 5, 81-102 <br>\n",
    "https://scikit-learn.org/stable/modules/generated/sklearn.datasets.load_boston.html <br>\n",
    "https://datavizcatalogue.com/methods/box_plot.html<br>\n",
    "https://docs.scipy.org/doc/scipy-0.14.0/reference/generated/scipy.stats.levene.html <br>\n",
    "https://statistics.laerd.com/statistical-guides/independent-t-test-statistical-guide.php<br>\n",
    "https://pythonfordatascience.org/independent-t-test-python/ <br>\n",
    "https://machinelearningmastery.com/parametric-statistical-significance-tests-in-python/<br>\n",
    "http://daniellakens.blogspot.com/2015/01/always-use-welchs-t-test-instead-of.html<br>\n",
    "Chollet, F. 2018 *Deep Learning With Python*, Manning Publication Co., NY <br>\n",
    "https://machinelearningmastery.com/display-deep-learning-model-training-history-in-keras/<br>\n",
    "https://towardsdatascience.com/linear-regression-on-boston-housing-dataset-f409b7e4a155 <br>\n",
    "https://machinelearningmastery.com/how-to-configure-the-number-of-layers-and-nodes-in-a-neural-network/<br>\n",
    "https://towardsdatascience.com/activation-functions-and-its-types-which-is-better-a9a5310cc8f<br>\n",
    "https://statistics.laerd.com/spss-tutorials/mann-whitney-u-test-using-spss-statistics.php<br>\n",
    "McLaughlin, I 2019, Practical t-tests in Python, video lecture, Machine Learning & Statistics, Galway Mayo Institute of Technology, delivered 10th October 2019<br>\n",
    "McLaughlin, I 2019, Dogs data set, video lecture, Machine Learning & Statistics, Galway Mayo Institute of Technology, delivered 17th November 2019<br>\n",
    "McLaughlin, I 2019, Revisiting the Dogs data set, video lecture, Machine Learning & Statistics, Galway Mayo Institute of Technology, delivered 24th November 2019<br>\n",
    "\n"
   ]
  }
 ],
 "metadata": {
  "kernelspec": {
   "display_name": "Python 3",
   "language": "python",
   "name": "python3"
  },
  "language_info": {
   "codemirror_mode": {
    "name": "ipython",
    "version": 3
   },
   "file_extension": ".py",
   "mimetype": "text/x-python",
   "name": "python",
   "nbconvert_exporter": "python",
   "pygments_lexer": "ipython3",
   "version": "3.7.3"
  }
 },
 "nbformat": 4,
 "nbformat_minor": 2
}
