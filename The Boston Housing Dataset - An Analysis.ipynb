{
 "cells": [
  {
   "cell_type": "markdown",
   "metadata": {},
   "source": [
    "# Introduction"
   ]
  },
  {
   "cell_type": "markdown",
   "metadata": {},
   "source": [
    "**Aim of the project:**<br> This is an analysis of the Boston Housing Dataset. I will describe the dataset using descriptive statistics, conduct some inferential statistical analysis to determine whether there is a significnat difference in house prices between houses along the Charles river and those that are not, and finally create a neural network using keras to predict the median house price based on other variables in the dataset.\n",
    "\n",
    "**Background - what is the Boston Housing Dataset?:**<br>\n",
    "The Boston Housing Dataset contains US Census data from 1970 on houses in various census tracts of Boston. Each sample corresponds to a unique area. It was originally published by Harrisson & Rubenfeld in 1978, in order to determine whether or not clean air had an impact on house prices in Boston. It is available to import from the skikit-learn library in python. The attributes of the dataset are described as follows:<br>\n",
    "Number of Instances: 506 <br>\n",
    "Number of Attributes: 13 numeric/categorical predictive. <br>Median Value (attribute 14) is usually the target.<br>\n",
    "<b>Attribute Information (in order):</b><br>\n",
    "<b>CRIM</b>     per capita crime rate by town<br>\n",
    "<b>ZN</b>      proportion of residential land zoned for lots over 25,000 sq.ft.<br>\n",
    "<b>INDUS</b>    proportion of non-retail business acres per town<br>\n",
    "<b>CHAS</b>     Charles River dummy variable (= 1 if tract bounds river; 0 otherwise)<br>\n",
    "<b>NOX</b>      nitric oxides concentration (parts per 10 million)<br>\n",
    "<b>RM</b>       average number of rooms per dwelling<br>\n",
    "<b>AGE</b>      proportion of owner-occupied units built prior to 1940<br>\n",
    "<b>DIS</b>      weighted distances to five Boston employment centres<br>\n",
    "<b>RAD</b>      index of accessibility to radial highways<br>\n",
    "<b>TAX</b>      full-value property-tax rate per 10000 <br>\n",
    "<b>PTRATIO</b>  pupil-teacher ratio by town<br>\n",
    "<b>B</b>        1000(Bk - 0.63)^2 where Bk is the proportion of blacks by town<br>\n",
    "<b>LSTAT</b>    percentage lower status of the population<br>\n",
    "<b>MEDV</b>     Median value of owner-occupied homes in $1000's<br>\n"
   ]
  },
  {
   "cell_type": "markdown",
   "metadata": {},
   "source": [
    "## Part 1 - Describe\n",
    "\n",
    "### Preliminary investigations:\n"
   ]
  },
  {
   "cell_type": "code",
   "execution_count": 1,
   "metadata": {},
   "outputs": [],
   "source": [
    "#import necessary libraries\n",
    "import numpy as np\n",
    "import pandas as pd\n",
    "import matplotlib.pyplot as plt\n",
    "import seaborn as sns\n",
    "import scipy as sp\n",
    "import scipy.stats as st\n",
    "%matplotlib inline"
   ]
  },
  {
   "cell_type": "code",
   "execution_count": 2,
   "metadata": {},
   "outputs": [],
   "source": [
    "#import Boston House Prices dataset from https://scikit-learn.org/stable/modules/generated/sklearn.datasets.load_boston.html\n",
    "from sklearn.datasets import load_boston"
   ]
  },
  {
   "cell_type": "code",
   "execution_count": 3,
   "metadata": {},
   "outputs": [],
   "source": [
    "#Assign variable 'boston' to the dataset\n",
    "boston = load_boston()"
   ]
  },
  {
   "cell_type": "code",
   "execution_count": 4,
   "metadata": {},
   "outputs": [
    {
     "name": "stdout",
     "output_type": "stream",
     "text": [
      "{'data': array([[6.3200e-03, 1.8000e+01, 2.3100e+00, ..., 1.5300e+01, 3.9690e+02,\n",
      "        4.9800e+00],\n",
      "       [2.7310e-02, 0.0000e+00, 7.0700e+00, ..., 1.7800e+01, 3.9690e+02,\n",
      "        9.1400e+00],\n",
      "       [2.7290e-02, 0.0000e+00, 7.0700e+00, ..., 1.7800e+01, 3.9283e+02,\n",
      "        4.0300e+00],\n",
      "       ...,\n",
      "       [6.0760e-02, 0.0000e+00, 1.1930e+01, ..., 2.1000e+01, 3.9690e+02,\n",
      "        5.6400e+00],\n",
      "       [1.0959e-01, 0.0000e+00, 1.1930e+01, ..., 2.1000e+01, 3.9345e+02,\n",
      "        6.4800e+00],\n",
      "       [4.7410e-02, 0.0000e+00, 1.1930e+01, ..., 2.1000e+01, 3.9690e+02,\n",
      "        7.8800e+00]]), 'target': array([24. , 21.6, 34.7, 33.4, 36.2, 28.7, 22.9, 27.1, 16.5, 18.9, 15. ,\n",
      "       18.9, 21.7, 20.4, 18.2, 19.9, 23.1, 17.5, 20.2, 18.2, 13.6, 19.6,\n",
      "       15.2, 14.5, 15.6, 13.9, 16.6, 14.8, 18.4, 21. , 12.7, 14.5, 13.2,\n",
      "       13.1, 13.5, 18.9, 20. , 21. , 24.7, 30.8, 34.9, 26.6, 25.3, 24.7,\n",
      "       21.2, 19.3, 20. , 16.6, 14.4, 19.4, 19.7, 20.5, 25. , 23.4, 18.9,\n",
      "       35.4, 24.7, 31.6, 23.3, 19.6, 18.7, 16. , 22.2, 25. , 33. , 23.5,\n",
      "       19.4, 22. , 17.4, 20.9, 24.2, 21.7, 22.8, 23.4, 24.1, 21.4, 20. ,\n",
      "       20.8, 21.2, 20.3, 28. , 23.9, 24.8, 22.9, 23.9, 26.6, 22.5, 22.2,\n",
      "       23.6, 28.7, 22.6, 22. , 22.9, 25. , 20.6, 28.4, 21.4, 38.7, 43.8,\n",
      "       33.2, 27.5, 26.5, 18.6, 19.3, 20.1, 19.5, 19.5, 20.4, 19.8, 19.4,\n",
      "       21.7, 22.8, 18.8, 18.7, 18.5, 18.3, 21.2, 19.2, 20.4, 19.3, 22. ,\n",
      "       20.3, 20.5, 17.3, 18.8, 21.4, 15.7, 16.2, 18. , 14.3, 19.2, 19.6,\n",
      "       23. , 18.4, 15.6, 18.1, 17.4, 17.1, 13.3, 17.8, 14. , 14.4, 13.4,\n",
      "       15.6, 11.8, 13.8, 15.6, 14.6, 17.8, 15.4, 21.5, 19.6, 15.3, 19.4,\n",
      "       17. , 15.6, 13.1, 41.3, 24.3, 23.3, 27. , 50. , 50. , 50. , 22.7,\n",
      "       25. , 50. , 23.8, 23.8, 22.3, 17.4, 19.1, 23.1, 23.6, 22.6, 29.4,\n",
      "       23.2, 24.6, 29.9, 37.2, 39.8, 36.2, 37.9, 32.5, 26.4, 29.6, 50. ,\n",
      "       32. , 29.8, 34.9, 37. , 30.5, 36.4, 31.1, 29.1, 50. , 33.3, 30.3,\n",
      "       34.6, 34.9, 32.9, 24.1, 42.3, 48.5, 50. , 22.6, 24.4, 22.5, 24.4,\n",
      "       20. , 21.7, 19.3, 22.4, 28.1, 23.7, 25. , 23.3, 28.7, 21.5, 23. ,\n",
      "       26.7, 21.7, 27.5, 30.1, 44.8, 50. , 37.6, 31.6, 46.7, 31.5, 24.3,\n",
      "       31.7, 41.7, 48.3, 29. , 24. , 25.1, 31.5, 23.7, 23.3, 22. , 20.1,\n",
      "       22.2, 23.7, 17.6, 18.5, 24.3, 20.5, 24.5, 26.2, 24.4, 24.8, 29.6,\n",
      "       42.8, 21.9, 20.9, 44. , 50. , 36. , 30.1, 33.8, 43.1, 48.8, 31. ,\n",
      "       36.5, 22.8, 30.7, 50. , 43.5, 20.7, 21.1, 25.2, 24.4, 35.2, 32.4,\n",
      "       32. , 33.2, 33.1, 29.1, 35.1, 45.4, 35.4, 46. , 50. , 32.2, 22. ,\n",
      "       20.1, 23.2, 22.3, 24.8, 28.5, 37.3, 27.9, 23.9, 21.7, 28.6, 27.1,\n",
      "       20.3, 22.5, 29. , 24.8, 22. , 26.4, 33.1, 36.1, 28.4, 33.4, 28.2,\n",
      "       22.8, 20.3, 16.1, 22.1, 19.4, 21.6, 23.8, 16.2, 17.8, 19.8, 23.1,\n",
      "       21. , 23.8, 23.1, 20.4, 18.5, 25. , 24.6, 23. , 22.2, 19.3, 22.6,\n",
      "       19.8, 17.1, 19.4, 22.2, 20.7, 21.1, 19.5, 18.5, 20.6, 19. , 18.7,\n",
      "       32.7, 16.5, 23.9, 31.2, 17.5, 17.2, 23.1, 24.5, 26.6, 22.9, 24.1,\n",
      "       18.6, 30.1, 18.2, 20.6, 17.8, 21.7, 22.7, 22.6, 25. , 19.9, 20.8,\n",
      "       16.8, 21.9, 27.5, 21.9, 23.1, 50. , 50. , 50. , 50. , 50. , 13.8,\n",
      "       13.8, 15. , 13.9, 13.3, 13.1, 10.2, 10.4, 10.9, 11.3, 12.3,  8.8,\n",
      "        7.2, 10.5,  7.4, 10.2, 11.5, 15.1, 23.2,  9.7, 13.8, 12.7, 13.1,\n",
      "       12.5,  8.5,  5. ,  6.3,  5.6,  7.2, 12.1,  8.3,  8.5,  5. , 11.9,\n",
      "       27.9, 17.2, 27.5, 15. , 17.2, 17.9, 16.3,  7. ,  7.2,  7.5, 10.4,\n",
      "        8.8,  8.4, 16.7, 14.2, 20.8, 13.4, 11.7,  8.3, 10.2, 10.9, 11. ,\n",
      "        9.5, 14.5, 14.1, 16.1, 14.3, 11.7, 13.4,  9.6,  8.7,  8.4, 12.8,\n",
      "       10.5, 17.1, 18.4, 15.4, 10.8, 11.8, 14.9, 12.6, 14.1, 13. , 13.4,\n",
      "       15.2, 16.1, 17.8, 14.9, 14.1, 12.7, 13.5, 14.9, 20. , 16.4, 17.7,\n",
      "       19.5, 20.2, 21.4, 19.9, 19. , 19.1, 19.1, 20.1, 19.9, 19.6, 23.2,\n",
      "       29.8, 13.8, 13.3, 16.7, 12. , 14.6, 21.4, 23. , 23.7, 25. , 21.8,\n",
      "       20.6, 21.2, 19.1, 20.6, 15.2,  7. ,  8.1, 13.6, 20.1, 21.8, 24.5,\n",
      "       23.1, 19.7, 18.3, 21.2, 17.5, 16.8, 22.4, 20.6, 23.9, 22. , 11.9]), 'feature_names': array(['CRIM', 'ZN', 'INDUS', 'CHAS', 'NOX', 'RM', 'AGE', 'DIS', 'RAD',\n",
      "       'TAX', 'PTRATIO', 'B', 'LSTAT'], dtype='<U7'), 'DESCR': \".. _boston_dataset:\\n\\nBoston house prices dataset\\n---------------------------\\n\\n**Data Set Characteristics:**  \\n\\n    :Number of Instances: 506 \\n\\n    :Number of Attributes: 13 numeric/categorical predictive. Median Value (attribute 14) is usually the target.\\n\\n    :Attribute Information (in order):\\n        - CRIM     per capita crime rate by town\\n        - ZN       proportion of residential land zoned for lots over 25,000 sq.ft.\\n        - INDUS    proportion of non-retail business acres per town\\n        - CHAS     Charles River dummy variable (= 1 if tract bounds river; 0 otherwise)\\n        - NOX      nitric oxides concentration (parts per 10 million)\\n        - RM       average number of rooms per dwelling\\n        - AGE      proportion of owner-occupied units built prior to 1940\\n        - DIS      weighted distances to five Boston employment centres\\n        - RAD      index of accessibility to radial highways\\n        - TAX      full-value property-tax rate per $10,000\\n        - PTRATIO  pupil-teacher ratio by town\\n        - B        1000(Bk - 0.63)^2 where Bk is the proportion of blacks by town\\n        - LSTAT    % lower status of the population\\n        - MEDV     Median value of owner-occupied homes in $1000's\\n\\n    :Missing Attribute Values: None\\n\\n    :Creator: Harrison, D. and Rubinfeld, D.L.\\n\\nThis is a copy of UCI ML housing dataset.\\nhttps://archive.ics.uci.edu/ml/machine-learning-databases/housing/\\n\\n\\nThis dataset was taken from the StatLib library which is maintained at Carnegie Mellon University.\\n\\nThe Boston house-price data of Harrison, D. and Rubinfeld, D.L. 'Hedonic\\nprices and the demand for clean air', J. Environ. Economics & Management,\\nvol.5, 81-102, 1978.   Used in Belsley, Kuh & Welsch, 'Regression diagnostics\\n...', Wiley, 1980.   N.B. Various transformations are used in the table on\\npages 244-261 of the latter.\\n\\nThe Boston house-price data has been used in many machine learning papers that address regression\\nproblems.   \\n     \\n.. topic:: References\\n\\n   - Belsley, Kuh & Welsch, 'Regression diagnostics: Identifying Influential Data and Sources of Collinearity', Wiley, 1980. 244-261.\\n   - Quinlan,R. (1993). Combining Instance-Based and Model-Based Learning. In Proceedings on the Tenth International Conference of Machine Learning, 236-243, University of Massachusetts, Amherst. Morgan Kaufmann.\\n\", 'filename': 'C:\\\\Users\\\\pemtc\\\\Anaconda3\\\\lib\\\\site-packages\\\\sklearn\\\\datasets\\\\data\\\\boston_house_prices.csv'}\n"
     ]
    }
   ],
   "source": [
    "#take a look at the dataset\n",
    "print(boston)"
   ]
  },
  {
   "cell_type": "code",
   "execution_count": 5,
   "metadata": {},
   "outputs": [],
   "source": [
    "#We'll create a pandas dataframe from this data to make it look better\n",
    "#create pandas dataframe\n",
    "df = pd.DataFrame(boston.data, columns = ['crim', 'zn', 'indus', 'chas', 'nox', 'rm', 'age', 'dis', 'rad', 'tax', 'b', 'ptratio', 'lstat'])"
   ]
  },
  {
   "cell_type": "code",
   "execution_count": 6,
   "metadata": {},
   "outputs": [],
   "source": [
    "#We need to add the target value to the dataframe - this is the median value of houses and is represented by 'MEDV'\n",
    "df['MEDV'] = boston.target"
   ]
  },
  {
   "cell_type": "code",
   "execution_count": 7,
   "metadata": {},
   "outputs": [
    {
     "data": {
      "text/html": [
       "<div>\n",
       "<style scoped>\n",
       "    .dataframe tbody tr th:only-of-type {\n",
       "        vertical-align: middle;\n",
       "    }\n",
       "\n",
       "    .dataframe tbody tr th {\n",
       "        vertical-align: top;\n",
       "    }\n",
       "\n",
       "    .dataframe thead th {\n",
       "        text-align: right;\n",
       "    }\n",
       "</style>\n",
       "<table border=\"1\" class=\"dataframe\">\n",
       "  <thead>\n",
       "    <tr style=\"text-align: right;\">\n",
       "      <th></th>\n",
       "      <th>crim</th>\n",
       "      <th>zn</th>\n",
       "      <th>indus</th>\n",
       "      <th>chas</th>\n",
       "      <th>nox</th>\n",
       "      <th>rm</th>\n",
       "      <th>age</th>\n",
       "      <th>dis</th>\n",
       "      <th>rad</th>\n",
       "      <th>tax</th>\n",
       "      <th>b</th>\n",
       "      <th>ptratio</th>\n",
       "      <th>lstat</th>\n",
       "      <th>MEDV</th>\n",
       "    </tr>\n",
       "  </thead>\n",
       "  <tbody>\n",
       "    <tr>\n",
       "      <th>0</th>\n",
       "      <td>0.00632</td>\n",
       "      <td>18.0</td>\n",
       "      <td>2.31</td>\n",
       "      <td>0.0</td>\n",
       "      <td>0.538</td>\n",
       "      <td>6.575</td>\n",
       "      <td>65.2</td>\n",
       "      <td>4.0900</td>\n",
       "      <td>1.0</td>\n",
       "      <td>296.0</td>\n",
       "      <td>15.3</td>\n",
       "      <td>396.90</td>\n",
       "      <td>4.98</td>\n",
       "      <td>24.0</td>\n",
       "    </tr>\n",
       "    <tr>\n",
       "      <th>1</th>\n",
       "      <td>0.02731</td>\n",
       "      <td>0.0</td>\n",
       "      <td>7.07</td>\n",
       "      <td>0.0</td>\n",
       "      <td>0.469</td>\n",
       "      <td>6.421</td>\n",
       "      <td>78.9</td>\n",
       "      <td>4.9671</td>\n",
       "      <td>2.0</td>\n",
       "      <td>242.0</td>\n",
       "      <td>17.8</td>\n",
       "      <td>396.90</td>\n",
       "      <td>9.14</td>\n",
       "      <td>21.6</td>\n",
       "    </tr>\n",
       "    <tr>\n",
       "      <th>2</th>\n",
       "      <td>0.02729</td>\n",
       "      <td>0.0</td>\n",
       "      <td>7.07</td>\n",
       "      <td>0.0</td>\n",
       "      <td>0.469</td>\n",
       "      <td>7.185</td>\n",
       "      <td>61.1</td>\n",
       "      <td>4.9671</td>\n",
       "      <td>2.0</td>\n",
       "      <td>242.0</td>\n",
       "      <td>17.8</td>\n",
       "      <td>392.83</td>\n",
       "      <td>4.03</td>\n",
       "      <td>34.7</td>\n",
       "    </tr>\n",
       "    <tr>\n",
       "      <th>3</th>\n",
       "      <td>0.03237</td>\n",
       "      <td>0.0</td>\n",
       "      <td>2.18</td>\n",
       "      <td>0.0</td>\n",
       "      <td>0.458</td>\n",
       "      <td>6.998</td>\n",
       "      <td>45.8</td>\n",
       "      <td>6.0622</td>\n",
       "      <td>3.0</td>\n",
       "      <td>222.0</td>\n",
       "      <td>18.7</td>\n",
       "      <td>394.63</td>\n",
       "      <td>2.94</td>\n",
       "      <td>33.4</td>\n",
       "    </tr>\n",
       "    <tr>\n",
       "      <th>4</th>\n",
       "      <td>0.06905</td>\n",
       "      <td>0.0</td>\n",
       "      <td>2.18</td>\n",
       "      <td>0.0</td>\n",
       "      <td>0.458</td>\n",
       "      <td>7.147</td>\n",
       "      <td>54.2</td>\n",
       "      <td>6.0622</td>\n",
       "      <td>3.0</td>\n",
       "      <td>222.0</td>\n",
       "      <td>18.7</td>\n",
       "      <td>396.90</td>\n",
       "      <td>5.33</td>\n",
       "      <td>36.2</td>\n",
       "    </tr>\n",
       "  </tbody>\n",
       "</table>\n",
       "</div>"
      ],
      "text/plain": [
       "      crim    zn  indus  chas    nox     rm   age     dis  rad    tax     b  \\\n",
       "0  0.00632  18.0   2.31   0.0  0.538  6.575  65.2  4.0900  1.0  296.0  15.3   \n",
       "1  0.02731   0.0   7.07   0.0  0.469  6.421  78.9  4.9671  2.0  242.0  17.8   \n",
       "2  0.02729   0.0   7.07   0.0  0.469  7.185  61.1  4.9671  2.0  242.0  17.8   \n",
       "3  0.03237   0.0   2.18   0.0  0.458  6.998  45.8  6.0622  3.0  222.0  18.7   \n",
       "4  0.06905   0.0   2.18   0.0  0.458  7.147  54.2  6.0622  3.0  222.0  18.7   \n",
       "\n",
       "   ptratio  lstat  MEDV  \n",
       "0   396.90   4.98  24.0  \n",
       "1   396.90   9.14  21.6  \n",
       "2   392.83   4.03  34.7  \n",
       "3   394.63   2.94  33.4  \n",
       "4   396.90   5.33  36.2  "
      ]
     },
     "execution_count": 7,
     "metadata": {},
     "output_type": "execute_result"
    }
   ],
   "source": [
    "#We'll take a look at the first 5 rows\n",
    "df.head(5)"
   ]
  },
  {
   "cell_type": "code",
   "execution_count": 8,
   "metadata": {},
   "outputs": [
    {
     "data": {
      "text/plain": [
       "crim       0\n",
       "zn         0\n",
       "indus      0\n",
       "chas       0\n",
       "nox        0\n",
       "rm         0\n",
       "age        0\n",
       "dis        0\n",
       "rad        0\n",
       "tax        0\n",
       "b          0\n",
       "ptratio    0\n",
       "lstat      0\n",
       "MEDV       0\n",
       "dtype: int64"
      ]
     },
     "execution_count": 8,
     "metadata": {},
     "output_type": "execute_result"
    }
   ],
   "source": [
    "#check for null values\n",
    "df.isnull().sum()"
   ]
  },
  {
   "cell_type": "markdown",
   "metadata": {},
   "source": [
    "No null values found."
   ]
  },
  {
   "cell_type": "markdown",
   "metadata": {},
   "source": [
    "We can visualise the relationship between each variable and the target variable using the pairplot function:"
   ]
  },
  {
   "cell_type": "code",
   "execution_count": 9,
   "metadata": {},
   "outputs": [
    {
     "data": {
      "image/png": "[encoded data removed]",
      "text/plain": [
       "<Figure size 720x180 with 4 Axes>"
      ]
     },
     "metadata": {
      "needs_background": "light"
     },
     "output_type": "display_data"
    },
    {
     "data": {
      "image/png": "[encoded data removed]",
      "text/plain": [
       "<Figure size 720x180 with 4 Axes>"
      ]
     },
     "metadata": {
      "needs_background": "light"
     },
     "output_type": "display_data"
    },
    {
     "data": {
      "image/png": "[encoded data removed]",
      "text/plain": [
       "<Figure size 720x180 with 4 Axes>"
      ]
     },
     "metadata": {
      "needs_background": "light"
     },
     "output_type": "display_data"
    },
    {
     "data": {
      "image/png": "[encoded data removed]",
      "text/plain": [
       "<Figure size 360x180 with 2 Axes>"
      ]
     },
     "metadata": {
      "needs_background": "light"
     },
     "output_type": "display_data"
    }
   ],
   "source": [
    "#visualise the relationship between each variable and the target variable using pairplot function\n",
    "#code adapted from https://dataoutpost.wordpress.com/2018/04/03/eda-part-1-full-python-code/\n",
    "for i in range(0, len(df.columns), 4):\n",
    "    sns.pairplot(data=df,\n",
    "    x_vars=df.columns[i:i+4],\n",
    "    y_vars=['MEDV'])"
   ]
  },
  {
   "cell_type": "markdown",
   "metadata": {},
   "source": [
    "We can see from this that the variable RM (no. of rooms) appears to have a linear relationship with the price variable MEDV, which we would expect. We can also see that the variable LSTAT (% lower status of the population) appears to have a negative linear relationship with the price variable. We can fit a regression line to these using seaborn to confirm:"
   ]
  },
  {
   "cell_type": "code",
   "execution_count": 10,
   "metadata": {},
   "outputs": [
    {
     "data": {
      "text/plain": [
       "Text(0.5, 1.0, 'Number of Rooms per Dwelling vs. Median Home Value')"
      ]
     },
     "execution_count": 10,
     "metadata": {},
     "output_type": "execute_result"
    },
    {
     "data": {
      "image/png": "[encoded data removed]",
      "text/plain": [
       "<Figure size 432x288 with 1 Axes>"
      ]
     },
     "metadata": {
      "needs_background": "light"
     },
     "output_type": "display_data"
    }
   ],
   "source": [
    "sns.regplot(x=\"rm\", y=\"MEDV\", data = df)\n",
    "#sns.regplot(x=\"lstat\", y=\"MEDV\", data = df)\n",
    "plt.xlabel('# Rooms per Dwelling (RM)')\n",
    "plt.ylabel('Median Home Value (1,000s)')\n",
    "plt.title('Number of Rooms per Dwelling vs. Median Home Value')\n"
   ]
  },
  {
   "cell_type": "code",
   "execution_count": 11,
   "metadata": {},
   "outputs": [
    {
     "data": {
      "text/plain": [
       "Text(0.5, 1.0, 'Percentage of Population in Lower Economic Status vs. Median Home Value')"
      ]
     },
     "execution_count": 11,
     "metadata": {},
     "output_type": "execute_result"
    },
    {
     "data": {
      "image/png": "[encoded data removed]",
      "text/plain": [
       "<Figure size 432x288 with 1 Axes>"
      ]
     },
     "metadata": {
      "needs_background": "light"
     },
     "output_type": "display_data"
    }
   ],
   "source": [
    "sns.regplot(x=\"lstat\", y=\"MEDV\", data = df)\n",
    "plt.xlabel('% of Population in Lower Economic Status')\n",
    "plt.ylabel('Median Home Value ($1,000s)')\n",
    "plt.title('Percentage of Population in Lower Economic Status vs. Median Home Value')"
   ]
  },
  {
   "cell_type": "markdown",
   "metadata": {},
   "source": [
    "The 'MEDV' variable is our target variable, as it reflects the price of the property. Plotting this variable shows a normal distribution with some outliers:"
   ]
  },
  {
   "cell_type": "code",
   "execution_count": 12,
   "metadata": {},
   "outputs": [
    {
     "data": {
      "text/plain": [
       "<function matplotlib.pyplot.show(*args, **kw)>"
      ]
     },
     "execution_count": 12,
     "metadata": {},
     "output_type": "execute_result"
    },
    {
     "data": {
      "image/png": "[encoded data removed]",
      "text/plain": [
       "<Figure size 432x288 with 1 Axes>"
      ]
     },
     "metadata": {
      "needs_background": "light"
     },
     "output_type": "display_data"
    }
   ],
   "source": [
    "#plot medv values\n",
    "sns.distplot(df['MEDV'])\n",
    "plt.xlabel('Price ($1000s)')\n",
    "plt.show"
   ]
  },
  {
   "cell_type": "markdown",
   "metadata": {},
   "source": [
    "We can see from this plot that there is a disproportionate number of 'medv' values of 50. This is likely because when the data was being collected the values were in bands, with the highest being 50,000 and above. We will remove these as they skew the data."
   ]
  },
  {
   "cell_type": "code",
   "execution_count": 13,
   "metadata": {},
   "outputs": [],
   "source": [
    "#remove MEDV values of 50\n",
    "df = df[df.MEDV !=50]"
   ]
  },
  {
   "cell_type": "code",
   "execution_count": 14,
   "metadata": {},
   "outputs": [
    {
     "data": {
      "image/png": "[encoded data removed]",
      "text/plain": [
       "<Figure size 432x288 with 1 Axes>"
      ]
     },
     "metadata": {
      "needs_background": "light"
     },
     "output_type": "display_data"
    }
   ],
   "source": [
    "#plot medv values without the 50 values\n",
    "sns.distplot(df['MEDV'])\n",
    "plt.xlabel('Price ($1000s)')\n",
    "plt.show()"
   ]
  },
  {
   "cell_type": "markdown",
   "metadata": {},
   "source": []
  },
  {
   "cell_type": "markdown",
   "metadata": {},
   "source": [
    "Next we'll look at correlations between the variables. A correlation $<=0.25$ or $>=-0.25$ is a weak correlation and should not help us with predictions. "
   ]
  },
  {
   "cell_type": "code",
   "execution_count": 15,
   "metadata": {},
   "outputs": [
    {
     "data": {
      "image/png": "[encoded data removed]",
      "text/plain": [
       "<Figure size 1296x864 with 2 Axes>"
      ]
     },
     "metadata": {
      "needs_background": "light"
     },
     "output_type": "display_data"
    }
   ],
   "source": [
    "#show correlation between variables\n",
    "ax, fig = plt.subplots(figsize = (18,12))\n",
    "sns.heatmap(df.corr(), annot = True, cmap = 'coolwarm')\n",
    "plt.show()\n",
    "#blues show a negative correlation, oranges/reds a positive one"
   ]
  },
  {
   "cell_type": "markdown",
   "metadata": {},
   "source": [
    "From the plot above we can see that the variable with the strongest positive correlation is no. of rooms, and the one with the strongest negative correlation is % of lower status of population. Intuitively it is reasonable that houses with more rooms would cost more, likewise it is a fair assumption that areas with a higher proportion of lower socio-economic residents would have lower prices housing on average. From this there doesn't appear to be a strong correlation between the 'CHAS' variable and house prices.<br>\n",
    "Finally in this section we'll take a look at the prices variable:"
   ]
  },
  {
   "cell_type": "code",
   "execution_count": 16,
   "metadata": {},
   "outputs": [
    {
     "name": "stdout",
     "output_type": "stream",
     "text": [
      "Statistics for Boston housing dataset price variable:\n",
      "\n",
      "Minimum: $5.0\n",
      "Maximum: $48.8\n",
      "Mean: $21.635918367346957\n",
      "Median: $20.9\n",
      "Standard deviation: $7.857271146580542\n"
     ]
    }
   ],
   "source": [
    "prices = df['MEDV']\n",
    "features = df.drop('MEDV', axis = 1)\n",
    "prices.describe()\n",
    "\n",
    "#look at statistics of the price variable\n",
    "#code adapted from https://towardsdatascience.com/machine-learning-project-predicting-boston-house-prices-with-\n",
    "#regression-b4e47493633d\n",
    "minimum_price = np.amin(prices)\n",
    "maximum_price = np.amax(prices)\n",
    "mean_price = np.mean(prices)\n",
    "median_price = np.median(prices)\n",
    "std_price = np.std(prices)\n",
    "\n",
    "#Show the calculated statistics\n",
    "print(\"Statistics for Boston housing dataset price variable:\\n\")\n",
    "print(\"Minimum: ${}\".format(minimum_price)) \n",
    "print(\"Maximum: ${}\".format(maximum_price))\n",
    "print(\"Mean: ${}\".format(mean_price))\n",
    "print(\"Median: ${}\".format(median_price))\n",
    "print(\"Standard deviation: ${}\".format(std_price))"
   ]
  },
  {
   "cell_type": "markdown",
   "metadata": {},
   "source": [
    "### Part 2 - Inferential Statistics"
   ]
  },
  {
   "cell_type": "markdown",
   "metadata": {},
   "source": [
    "The aim of this section is to determine whether there is a significant difference in median prices of houses that are along the Charles river and those that are not. The Null Hypothesis will be that there is no difference between median house prices whether or not they are along the Charles River. We'll use a T Test to do this. Lets first take a look at the variable 'chas' which is the indicator as to whether the house lies along the river or not. '1' means it does, '0' means it does not. As this is a categorical variable we will use a stripplot to visualise the data:"
   ]
  },
  {
   "cell_type": "code",
   "execution_count": 17,
   "metadata": {},
   "outputs": [
    {
     "data": {
      "text/plain": [
       "<matplotlib.axes._subplots.AxesSubplot at 0x2611dbc57f0>"
      ]
     },
     "execution_count": 17,
     "metadata": {},
     "output_type": "execute_result"
    },
    {
     "data": {
      "image/png": "[encoded data removed]",
      "text/plain": [
       "<Figure size 432x288 with 1 Axes>"
      ]
     },
     "metadata": {
      "needs_background": "light"
     },
     "output_type": "display_data"
    }
   ],
   "source": [
    "sns.stripplot(x=\"chas\", y = 'MEDV', data = df, palette = 'bright')"
   ]
  },
  {
   "attachments": {
    "box_plot.png": {
     "image/png": "[encoded data removed]"
    }
   },
   "cell_type": "markdown",
   "metadata": {},
   "source": [
    "From observing the scatterplot above we can see that there are much fewer properties bordering the Charles river than properties that don't border it; it also looks like the highest priced properties are away from the river. <br> Next we'll use a boxplot, which shows the distribution of quantitative data in a way that allows comparisons between variables or across levels of a categorical variable. The box shows the quartiles of the dataset while the whiskers extend to show the rest of the distribution, except for points that are determined to be “outliers” using the inter-quartile range method.\n",
    "![box_plot.png](attachment:box_plot.png)\n"
   ]
  },
  {
   "cell_type": "code",
   "execution_count": 18,
   "metadata": {},
   "outputs": [
    {
     "data": {
      "text/plain": [
       "<matplotlib.axes._subplots.AxesSubplot at 0x2611dc15198>"
      ]
     },
     "execution_count": 18,
     "metadata": {},
     "output_type": "execute_result"
    },
    {
     "data": {
      "image/png": "[encoded data removed]",
      "text/plain": [
       "<Figure size 432x288 with 1 Axes>"
      ]
     },
     "metadata": {
      "needs_background": "light"
     },
     "output_type": "display_data"
    }
   ],
   "source": [
    "sns.boxplot(x = \"chas\", y = \"MEDV\", data = df, palette = 'bright')"
   ]
  },
  {
   "cell_type": "markdown",
   "metadata": {},
   "source": [
    "We can see that there are a lot of outliers in the properties not bordering the river, and the median price of houses bordering the river appears greater than that of houses not bordering it.\n",
    "Our null hypothesis is that there is statistically no difference between the median prices of houses that border the Charles River and those that don't. Our alternative hypothesis is that there is statistically a significant difference between the median prices of houses that border the Charles river and those that don't. Lets seperate the variable into its components:"
   ]
  },
  {
   "cell_type": "code",
   "execution_count": 19,
   "metadata": {},
   "outputs": [],
   "source": [
    "charles = df.drop(['crim','rm','dis','zn','indus','nox','age','rad','tax', 'b','ptratio','lstat'], axis =1)"
   ]
  },
  {
   "cell_type": "code",
   "execution_count": 20,
   "metadata": {},
   "outputs": [
    {
     "data": {
      "text/html": [
       "<div>\n",
       "<style scoped>\n",
       "    .dataframe tbody tr th:only-of-type {\n",
       "        vertical-align: middle;\n",
       "    }\n",
       "\n",
       "    .dataframe tbody tr th {\n",
       "        vertical-align: top;\n",
       "    }\n",
       "\n",
       "    .dataframe thead tr th {\n",
       "        text-align: left;\n",
       "    }\n",
       "\n",
       "    .dataframe thead tr:last-of-type th {\n",
       "        text-align: right;\n",
       "    }\n",
       "</style>\n",
       "<table border=\"1\" class=\"dataframe\">\n",
       "  <thead>\n",
       "    <tr>\n",
       "      <th></th>\n",
       "      <th colspan=\"8\" halign=\"left\">MEDV</th>\n",
       "    </tr>\n",
       "    <tr>\n",
       "      <th></th>\n",
       "      <th>count</th>\n",
       "      <th>mean</th>\n",
       "      <th>std</th>\n",
       "      <th>min</th>\n",
       "      <th>25%</th>\n",
       "      <th>50%</th>\n",
       "      <th>75%</th>\n",
       "      <th>max</th>\n",
       "    </tr>\n",
       "    <tr>\n",
       "      <th>chas</th>\n",
       "      <th></th>\n",
       "      <th></th>\n",
       "      <th></th>\n",
       "      <th></th>\n",
       "      <th></th>\n",
       "      <th></th>\n",
       "      <th></th>\n",
       "      <th></th>\n",
       "    </tr>\n",
       "  </thead>\n",
       "  <tbody>\n",
       "    <tr>\n",
       "      <th>0.0</th>\n",
       "      <td>461.0</td>\n",
       "      <td>21.488503</td>\n",
       "      <td>7.898848</td>\n",
       "      <td>5.0</td>\n",
       "      <td>16.5</td>\n",
       "      <td>20.6</td>\n",
       "      <td>24.5</td>\n",
       "      <td>48.8</td>\n",
       "    </tr>\n",
       "    <tr>\n",
       "      <th>1.0</th>\n",
       "      <td>29.0</td>\n",
       "      <td>23.979310</td>\n",
       "      <td>7.024161</td>\n",
       "      <td>13.4</td>\n",
       "      <td>20.0</td>\n",
       "      <td>22.4</td>\n",
       "      <td>27.0</td>\n",
       "      <td>46.0</td>\n",
       "    </tr>\n",
       "  </tbody>\n",
       "</table>\n",
       "</div>"
      ],
      "text/plain": [
       "       MEDV                                                   \n",
       "      count       mean       std   min   25%   50%   75%   max\n",
       "chas                                                          \n",
       "0.0   461.0  21.488503  7.898848   5.0  16.5  20.6  24.5  48.8\n",
       "1.0    29.0  23.979310  7.024161  13.4  20.0  22.4  27.0  46.0"
      ]
     },
     "execution_count": 20,
     "metadata": {},
     "output_type": "execute_result"
    }
   ],
   "source": [
    "#group data in chas variable by 1 or 0, either bordering the river or not\n",
    "group = charles.groupby('chas')\n",
    "#look at this dataframe\n",
    "group.describe().head()"
   ]
  },
  {
   "cell_type": "code",
   "execution_count": 21,
   "metadata": {},
   "outputs": [],
   "source": [
    "bound = charles[(charles['chas'] == 1.0)]\n",
    "notbound = charles[(charles['chas'] == 0.0)]\n"
   ]
  },
  {
   "cell_type": "markdown",
   "metadata": {},
   "source": [
    "The independent t-test is an inferential statistical test that determines whether there is a statistically significant difference between the means of two groups. To run an independent t-test we need:<br>\n",
    "<ul>\n",
    "    <li>An independent, categorical variable that has two groups (we have the CHAS variable that is divided into two groups, bound and not bound).</li>\n",
    "<li>A continuous dependent variable (we have the MEDV variable).</li> \n",
    "</ul>\n",
    "There are number of tests that should be performed before performing an independent t-test. <br> 1. The Levene test for equal variances: The Levene test tests the null hypothesis that all input samples are from populations with equal variances. If the p-value of Levene's test is less than some significance level (typically 0.05), the obtained differences in sample variances are unlikely to have occurred based on random sampling from a population with equal variances. Thus, the null hypothesis of equal variances is rejected and it is concluded that there is a difference between the variances in the population. We conduct the Levene test using the stats package in scipy:"
   ]
  },
  {
   "cell_type": "code",
   "execution_count": 22,
   "metadata": {},
   "outputs": [
    {
     "data": {
      "text/plain": [
       "LeveneResult(statistic=0.6887118673011111, pvalue=0.40700864732277753)"
      ]
     },
     "execution_count": 22,
     "metadata": {},
     "output_type": "execute_result"
    }
   ],
   "source": [
    "from scipy import stats\n",
    "stats.levene(notbound['MEDV'], bound['MEDV'])"
   ]
  },
  {
   "cell_type": "markdown",
   "metadata": {},
   "source": [
    "The Pvalue is greater than .05, meaning there is homogeneity of variances and we can proceed. <br> <br>2. The second test we need to conduct is to test the assumption of normality - the distributions should be normal. We can use the shapiro test from the stats package in scipy for this:"
   ]
  },
  {
   "cell_type": "code",
   "execution_count": 23,
   "metadata": {},
   "outputs": [
    {
     "data": {
      "text/plain": [
       "(0.9188438653945923, 0.028505902737379074)"
      ]
     },
     "execution_count": 23,
     "metadata": {},
     "output_type": "execute_result"
    }
   ],
   "source": [
    "stats.shapiro(bound['MEDV'])"
   ]
  },
  {
   "cell_type": "code",
   "execution_count": 24,
   "metadata": {},
   "outputs": [
    {
     "data": {
      "text/plain": [
       "(0.9592850804328918, 5.540209957466402e-10)"
      ]
     },
     "execution_count": 24,
     "metadata": {},
     "output_type": "execute_result"
    }
   ],
   "source": [
    "stats.shapiro(notbound['MEDV'])"
   ]
  },
  {
   "cell_type": "markdown",
   "metadata": {},
   "source": [
    "Since $p>0.5$ for those properties not bordering the Charles river the distribution passes the normality criteria. However $p<.05$ for those properties bordering the river, so this distribution is not normal. We can see this illustrated in the histgrams below:"
   ]
  },
  {
   "cell_type": "code",
   "execution_count": 25,
   "metadata": {},
   "outputs": [
    {
     "data": {
      "text/plain": [
       "<matplotlib.axes._subplots.AxesSubplot at 0x2611dc2d860>"
      ]
     },
     "execution_count": 25,
     "metadata": {},
     "output_type": "execute_result"
    },
    {
     "data": {
      "image/png": "[encoded data removed]",
      "text/plain": [
       "<Figure size 432x288 with 1 Axes>"
      ]
     },
     "metadata": {
      "needs_background": "light"
     },
     "output_type": "display_data"
    }
   ],
   "source": [
    "sns.distplot(bound['MEDV'], hist='True')\n",
    "\n",
    "#plt.show()"
   ]
  },
  {
   "cell_type": "code",
   "execution_count": 26,
   "metadata": {},
   "outputs": [
    {
     "data": {
      "text/plain": [
       "<matplotlib.axes._subplots.AxesSubplot at 0x2611d3962e8>"
      ]
     },
     "execution_count": 26,
     "metadata": {},
     "output_type": "execute_result"
    },
    {
     "data": {
      "image/png": "[encoded data removed]",
      "text/plain": [
       "<Figure size 432x288 with 1 Axes>"
      ]
     },
     "metadata": {
      "needs_background": "light"
     },
     "output_type": "display_data"
    }
   ],
   "source": [
    "sns.distplot(notbound['MEDV'], hist='True')\n",
    "#plt.show()"
   ]
  },
  {
   "cell_type": "markdown",
   "metadata": {},
   "source": [
    "It should be noted that there are a lot fewer data points bounding the river so it is more difficult to make an assumption about normality. It the data isn't normally distributed a non-parametric test should be used. <br> Running an independent t-test gives us the following:"
   ]
  },
  {
   "cell_type": "code",
   "execution_count": 27,
   "metadata": {},
   "outputs": [
    {
     "data": {
      "text/plain": [
       "Ttest_indResult(statistic=1.6571053443179937, pvalue=0.09814089320087695)"
      ]
     },
     "execution_count": 27,
     "metadata": {},
     "output_type": "execute_result"
    }
   ],
   "source": [
    "stats.ttest_ind(bound['MEDV'],notbound['MEDV'] )"
   ]
  },
  {
   "cell_type": "markdown",
   "metadata": {},
   "source": [
    "#### Interpretation:\n",
    "To determine if there is a significant difference between the groups we need to set a p-value threshold. If the test produces a p-value which is less than the threshold p-value then the test is said to be significant and that there is a significant difference between the two means. This means one rejects the null hypothesis in support of the alternative. Most commonly the p-value is set to 0.05 , so that's what we'll set it as. The result of the independent t-test is a p value of 0.098. As this is greater that the threshold set we reject the null hypothese that there is no difference in the means of the properties that border the Charles river and those that don't.<br> As there is some doubt regarding the normality of the data we'll also conduct a Welch t test - this is appropriate when the groups have vastly different sizes, as our Charles river groups do:"
   ]
  },
  {
   "cell_type": "code",
   "execution_count": 28,
   "metadata": {},
   "outputs": [
    {
     "data": {
      "text/plain": [
       "Ttest_indResult(statistic=1.8379064458206327, pvalue=0.07519889252702865)"
      ]
     },
     "execution_count": 28,
     "metadata": {},
     "output_type": "execute_result"
    }
   ],
   "source": [
    "stats.ttest_ind(bound['MEDV'],notbound['MEDV'], equal_var = False)"
   ]
  },
  {
   "cell_type": "markdown",
   "metadata": {},
   "source": [
    "This gives us the same result, i.e. we reject the null hypothesis that there is no difference in the means of the properties that border the Charles river and those that don't."
   ]
  },
  {
   "cell_type": "markdown",
   "metadata": {},
   "source": [
    "### Part 3 - Predict"
   ]
  },
  {
   "cell_type": "markdown",
   "metadata": {},
   "source": [
    "The aim of this section is to use keras to create a neural network that can predict the median house price based on some or all of the other variables in the dataset. A neural network is composed of:\n",
    "<ul>\n",
    "    <li>Layers - combine to make a network or model</li>\n",
    "    <li>Input data and corresponding targets</li>\n",
    "    <li>Loss function, which defines the feedback signal used for learning</li>\n",
    "    <li>Optimizer, which determines how learning proceeds</li>\n",
    "</ul>\n",
    "The layers map the input data to predictions, the loss function then compares these predictions to the targets, and produce a loss value, which is a measure of how well the predictions match what was expected. "
   ]
  },
  {
   "cell_type": "code",
   "execution_count": 29,
   "metadata": {},
   "outputs": [
    {
     "name": "stderr",
     "output_type": "stream",
     "text": [
      "Using TensorFlow backend.\n"
     ]
    }
   ],
   "source": [
    "import tensorflow as tf\n",
    "import keras as kr\n",
    "# For splitting data sets.\n",
    "import sklearn.model_selection as mod\n",
    "# For whitening.\n",
    "import sklearn.decomposition as dec\n",
    "# For preprocessing data.\n",
    "import sklearn.preprocessing as pre\n",
    "#split dataframe into target & other variables\n",
    "x = df.drop('MEDV', axis = 1)\n",
    "y = df['MEDV']\n"
   ]
  },
  {
   "cell_type": "code",
   "execution_count": 30,
   "metadata": {},
   "outputs": [],
   "source": [
    "#split data into testing & training split, 80% train, 20% test\n",
    "x_train, x_test, y_train, y_test = mod.train_test_split(x, y, test_size=0.2)"
   ]
  },
  {
   "cell_type": "code",
   "execution_count": 31,
   "metadata": {},
   "outputs": [
    {
     "data": {
      "text/plain": [
       "(392, 13)"
      ]
     },
     "execution_count": 31,
     "metadata": {},
     "output_type": "execute_result"
    }
   ],
   "source": [
    "x_train.shape\n"
   ]
  },
  {
   "cell_type": "code",
   "execution_count": 32,
   "metadata": {},
   "outputs": [
    {
     "data": {
      "text/plain": [
       "(98, 13)"
      ]
     },
     "execution_count": 32,
     "metadata": {},
     "output_type": "execute_result"
    }
   ],
   "source": [
    "x_test.shape"
   ]
  },
  {
   "cell_type": "markdown",
   "metadata": {},
   "source": [
    "Looking at the data we can see that we have 392 training samples and 98 testing samples, each with thirteen feature variables, as detailed in section 1 above. Our target variable is the median value of houses, in thousands of dollars. "
   ]
  },
  {
   "cell_type": "markdown",
   "metadata": {},
   "source": [
    "#### Building & training:<br>\n",
    "Now we'll build and train our model. As there are not a large number of samples we'll use a small network with two hidden layers. The last layer is linear, so the network is free to predict values in any range. We are using the Mean Squared Error loss function; this is the square of the difference between predictions and targets. It is a widely used loss function for regression problems. We are also measuring the MAE (Mean Absolute Error), which is the absolute value of the difference between predictions and targets.<br>\n",
    "##### Example 1:"
   ]
  },
  {
   "cell_type": "code",
   "execution_count": 55,
   "metadata": {},
   "outputs": [],
   "source": [
    "m = kr.models.Sequential()\n",
    "\n",
    "m.add(kr.layers.Dense(26, input_dim=13, activation=\"relu\"))\n",
    "m.add(kr.layers.Dense(26, input_dim=13, activation=\"relu\"))\n",
    "m.add(kr.layers.Dense(1, activation=\"linear\"))\n",
    "\n",
    "m.compile(loss=\"mean_squared_error\", optimizer=\"rmsprop\", metrics=['mae'])"
   ]
  },
  {
   "cell_type": "code",
   "execution_count": 56,
   "metadata": {},
   "outputs": [
    {
     "name": "stdout",
     "output_type": "stream",
     "text": [
      "Epoch 1/300\n",
      "392/392 [==============================] - 0s 326us/step - loss: 169.5091 - mae: 8.6967\n",
      "Epoch 2/300\n",
      "392/392 [==============================] - 0s 102us/step - loss: 48.2831 - mae: 5.4302\n",
      "Epoch 3/300\n",
      "392/392 [==============================] - 0s 102us/step - loss: 48.0722 - mae: 5.3141\n",
      "Epoch 4/300\n",
      "392/392 [==============================] - 0s 112us/step - loss: 50.5213 - mae: 5.3578\n",
      "Epoch 5/300\n",
      "392/392 [==============================] - 0s 92us/step - loss: 45.9248 - mae: 5.2003\n",
      "Epoch 6/300\n",
      "392/392 [==============================] - 0s 92us/step - loss: 44.0427 - mae: 5.1398\n",
      "Epoch 7/300\n",
      "392/392 [==============================] - 0s 92us/step - loss: 37.7525 - mae: 4.7645\n",
      "Epoch 8/300\n",
      "392/392 [==============================] - 0s 92us/step - loss: 41.2945 - mae: 4.9044\n",
      "Epoch 9/300\n",
      "392/392 [==============================] - 0s 112us/step - loss: 41.6857 - mae: 4.9663\n",
      "Epoch 10/300\n",
      "392/392 [==============================] - 0s 92us/step - loss: 41.5492 - mae: 4.9843\n",
      "Epoch 11/300\n",
      "392/392 [==============================] - 0s 102us/step - loss: 41.8806 - mae: 4.8838\n",
      "Epoch 12/300\n",
      "392/392 [==============================] - 0s 102us/step - loss: 39.1006 - mae: 4.7910\n",
      "Epoch 13/300\n",
      "392/392 [==============================] - 0s 102us/step - loss: 39.5999 - mae: 4.7300\n",
      "Epoch 14/300\n",
      "392/392 [==============================] - 0s 92us/step - loss: 40.1816 - mae: 4.8681\n",
      "Epoch 15/300\n",
      "392/392 [==============================] - 0s 102us/step - loss: 39.2173 - mae: 4.7496\n",
      "Epoch 16/300\n",
      "392/392 [==============================] - 0s 112us/step - loss: 35.3780 - mae: 4.4371\n",
      "Epoch 17/300\n",
      "392/392 [==============================] - 0s 102us/step - loss: 34.4033 - mae: 4.4525\n",
      "Epoch 18/300\n",
      "392/392 [==============================] - 0s 102us/step - loss: 35.3734 - mae: 4.7099\n",
      "Epoch 19/300\n",
      "392/392 [==============================] - 0s 102us/step - loss: 39.9643 - mae: 4.7813\n",
      "Epoch 20/300\n",
      "392/392 [==============================] - 0s 92us/step - loss: 35.8055 - mae: 4.5513\n",
      "Epoch 21/300\n",
      "392/392 [==============================] - 0s 112us/step - loss: 34.4874 - mae: 4.4733\n",
      "Epoch 22/300\n",
      "392/392 [==============================] - 0s 102us/step - loss: 35.4049 - mae: 4.5083\n",
      "Epoch 23/300\n",
      "392/392 [==============================] - 0s 92us/step - loss: 34.5574 - mae: 4.5350\n",
      "Epoch 24/300\n",
      "392/392 [==============================] - 0s 102us/step - loss: 34.1860 - mae: 4.5173\n",
      "Epoch 25/300\n",
      "392/392 [==============================] - 0s 92us/step - loss: 34.1754 - mae: 4.3888\n",
      "Epoch 26/300\n",
      "392/392 [==============================] - 0s 92us/step - loss: 33.8887 - mae: 4.4323\n",
      "Epoch 27/300\n",
      "392/392 [==============================] - 0s 112us/step - loss: 34.9691 - mae: 4.5456\n",
      "Epoch 28/300\n",
      "392/392 [==============================] - 0s 102us/step - loss: 33.0255 - mae: 4.3248\n",
      "Epoch 29/300\n",
      "392/392 [==============================] - 0s 112us/step - loss: 32.6649 - mae: 4.3095\n",
      "Epoch 30/300\n",
      "392/392 [==============================] - 0s 102us/step - loss: 33.3630 - mae: 4.3918\n",
      "Epoch 31/300\n",
      "392/392 [==============================] - 0s 92us/step - loss: 32.6772 - mae: 4.3723\n",
      "Epoch 32/300\n",
      "392/392 [==============================] - 0s 92us/step - loss: 30.4333 - mae: 4.1602\n",
      "Epoch 33/300\n",
      "392/392 [==============================] - 0s 92us/step - loss: 34.0333 - mae: 4.4342\n",
      "Epoch 34/300\n",
      "392/392 [==============================] - 0s 102us/step - loss: 30.9928 - mae: 4.2902\n",
      "Epoch 35/300\n",
      "392/392 [==============================] - 0s 102us/step - loss: 30.3177 - mae: 4.1846\n",
      "Epoch 36/300\n",
      "392/392 [==============================] - 0s 92us/step - loss: 30.9115 - mae: 4.2349\n",
      "Epoch 37/300\n",
      "392/392 [==============================] - 0s 112us/step - loss: 29.5847 - mae: 4.0632\n",
      "Epoch 38/300\n",
      "392/392 [==============================] - 0s 112us/step - loss: 30.7717 - mae: 4.2515\n",
      "Epoch 39/300\n",
      "392/392 [==============================] - 0s 92us/step - loss: 26.7857 - mae: 3.9830\n",
      "Epoch 40/300\n",
      "392/392 [==============================] - 0s 102us/step - loss: 29.3635 - mae: 4.2133\n",
      "Epoch 41/300\n",
      "392/392 [==============================] - 0s 92us/step - loss: 30.8895 - mae: 4.3082\n",
      "Epoch 42/300\n",
      "392/392 [==============================] - 0s 92us/step - loss: 29.1616 - mae: 4.0929\n",
      "Epoch 43/300\n",
      "392/392 [==============================] - 0s 92us/step - loss: 28.6596 - mae: 4.0925\n",
      "Epoch 44/300\n",
      "392/392 [==============================] - 0s 102us/step - loss: 30.3534 - mae: 4.3233\n",
      "Epoch 45/300\n",
      "392/392 [==============================] - 0s 112us/step - loss: 28.5609 - mae: 4.1325\n",
      "Epoch 46/300\n",
      "392/392 [==============================] - 0s 102us/step - loss: 28.5163 - mae: 4.0547\n",
      "Epoch 47/300\n",
      "392/392 [==============================] - 0s 92us/step - loss: 29.1779 - mae: 4.0089\n",
      "Epoch 48/300\n",
      "392/392 [==============================] - 0s 92us/step - loss: 28.3485 - mae: 4.0384\n",
      "Epoch 49/300\n",
      "392/392 [==============================] - 0s 102us/step - loss: 28.1912 - mae: 3.9983\n",
      "Epoch 50/300\n",
      "392/392 [==============================] - 0s 92us/step - loss: 29.9068 - mae: 4.1752\n",
      "Epoch 51/300\n",
      "392/392 [==============================] - 0s 102us/step - loss: 28.5366 - mae: 4.1711\n",
      "Epoch 52/300\n",
      "392/392 [==============================] - 0s 102us/step - loss: 28.1911 - mae: 4.0430\n",
      "Epoch 53/300\n",
      "392/392 [==============================] - 0s 92us/step - loss: 27.0429 - mae: 3.8941\n",
      "Epoch 54/300\n",
      "392/392 [==============================] - 0s 92us/step - loss: 27.6334 - mae: 4.1528\n",
      "Epoch 55/300\n",
      "392/392 [==============================] - 0s 102us/step - loss: 28.4494 - mae: 4.0378\n",
      "Epoch 56/300\n",
      "392/392 [==============================] - 0s 92us/step - loss: 26.5970 - mae: 3.9307\n",
      "Epoch 57/300\n",
      "392/392 [==============================] - 0s 102us/step - loss: 25.7488 - mae: 3.8179\n",
      "Epoch 58/300\n",
      "392/392 [==============================] - 0s 92us/step - loss: 26.1323 - mae: 3.9187\n",
      "Epoch 59/300\n",
      "392/392 [==============================] - 0s 92us/step - loss: 26.8956 - mae: 3.9713\n",
      "Epoch 60/300\n",
      "392/392 [==============================] - 0s 92us/step - loss: 25.8316 - mae: 3.7509\n",
      "Epoch 61/300\n",
      "392/392 [==============================] - 0s 92us/step - loss: 25.3297 - mae: 3.8361\n",
      "Epoch 62/300\n",
      "392/392 [==============================] - 0s 102us/step - loss: 25.8502 - mae: 3.7949\n",
      "Epoch 63/300\n",
      "392/392 [==============================] - 0s 102us/step - loss: 25.1897 - mae: 3.7746\n",
      "Epoch 64/300\n",
      "392/392 [==============================] - 0s 82us/step - loss: 25.4418 - mae: 3.9321\n",
      "Epoch 65/300\n",
      "392/392 [==============================] - 0s 92us/step - loss: 25.2211 - mae: 3.7896\n",
      "Epoch 66/300\n",
      "392/392 [==============================] - 0s 92us/step - loss: 22.9582 - mae: 3.6354\n",
      "Epoch 67/300\n",
      "392/392 [==============================] - 0s 92us/step - loss: 26.1715 - mae: 3.8508\n",
      "Epoch 68/300\n",
      "392/392 [==============================] - 0s 82us/step - loss: 24.4646 - mae: 3.6657\n",
      "Epoch 69/300\n",
      "392/392 [==============================] - 0s 92us/step - loss: 22.8668 - mae: 3.6053\n",
      "Epoch 70/300\n",
      "392/392 [==============================] - 0s 102us/step - loss: 24.2692 - mae: 3.8016\n",
      "Epoch 71/300\n",
      "392/392 [==============================] - 0s 92us/step - loss: 25.9466 - mae: 3.8940\n",
      "Epoch 72/300\n",
      "392/392 [==============================] - 0s 81us/step - loss: 25.3161 - mae: 3.9003\n",
      "Epoch 73/300\n",
      "392/392 [==============================] - 0s 102us/step - loss: 24.6358 - mae: 3.7733\n",
      "Epoch 74/300\n",
      "392/392 [==============================] - 0s 112us/step - loss: 24.7582 - mae: 3.8203\n",
      "Epoch 75/300\n",
      "392/392 [==============================] - 0s 112us/step - loss: 23.3143 - mae: 3.6665\n",
      "Epoch 76/300\n",
      "392/392 [==============================] - 0s 82us/step - loss: 24.3217 - mae: 3.6983\n",
      "Epoch 77/300\n",
      "392/392 [==============================] - ETA: 0s - loss: 34.7341 - mae: 4.50 - 0s 82us/step - loss: 21.6554 - mae: 3.5769\n",
      "Epoch 78/300\n",
      "392/392 [==============================] - 0s 92us/step - loss: 24.9669 - mae: 3.7337\n",
      "Epoch 79/300\n",
      "392/392 [==============================] - 0s 92us/step - loss: 24.5662 - mae: 3.7628\n",
      "Epoch 80/300\n",
      "392/392 [==============================] - 0s 102us/step - loss: 22.6448 - mae: 3.6124\n",
      "Epoch 81/300\n",
      "392/392 [==============================] - 0s 102us/step - loss: 22.1581 - mae: 3.5779\n",
      "Epoch 82/300\n",
      "392/392 [==============================] - 0s 112us/step - loss: 22.6259 - mae: 3.5812\n",
      "Epoch 83/300\n"
     ]
    },
    {
     "name": "stdout",
     "output_type": "stream",
     "text": [
      "392/392 [==============================] - 0s 92us/step - loss: 24.6305 - mae: 3.8814\n",
      "Epoch 84/300\n",
      "392/392 [==============================] - 0s 102us/step - loss: 22.2108 - mae: 3.6515\n",
      "Epoch 85/300\n",
      "392/392 [==============================] - 0s 102us/step - loss: 21.5204 - mae: 3.5118\n",
      "Epoch 86/300\n",
      "392/392 [==============================] - 0s 112us/step - loss: 21.8754 - mae: 3.6297\n",
      "Epoch 87/300\n",
      "392/392 [==============================] - 0s 112us/step - loss: 22.5569 - mae: 3.5837\n",
      "Epoch 88/300\n",
      "392/392 [==============================] - 0s 102us/step - loss: 22.8873 - mae: 3.6855\n",
      "Epoch 89/300\n",
      "392/392 [==============================] - 0s 112us/step - loss: 21.2693 - mae: 3.4927\n",
      "Epoch 90/300\n",
      "392/392 [==============================] - 0s 102us/step - loss: 21.7191 - mae: 3.5682\n",
      "Epoch 91/300\n",
      "392/392 [==============================] - 0s 92us/step - loss: 21.9225 - mae: 3.6278\n",
      "Epoch 92/300\n",
      "392/392 [==============================] - 0s 92us/step - loss: 21.7180 - mae: 3.5355\n",
      "Epoch 93/300\n",
      "392/392 [==============================] - 0s 102us/step - loss: 21.9940 - mae: 3.5333\n",
      "Epoch 94/300\n",
      "392/392 [==============================] - 0s 102us/step - loss: 21.0252 - mae: 3.4986\n",
      "Epoch 95/300\n",
      "392/392 [==============================] - 0s 92us/step - loss: 22.0354 - mae: 3.6027\n",
      "Epoch 96/300\n",
      "392/392 [==============================] - 0s 92us/step - loss: 21.6906 - mae: 3.5703\n",
      "Epoch 97/300\n",
      "392/392 [==============================] - 0s 92us/step - loss: 20.4267 - mae: 3.4003\n",
      "Epoch 98/300\n",
      "392/392 [==============================] - 0s 92us/step - loss: 23.0847 - mae: 3.6521\n",
      "Epoch 99/300\n",
      "392/392 [==============================] - 0s 82us/step - loss: 19.4170 - mae: 3.2914\n",
      "Epoch 100/300\n",
      "392/392 [==============================] - 0s 102us/step - loss: 20.2261 - mae: 3.5938\n",
      "Epoch 101/300\n",
      "392/392 [==============================] - 0s 92us/step - loss: 20.8530 - mae: 3.5159\n",
      "Epoch 102/300\n",
      "392/392 [==============================] - 0s 102us/step - loss: 20.8455 - mae: 3.5088\n",
      "Epoch 103/300\n",
      "392/392 [==============================] - 0s 92us/step - loss: 22.5903 - mae: 3.5859\n",
      "Epoch 104/300\n",
      "392/392 [==============================] - 0s 102us/step - loss: 19.2685 - mae: 3.3237\n",
      "Epoch 105/300\n",
      "392/392 [==============================] - 0s 102us/step - loss: 19.3128 - mae: 3.3808\n",
      "Epoch 106/300\n",
      "392/392 [==============================] - 0s 102us/step - loss: 20.1233 - mae: 3.3857\n",
      "Epoch 107/300\n",
      "392/392 [==============================] - 0s 92us/step - loss: 20.2473 - mae: 3.3937\n",
      "Epoch 108/300\n",
      "392/392 [==============================] - 0s 82us/step - loss: 19.9856 - mae: 3.4417\n",
      "Epoch 109/300\n",
      "392/392 [==============================] - 0s 82us/step - loss: 20.3454 - mae: 3.4193\n",
      "Epoch 110/300\n",
      "392/392 [==============================] - ETA: 0s - loss: 30.6860 - mae: 4.06 - 0s 92us/step - loss: 19.8210 - mae: 3.4718\n",
      "Epoch 111/300\n",
      "392/392 [==============================] - ETA: 0s - loss: 52.5333 - mae: 6.30 - 0s 92us/step - loss: 21.0003 - mae: 3.4540\n",
      "Epoch 112/300\n",
      "392/392 [==============================] - 0s 92us/step - loss: 19.5099 - mae: 3.3026\n",
      "Epoch 113/300\n",
      "392/392 [==============================] - ETA: 0s - loss: 13.2036 - mae: 2.78 - 0s 102us/step - loss: 19.8589 - mae: 3.4074\n",
      "Epoch 114/300\n",
      "392/392 [==============================] - 0s 92us/step - loss: 19.2398 - mae: 3.3066\n",
      "Epoch 115/300\n",
      "392/392 [==============================] - 0s 82us/step - loss: 20.3970 - mae: 3.4128\n",
      "Epoch 116/300\n",
      "392/392 [==============================] - 0s 102us/step - loss: 19.9826 - mae: 3.3545\n",
      "Epoch 117/300\n",
      "392/392 [==============================] - 0s 92us/step - loss: 20.2870 - mae: 3.4094\n",
      "Epoch 118/300\n",
      "392/392 [==============================] - 0s 102us/step - loss: 17.6060 - mae: 3.1285\n",
      "Epoch 119/300\n",
      "392/392 [==============================] - 0s 82us/step - loss: 19.7931 - mae: 3.4005\n",
      "Epoch 120/300\n",
      "392/392 [==============================] - 0s 92us/step - loss: 18.3203 - mae: 3.2313\n",
      "Epoch 121/300\n",
      "392/392 [==============================] - 0s 92us/step - loss: 19.5884 - mae: 3.3190\n",
      "Epoch 122/300\n",
      "392/392 [==============================] - 0s 92us/step - loss: 19.0596 - mae: 3.3503\n",
      "Epoch 123/300\n",
      "392/392 [==============================] - 0s 92us/step - loss: 19.2304 - mae: 3.2813\n",
      "Epoch 124/300\n",
      "392/392 [==============================] - 0s 92us/step - loss: 19.4897 - mae: 3.3877\n",
      "Epoch 125/300\n",
      "392/392 [==============================] - 0s 92us/step - loss: 19.1165 - mae: 3.3715\n",
      "Epoch 126/300\n",
      "392/392 [==============================] - 0s 92us/step - loss: 18.9011 - mae: 3.2330\n",
      "Epoch 127/300\n",
      "392/392 [==============================] - 0s 102us/step - loss: 18.1727 - mae: 3.2708\n",
      "Epoch 128/300\n",
      "392/392 [==============================] - 0s 92us/step - loss: 18.4061 - mae: 3.2358\n",
      "Epoch 129/300\n",
      "392/392 [==============================] - ETA: 0s - loss: 34.7161 - mae: 4.39 - 0s 92us/step - loss: 18.0179 - mae: 3.2859\n",
      "Epoch 130/300\n",
      "392/392 [==============================] - 0s 92us/step - loss: 18.9842 - mae: 3.3585\n",
      "Epoch 131/300\n",
      "392/392 [==============================] - 0s 92us/step - loss: 19.0402 - mae: 3.3170\n",
      "Epoch 132/300\n",
      "392/392 [==============================] - 0s 92us/step - loss: 19.1402 - mae: 3.3142\n",
      "Epoch 133/300\n",
      "392/392 [==============================] - 0s 82us/step - loss: 18.4031 - mae: 3.2865\n",
      "Epoch 134/300\n",
      "392/392 [==============================] - 0s 82us/step - loss: 19.3756 - mae: 3.3457\n",
      "Epoch 135/300\n",
      "392/392 [==============================] - 0s 92us/step - loss: 16.4724 - mae: 3.0619\n",
      "Epoch 136/300\n",
      "392/392 [==============================] - 0s 92us/step - loss: 17.6982 - mae: 3.2268\n",
      "Epoch 137/300\n",
      "392/392 [==============================] - 0s 102us/step - loss: 18.0300 - mae: 3.2114\n",
      "Epoch 138/300\n",
      "392/392 [==============================] - 0s 92us/step - loss: 17.7864 - mae: 3.1888\n",
      "Epoch 139/300\n",
      "392/392 [==============================] - 0s 92us/step - loss: 17.6976 - mae: 3.1442\n",
      "Epoch 140/300\n",
      "392/392 [==============================] - ETA: 0s - loss: 17.4043 - mae: 3.64 - 0s 92us/step - loss: 17.4557 - mae: 3.2244\n",
      "Epoch 141/300\n",
      "392/392 [==============================] - 0s 82us/step - loss: 18.3519 - mae: 3.3270\n",
      "Epoch 142/300\n",
      "392/392 [==============================] - 0s 102us/step - loss: 17.6639 - mae: 3.1143\n",
      "Epoch 143/300\n",
      "392/392 [==============================] - 0s 92us/step - loss: 17.9899 - mae: 3.1380\n",
      "Epoch 144/300\n",
      "392/392 [==============================] - 0s 92us/step - loss: 17.2619 - mae: 3.1044\n",
      "Epoch 145/300\n",
      "392/392 [==============================] - 0s 92us/step - loss: 17.4550 - mae: 3.1538\n",
      "Epoch 146/300\n",
      "392/392 [==============================] - 0s 82us/step - loss: 17.7627 - mae: 3.1092\n",
      "Epoch 147/300\n",
      "392/392 [==============================] - 0s 92us/step - loss: 18.6404 - mae: 3.2632\n",
      "Epoch 148/300\n",
      "392/392 [==============================] - 0s 92us/step - loss: 18.2242 - mae: 3.3151\n",
      "Epoch 149/300\n",
      "392/392 [==============================] - 0s 92us/step - loss: 17.2108 - mae: 3.1345\n",
      "Epoch 150/300\n",
      "392/392 [==============================] - 0s 102us/step - loss: 16.6542 - mae: 3.0520\n",
      "Epoch 151/300\n",
      "392/392 [==============================] - 0s 92us/step - loss: 17.4011 - mae: 3.0988\n",
      "Epoch 152/300\n",
      "392/392 [==============================] - 0s 92us/step - loss: 17.5573 - mae: 3.1549\n",
      "Epoch 153/300\n",
      "392/392 [==============================] - 0s 82us/step - loss: 16.9170 - mae: 3.1278\n",
      "Epoch 154/300\n",
      "392/392 [==============================] - 0s 82us/step - loss: 16.1716 - mae: 3.1269\n",
      "Epoch 155/300\n",
      "392/392 [==============================] - 0s 92us/step - loss: 16.0701 - mae: 3.0816\n",
      "Epoch 156/300\n",
      "392/392 [==============================] - 0s 92us/step - loss: 16.8700 - mae: 3.1640\n",
      "Epoch 157/300\n",
      "392/392 [==============================] - 0s 92us/step - loss: 16.9502 - mae: 3.1167\n",
      "Epoch 158/300\n",
      "392/392 [==============================] - 0s 92us/step - loss: 17.3837 - mae: 3.1434\n",
      "Epoch 159/300\n",
      "392/392 [==============================] - 0s 102us/step - loss: 16.8101 - mae: 3.0842\n",
      "Epoch 160/300\n",
      "392/392 [==============================] - 0s 92us/step - loss: 17.3042 - mae: 3.1583\n",
      "Epoch 161/300\n",
      "392/392 [==============================] - 0s 122us/step - loss: 15.4560 - mae: 3.0423\n",
      "Epoch 162/300\n",
      "392/392 [==============================] - 0s 183us/step - loss: 16.4079 - mae: 3.0905\n",
      "Epoch 163/300\n"
     ]
    },
    {
     "name": "stdout",
     "output_type": "stream",
     "text": [
      "392/392 [==============================] - 0s 194us/step - loss: 18.3863 - mae: 3.2616\n",
      "Epoch 164/300\n",
      "392/392 [==============================] - 0s 194us/step - loss: 15.3598 - mae: 2.9938\n",
      "Epoch 165/300\n",
      "392/392 [==============================] - 0s 194us/step - loss: 15.7972 - mae: 3.1172\n",
      "Epoch 166/300\n",
      "392/392 [==============================] - 0s 183us/step - loss: 16.1110 - mae: 3.0446\n",
      "Epoch 167/300\n",
      "392/392 [==============================] - 0s 183us/step - loss: 16.1014 - mae: 3.0083\n",
      "Epoch 168/300\n",
      "392/392 [==============================] - 0s 204us/step - loss: 15.2943 - mae: 2.9742\n",
      "Epoch 169/300\n",
      "392/392 [==============================] - 0s 194us/step - loss: 16.6133 - mae: 3.1657\n",
      "Epoch 170/300\n",
      "392/392 [==============================] - 0s 183us/step - loss: 15.6549 - mae: 2.9797\n",
      "Epoch 171/300\n",
      "392/392 [==============================] - 0s 194us/step - loss: 16.5230 - mae: 3.1595\n",
      "Epoch 172/300\n",
      "392/392 [==============================] - 0s 204us/step - loss: 15.0209 - mae: 2.9226\n",
      "Epoch 173/300\n",
      "392/392 [==============================] - 0s 194us/step - loss: 15.5828 - mae: 2.9876\n",
      "Epoch 174/300\n",
      "392/392 [==============================] - 0s 204us/step - loss: 16.4097 - mae: 3.0993\n",
      "Epoch 175/300\n",
      "392/392 [==============================] - 0s 214us/step - loss: 16.7135 - mae: 3.0684\n",
      "Epoch 176/300\n",
      "392/392 [==============================] - 0s 183us/step - loss: 14.7893 - mae: 2.8115\n",
      "Epoch 177/300\n",
      "392/392 [==============================] - 0s 183us/step - loss: 15.4235 - mae: 3.0267\n",
      "Epoch 178/300\n",
      "392/392 [==============================] - 0s 183us/step - loss: 16.9737 - mae: 3.1470\n",
      "Epoch 179/300\n",
      "392/392 [==============================] - 0s 194us/step - loss: 15.1814 - mae: 2.9585\n",
      "Epoch 180/300\n",
      "392/392 [==============================] - 0s 194us/step - loss: 15.0764 - mae: 2.9754\n",
      "Epoch 181/300\n",
      "392/392 [==============================] - 0s 214us/step - loss: 15.6326 - mae: 3.0511\n",
      "Epoch 182/300\n",
      "392/392 [==============================] - 0s 194us/step - loss: 16.7601 - mae: 3.1983\n",
      "Epoch 183/300\n",
      "392/392 [==============================] - 0s 183us/step - loss: 14.9542 - mae: 2.8873\n",
      "Epoch 184/300\n",
      "392/392 [==============================] - 0s 214us/step - loss: 15.1733 - mae: 2.9130\n",
      "Epoch 185/300\n",
      "392/392 [==============================] - 0s 173us/step - loss: 14.8422 - mae: 2.9732\n",
      "Epoch 186/300\n",
      "392/392 [==============================] - 0s 183us/step - loss: 15.3438 - mae: 2.9798\n",
      "Epoch 187/300\n",
      "392/392 [==============================] - 0s 122us/step - loss: 15.6895 - mae: 2.9609\n",
      "Epoch 188/300\n",
      "392/392 [==============================] - 0s 92us/step - loss: 15.3103 - mae: 3.0285\n",
      "Epoch 189/300\n",
      "392/392 [==============================] - 0s 92us/step - loss: 14.8479 - mae: 2.9380\n",
      "Epoch 190/300\n",
      "392/392 [==============================] - 0s 92us/step - loss: 14.3471 - mae: 2.8180\n",
      "Epoch 191/300\n",
      "392/392 [==============================] - 0s 92us/step - loss: 15.6857 - mae: 3.0376\n",
      "Epoch 192/300\n",
      "392/392 [==============================] - 0s 92us/step - loss: 15.1243 - mae: 2.9475\n",
      "Epoch 193/300\n",
      "392/392 [==============================] - 0s 92us/step - loss: 14.9667 - mae: 2.9177\n",
      "Epoch 194/300\n",
      "392/392 [==============================] - 0s 102us/step - loss: 15.0961 - mae: 3.0092\n",
      "Epoch 195/300\n",
      "392/392 [==============================] - 0s 92us/step - loss: 15.1363 - mae: 2.9635\n",
      "Epoch 196/300\n",
      "392/392 [==============================] - 0s 92us/step - loss: 14.2388 - mae: 2.9316\n",
      "Epoch 197/300\n",
      "392/392 [==============================] - 0s 102us/step - loss: 15.2267 - mae: 3.0293\n",
      "Epoch 198/300\n",
      "392/392 [==============================] - 0s 92us/step - loss: 14.7742 - mae: 2.9443\n",
      "Epoch 199/300\n",
      "392/392 [==============================] - 0s 102us/step - loss: 15.1757 - mae: 3.0102\n",
      "Epoch 200/300\n",
      "392/392 [==============================] - 0s 92us/step - loss: 15.0482 - mae: 2.9324\n",
      "Epoch 201/300\n",
      "392/392 [==============================] - 0s 92us/step - loss: 14.2570 - mae: 2.8613\n",
      "Epoch 202/300\n",
      "392/392 [==============================] - 0s 92us/step - loss: 13.9862 - mae: 2.8572\n",
      "Epoch 203/300\n",
      "392/392 [==============================] - 0s 92us/step - loss: 14.6136 - mae: 2.8750\n",
      "Epoch 204/300\n",
      "392/392 [==============================] - ETA: 0s - loss: 8.5657 - mae: 2.308 - 0s 92us/step - loss: 14.6451 - mae: 2.9149\n",
      "Epoch 205/300\n",
      "392/392 [==============================] - 0s 92us/step - loss: 15.2762 - mae: 2.9506\n",
      "Epoch 206/300\n",
      "392/392 [==============================] - 0s 82us/step - loss: 13.4794 - mae: 2.7763\n",
      "Epoch 207/300\n",
      "392/392 [==============================] - 0s 92us/step - loss: 15.0567 - mae: 2.9328\n",
      "Epoch 208/300\n",
      "392/392 [==============================] - 0s 92us/step - loss: 14.5588 - mae: 2.9127\n",
      "Epoch 209/300\n",
      "392/392 [==============================] - 0s 92us/step - loss: 14.7531 - mae: 2.9534\n",
      "Epoch 210/300\n",
      "392/392 [==============================] - 0s 82us/step - loss: 14.7819 - mae: 2.9284\n",
      "Epoch 211/300\n",
      "392/392 [==============================] - 0s 92us/step - loss: 14.0648 - mae: 2.8974\n",
      "Epoch 212/300\n",
      "392/392 [==============================] - 0s 92us/step - loss: 13.4342 - mae: 2.8602\n",
      "Epoch 213/300\n",
      "392/392 [==============================] - 0s 92us/step - loss: 14.3040 - mae: 2.8481\n",
      "Epoch 214/300\n",
      "392/392 [==============================] - 0s 82us/step - loss: 14.1816 - mae: 2.8429\n",
      "Epoch 215/300\n",
      "392/392 [==============================] - 0s 82us/step - loss: 15.6449 - mae: 3.0663\n",
      "Epoch 216/300\n",
      "392/392 [==============================] - 0s 82us/step - loss: 13.7713 - mae: 2.8252\n",
      "Epoch 217/300\n",
      "392/392 [==============================] - 0s 92us/step - loss: 14.2983 - mae: 2.8829\n",
      "Epoch 218/300\n",
      "392/392 [==============================] - 0s 92us/step - loss: 14.6641 - mae: 2.9066\n",
      "Epoch 219/300\n",
      "392/392 [==============================] - 0s 92us/step - loss: 13.4274 - mae: 2.7265\n",
      "Epoch 220/300\n",
      "392/392 [==============================] - 0s 92us/step - loss: 14.6471 - mae: 2.9698\n",
      "Epoch 221/300\n",
      "392/392 [==============================] - 0s 92us/step - loss: 14.4380 - mae: 2.8437\n",
      "Epoch 222/300\n",
      "392/392 [==============================] - 0s 82us/step - loss: 13.8376 - mae: 2.7643\n",
      "Epoch 223/300\n",
      "392/392 [==============================] - 0s 92us/step - loss: 13.8280 - mae: 2.7991\n",
      "Epoch 224/300\n",
      "392/392 [==============================] - 0s 92us/step - loss: 13.7302 - mae: 2.7463\n",
      "Epoch 225/300\n",
      "392/392 [==============================] - 0s 92us/step - loss: 14.5158 - mae: 2.9335\n",
      "Epoch 226/300\n",
      "392/392 [==============================] - 0s 92us/step - loss: 13.9453 - mae: 2.8645\n",
      "Epoch 227/300\n",
      "392/392 [==============================] - 0s 92us/step - loss: 13.3023 - mae: 2.7168\n",
      "Epoch 228/300\n",
      "392/392 [==============================] - 0s 81us/step - loss: 12.4965 - mae: 2.6810\n",
      "Epoch 229/300\n",
      "392/392 [==============================] - 0s 92us/step - loss: 13.7433 - mae: 2.8806\n",
      "Epoch 230/300\n",
      "392/392 [==============================] - 0s 82us/step - loss: 13.8958 - mae: 2.8683\n",
      "Epoch 231/300\n",
      "392/392 [==============================] - 0s 82us/step - loss: 13.9988 - mae: 2.9236\n",
      "Epoch 232/300\n",
      "392/392 [==============================] - 0s 102us/step - loss: 12.9424 - mae: 2.7524\n",
      "Epoch 233/300\n",
      "392/392 [==============================] - 0s 112us/step - loss: 13.4265 - mae: 2.7768\n",
      "Epoch 234/300\n",
      "392/392 [==============================] - 0s 102us/step - loss: 13.5264 - mae: 2.8588\n",
      "Epoch 235/300\n",
      "392/392 [==============================] - 0s 92us/step - loss: 13.6212 - mae: 2.8173\n",
      "Epoch 236/300\n",
      "392/392 [==============================] - 0s 102us/step - loss: 12.9437 - mae: 2.7235\n",
      "Epoch 237/300\n",
      "392/392 [==============================] - 0s 102us/step - loss: 13.6239 - mae: 2.8017\n",
      "Epoch 238/300\n",
      "392/392 [==============================] - 0s 102us/step - loss: 12.9300 - mae: 2.7467\n",
      "Epoch 239/300\n",
      "392/392 [==============================] - 0s 102us/step - loss: 12.8309 - mae: 2.7291\n",
      "Epoch 240/300\n",
      "392/392 [==============================] - 0s 92us/step - loss: 11.9153 - mae: 2.6158\n",
      "Epoch 241/300\n",
      "392/392 [==============================] - 0s 102us/step - loss: 14.1490 - mae: 2.9210\n",
      "Epoch 242/300\n",
      "392/392 [==============================] - 0s 112us/step - loss: 12.5875 - mae: 2.6764\n",
      "Epoch 243/300\n",
      "392/392 [==============================] - 0s 102us/step - loss: 13.1380 - mae: 2.7509\n",
      "Epoch 244/300\n"
     ]
    },
    {
     "name": "stdout",
     "output_type": "stream",
     "text": [
      "392/392 [==============================] - 0s 92us/step - loss: 12.7316 - mae: 2.6904\n",
      "Epoch 245/300\n",
      "392/392 [==============================] - 0s 82us/step - loss: 13.9481 - mae: 2.8382\n",
      "Epoch 246/300\n",
      "392/392 [==============================] - 0s 102us/step - loss: 13.6955 - mae: 2.7989\n",
      "Epoch 247/300\n",
      "392/392 [==============================] - 0s 112us/step - loss: 13.5872 - mae: 2.8074\n",
      "Epoch 248/300\n",
      "392/392 [==============================] - ETA: 0s - loss: 12.3431 - mae: 3.09 - 0s 102us/step - loss: 12.3445 - mae: 2.6303\n",
      "Epoch 249/300\n",
      "392/392 [==============================] - 0s 92us/step - loss: 12.9657 - mae: 2.7435\n",
      "Epoch 250/300\n",
      "392/392 [==============================] - 0s 102us/step - loss: 11.7317 - mae: 2.6157\n",
      "Epoch 251/300\n",
      "392/392 [==============================] - 0s 92us/step - loss: 12.7126 - mae: 2.7035\n",
      "Epoch 252/300\n",
      "392/392 [==============================] - 0s 92us/step - loss: 13.3676 - mae: 2.7728\n",
      "Epoch 253/300\n",
      "392/392 [==============================] - 0s 102us/step - loss: 12.8442 - mae: 2.6585\n",
      "Epoch 254/300\n",
      "392/392 [==============================] - 0s 92us/step - loss: 12.9876 - mae: 2.7693\n",
      "Epoch 255/300\n",
      "392/392 [==============================] - ETA: 0s - loss: 23.7738 - mae: 4.56 - 0s 92us/step - loss: 11.7010 - mae: 2.6766\n",
      "Epoch 256/300\n",
      "392/392 [==============================] - 0s 102us/step - loss: 12.6183 - mae: 2.7539\n",
      "Epoch 257/300\n",
      "392/392 [==============================] - 0s 122us/step - loss: 12.1733 - mae: 2.6189\n",
      "Epoch 258/300\n",
      "392/392 [==============================] - 0s 132us/step - loss: 12.5561 - mae: 2.7857\n",
      "Epoch 259/300\n",
      "392/392 [==============================] - 0s 122us/step - loss: 12.4886 - mae: 2.6769\n",
      "Epoch 260/300\n",
      "392/392 [==============================] - 0s 112us/step - loss: 12.0897 - mae: 2.6726\n",
      "Epoch 261/300\n",
      "392/392 [==============================] - 0s 102us/step - loss: 13.8156 - mae: 2.8644\n",
      "Epoch 262/300\n",
      "392/392 [==============================] - 0s 92us/step - loss: 11.8599 - mae: 2.6610\n",
      "Epoch 263/300\n",
      "392/392 [==============================] - 0s 82us/step - loss: 12.6123 - mae: 2.7275\n",
      "Epoch 264/300\n",
      "392/392 [==============================] - 0s 82us/step - loss: 11.3287 - mae: 2.6040\n",
      "Epoch 265/300\n",
      "392/392 [==============================] - 0s 82us/step - loss: 12.8757 - mae: 2.7359\n",
      "Epoch 266/300\n",
      "392/392 [==============================] - 0s 92us/step - loss: 12.9731 - mae: 2.7615\n",
      "Epoch 267/300\n",
      "392/392 [==============================] - 0s 92us/step - loss: 12.2560 - mae: 2.6411\n",
      "Epoch 268/300\n",
      "392/392 [==============================] - 0s 92us/step - loss: 11.6603 - mae: 2.6106\n",
      "Epoch 269/300\n",
      "392/392 [==============================] - 0s 92us/step - loss: 11.7374 - mae: 2.5861\n",
      "Epoch 270/300\n",
      "392/392 [==============================] - 0s 81us/step - loss: 11.3374 - mae: 2.5359\n",
      "Epoch 271/300\n",
      "392/392 [==============================] - 0s 92us/step - loss: 11.5521 - mae: 2.6309\n",
      "Epoch 272/300\n",
      "392/392 [==============================] - 0s 92us/step - loss: 12.4495 - mae: 2.7297\n",
      "Epoch 273/300\n",
      "392/392 [==============================] - 0s 102us/step - loss: 13.4819 - mae: 2.7592\n",
      "Epoch 274/300\n",
      "392/392 [==============================] - 0s 102us/step - loss: 11.7576 - mae: 2.6167\n",
      "Epoch 275/300\n",
      "392/392 [==============================] - 0s 92us/step - loss: 12.6500 - mae: 2.7102\n",
      "Epoch 276/300\n",
      "392/392 [==============================] - 0s 92us/step - loss: 12.1130 - mae: 2.6986\n",
      "Epoch 277/300\n",
      "392/392 [==============================] - 0s 102us/step - loss: 12.6061 - mae: 2.6971\n",
      "Epoch 278/300\n",
      "392/392 [==============================] - 0s 82us/step - loss: 10.7815 - mae: 2.4923\n",
      "Epoch 279/300\n",
      "392/392 [==============================] - 0s 92us/step - loss: 11.9385 - mae: 2.6677\n",
      "Epoch 280/300\n",
      "392/392 [==============================] - 0s 92us/step - loss: 12.6568 - mae: 2.6467\n",
      "Epoch 281/300\n",
      "392/392 [==============================] - 0s 102us/step - loss: 11.2138 - mae: 2.6459\n",
      "Epoch 282/300\n",
      "392/392 [==============================] - 0s 82us/step - loss: 11.8542 - mae: 2.7232\n",
      "Epoch 283/300\n",
      "392/392 [==============================] - 0s 102us/step - loss: 12.1527 - mae: 2.6086\n",
      "Epoch 284/300\n",
      "392/392 [==============================] - 0s 102us/step - loss: 12.4959 - mae: 2.6935\n",
      "Epoch 285/300\n",
      "392/392 [==============================] - 0s 92us/step - loss: 11.8072 - mae: 2.6391\n",
      "Epoch 286/300\n",
      "392/392 [==============================] - 0s 82us/step - loss: 11.7533 - mae: 2.6359\n",
      "Epoch 287/300\n",
      "392/392 [==============================] - 0s 92us/step - loss: 11.5828 - mae: 2.5384\n",
      "Epoch 288/300\n",
      "392/392 [==============================] - 0s 82us/step - loss: 12.0055 - mae: 2.5716\n",
      "Epoch 289/300\n",
      "392/392 [==============================] - 0s 82us/step - loss: 12.2772 - mae: 2.6715\n",
      "Epoch 290/300\n",
      "392/392 [==============================] - 0s 92us/step - loss: 12.5938 - mae: 2.7765\n",
      "Epoch 291/300\n",
      "392/392 [==============================] - 0s 92us/step - loss: 11.5339 - mae: 2.5917\n",
      "Epoch 292/300\n",
      "392/392 [==============================] - 0s 163us/step - loss: 11.1477 - mae: 2.5038\n",
      "Epoch 293/300\n",
      "392/392 [==============================] - 0s 183us/step - loss: 13.0166 - mae: 2.7866\n",
      "Epoch 294/300\n",
      "392/392 [==============================] - 0s 194us/step - loss: 12.2338 - mae: 2.6563\n",
      "Epoch 295/300\n",
      "392/392 [==============================] - 0s 204us/step - loss: 11.9551 - mae: 2.5777\n",
      "Epoch 296/300\n",
      "392/392 [==============================] - 0s 183us/step - loss: 11.2434 - mae: 2.5944\n",
      "Epoch 297/300\n",
      "392/392 [==============================] - 0s 204us/step - loss: 11.8108 - mae: 2.6672\n",
      "Epoch 298/300\n",
      "392/392 [==============================] - 0s 183us/step - loss: 11.6920 - mae: 2.5794\n",
      "Epoch 299/300\n",
      "392/392 [==============================] - 0s 204us/step - loss: 10.7304 - mae: 2.4796\n",
      "Epoch 300/300\n",
      "392/392 [==============================] - 0s 183us/step - loss: 11.2884 - mae: 2.5525\n"
     ]
    },
    {
     "data": {
      "text/plain": [
       "<keras.callbacks.callbacks.History at 0x261247be908>"
      ]
     },
     "execution_count": 56,
     "metadata": {},
     "output_type": "execute_result"
    }
   ],
   "source": [
    "m.fit(x_train, y_train, epochs=300, batch_size=10)"
   ]
  },
  {
   "cell_type": "code",
   "execution_count": 57,
   "metadata": {},
   "outputs": [
    {
     "data": {
      "text/plain": [
       "array([[15., 25., 30., 40., 16., 33., 37., 31., 19., 12., 26., 24., 20.,\n",
       "        27., 15., 26., 29., 30., 22., 34., 33., 25., 23., 21., 33., 26.,\n",
       "        32., 27., 26., 13., 23., 35., 23., 31., 24., 22., 40., 25., 24.,\n",
       "        26., 22., 26., 21., 23., 20., 21., 17., 27., 20., 17., 23., 38.,\n",
       "        25., 21., 24., 17., 17., 25., 25., 25., 28., 22., 19., 22., 29.,\n",
       "        21., 14., 24., 27., 26., 18., 35., 27., 35., 21., 25., 27., 22.,\n",
       "        32., 20., 27., 16., 26., 28., 26., 23., 36., 38., 31., 17., 20.,\n",
       "        26., 15.,  8., 26., 25., 25., 25.]], dtype=float32)"
      ]
     },
     "execution_count": 57,
     "metadata": {},
     "output_type": "execute_result"
    }
   ],
   "source": [
    "m.predict(x_test).round().T"
   ]
  },
  {
   "cell_type": "code",
   "execution_count": 58,
   "metadata": {},
   "outputs": [
    {
     "name": "stderr",
     "output_type": "stream",
     "text": [
      "C:\\Users\\pemtc\\Anaconda3\\lib\\site-packages\\ipykernel_launcher.py:1: FutureWarning: Method .as_matrix will be removed in a future version. Use .values instead.\n",
      "  \"\"\"Entry point for launching an IPython kernel.\n"
     ]
    },
    {
     "data": {
      "text/plain": [
       "array([ 8.4, 21.8, 34.7, 33.3, 11. , 31.6, 38.7, 36.2, 14.6, 13.8, 22.9,\n",
       "       20.1, 11.5, 23.3, 18.6, 19.6, 24.1, 25. , 19.6, 33.4, 33.1, 19.9,\n",
       "       21.2, 18. , 29.9, 23. , 22.5, 24.7, 20.1, 10.4, 16.2, 31.7, 16.8,\n",
       "       26.4, 19.8, 17.1, 34.9, 17.4, 22.3, 24.5, 22.2, 23.3, 19.6, 13.8,\n",
       "       16.3, 12.7, 14.6, 23.7, 15.2, 20.4, 27.9, 35.1, 24.3, 20.3, 22.2,\n",
       "       19.1, 12.7, 23.1, 21.1, 23.9, 26.4, 18.7, 16.6, 18.5, 41.3, 20.5,\n",
       "       11.9, 23.9, 23.8, 21.7, 15.6, 42.8, 24.7, 32. , 19.1, 20. , 23.3,\n",
       "       21.4, 24.6, 22.5, 24. , 13.5, 25. , 23.1, 19.3, 18.2, 32.9, 31.5,\n",
       "       28.7,  9.7, 19.5, 23.4, 10.9, 13.2, 19.1, 18.5, 20.6, 27.5],\n",
       "      dtype=float32)"
      ]
     },
     "execution_count": 58,
     "metadata": {},
     "output_type": "execute_result"
    }
   ],
   "source": [
    "y_test.as_matrix().astype(np.float32)"
   ]
  },
  {
   "cell_type": "code",
   "execution_count": 59,
   "metadata": {},
   "outputs": [
    {
     "name": "stdout",
     "output_type": "stream",
     "text": [
      "98/98 [==============================] - 0s 856us/step\n"
     ]
    },
    {
     "data": {
      "text/plain": [
       "[19.75105787783253, 3.785405397415161]"
      ]
     },
     "execution_count": 59,
     "metadata": {},
     "output_type": "execute_result"
    }
   ],
   "source": [
    "m.evaluate(x_test, y_test)"
   ]
  },
  {
   "cell_type": "markdown",
   "metadata": {},
   "source": [
    "It is good practice to normalise the data, as the values all have different ranges. For each feature of the input data we subtract the mean and divide by the standard deviation of the feature so that the feature is centered around zero. We can do this with keras:<br>\n",
    "##### Example 2:"
   ]
  },
  {
   "cell_type": "code",
   "execution_count": 125,
   "metadata": {},
   "outputs": [
    {
     "name": "stdout",
     "output_type": "stream",
     "text": [
      "[[ 1.31260434 -0.43802583  1.12155041 ...  0.80159925 -3.46874244\n",
      "   1.59381589]\n",
      " [-0.44471191 -0.43802583 -0.14253084 ...  0.26537586  0.39926263\n",
      "  -0.0296898 ]\n",
      " [-0.46675878 -0.43802583 -0.53633499 ... -0.48533689  0.35408318\n",
      "  -1.23710597]\n",
      " ...\n",
      " [-0.44939246 -0.43802583 -0.09443263 ... -0.48533689  0.30868171\n",
      "  -0.26572604]\n",
      " [-0.4658876  -0.43802583 -0.81891202 ...  0.80159925  0.39082617\n",
      "  -0.5592583 ]\n",
      " [-0.4484337  -0.43802583 -0.31237767 ...  1.17695563  0.37550734\n",
      "  -0.42157049]]\n"
     ]
    }
   ],
   "source": [
    "scaler = pre.StandardScaler()\n",
    "scaler.fit(x_train)\n",
    "x_train_scaled = scaler.transform(x_train)\n",
    "scaler.fit(x_test)\n",
    "x_test_scaled = scaler.transform(x_test)\n",
    "print(x_test_scaled)"
   ]
  },
  {
   "cell_type": "code",
   "execution_count": 126,
   "metadata": {},
   "outputs": [],
   "source": [
    "m = kr.models.Sequential()\n",
    "\n",
    "m.add(kr.layers.Dense(13, input_dim=13, activation=\"relu\"))\n",
    "#m.add(kr.layers.Dense(13, activation=\"tanh\"))\n",
    "m.add(kr.layers.Dense(1, activation=\"linear\"))\n",
    "\n",
    "m.compile(loss=\"mean_squared_error\", optimizer=\"adam\", metrics = [\"mae\"])"
   ]
  },
  {
   "cell_type": "code",
   "execution_count": 127,
   "metadata": {},
   "outputs": [
    {
     "name": "stdout",
     "output_type": "stream",
     "text": [
      "Train on 313 samples, validate on 79 samples\n",
      "Epoch 1/150\n",
      "313/313 [==============================] - 0s 932us/step - loss: 484.7055 - mae: 20.4508 - val_loss: 507.0088 - val_mae: 20.7814\n",
      "Epoch 2/150\n",
      "313/313 [==============================] - 0s 153us/step - loss: 467.2511 - mae: 20.0062 - val_loss: 489.1629 - val_mae: 20.3394\n",
      "Epoch 3/150\n",
      "313/313 [==============================] - 0s 153us/step - loss: 447.0599 - mae: 19.5026 - val_loss: 467.9073 - val_mae: 19.8130\n",
      "Epoch 4/150\n",
      "313/313 [==============================] - 0s 140us/step - loss: 423.6264 - mae: 18.9005 - val_loss: 443.4631 - val_mae: 19.1835\n",
      "Epoch 5/150\n",
      "313/313 [==============================] - 0s 140us/step - loss: 396.4816 - mae: 18.1898 - val_loss: 414.6820 - val_mae: 18.4457\n",
      "Epoch 6/150\n",
      "313/313 [==============================] - 0s 140us/step - loss: 366.4442 - mae: 17.3774 - val_loss: 383.9369 - val_mae: 17.6066\n",
      "Epoch 7/150\n",
      "313/313 [==============================] - 0s 153us/step - loss: 334.0125 - mae: 16.4782 - val_loss: 350.1408 - val_mae: 16.6745\n",
      "Epoch 8/150\n",
      "313/313 [==============================] - 0s 140us/step - loss: 300.3474 - mae: 15.4860 - val_loss: 315.0473 - val_mae: 15.6478\n",
      "Epoch 9/150\n",
      "313/313 [==============================] - 0s 153us/step - loss: 266.4626 - mae: 14.4502 - val_loss: 279.8185 - val_mae: 14.6077\n",
      "Epoch 10/150\n",
      "313/313 [==============================] - 0s 153us/step - loss: 233.1619 - mae: 13.3873 - val_loss: 246.5952 - val_mae: 13.5769\n",
      "Epoch 11/150\n",
      "313/313 [==============================] - 0s 140us/step - loss: 202.4894 - mae: 12.3377 - val_loss: 215.0051 - val_mae: 12.5101\n",
      "Epoch 12/150\n",
      "313/313 [==============================] - 0s 153us/step - loss: 174.0623 - mae: 11.2786 - val_loss: 186.6404 - val_mae: 11.4646\n",
      "Epoch 13/150\n",
      "313/313 [==============================] - 0s 140us/step - loss: 148.7795 - mae: 10.2510 - val_loss: 161.0709 - val_mae: 10.5276\n",
      "Epoch 14/150\n",
      "313/313 [==============================] - 0s 166us/step - loss: 126.1294 - mae: 9.3002 - val_loss: 138.6119 - val_mae: 9.6358\n",
      "Epoch 15/150\n",
      "313/313 [==============================] - 0s 153us/step - loss: 106.8224 - mae: 8.4455 - val_loss: 118.4118 - val_mae: 8.8602\n",
      "Epoch 16/150\n",
      "313/313 [==============================] - 0s 166us/step - loss: 91.0349 - mae: 7.6826 - val_loss: 101.4152 - val_mae: 8.1420\n",
      "Epoch 17/150\n",
      "313/313 [==============================] - 0s 153us/step - loss: 78.1452 - mae: 7.0383 - val_loss: 88.2497 - val_mae: 7.4986\n",
      "Epoch 18/150\n",
      "313/313 [==============================] - 0s 140us/step - loss: 67.6629 - mae: 6.5134 - val_loss: 77.7857 - val_mae: 6.9644\n",
      "Epoch 19/150\n",
      "313/313 [==============================] - 0s 140us/step - loss: 59.5806 - mae: 6.0789 - val_loss: 67.9824 - val_mae: 6.4744\n",
      "Epoch 20/150\n",
      "313/313 [==============================] - 0s 140us/step - loss: 52.5271 - mae: 5.7013 - val_loss: 60.1095 - val_mae: 6.0309\n",
      "Epoch 21/150\n",
      "313/313 [==============================] - 0s 179us/step - loss: 47.2388 - mae: 5.3826 - val_loss: 53.5390 - val_mae: 5.6451\n",
      "Epoch 22/150\n",
      "313/313 [==============================] - 0s 140us/step - loss: 42.8118 - mae: 5.1335 - val_loss: 48.2939 - val_mae: 5.3398\n",
      "Epoch 23/150\n",
      "313/313 [==============================] - 0s 128us/step - loss: 39.3158 - mae: 4.9333 - val_loss: 44.0307 - val_mae: 5.0835\n",
      "Epoch 24/150\n",
      "313/313 [==============================] - 0s 140us/step - loss: 36.2996 - mae: 4.7520 - val_loss: 40.4639 - val_mae: 4.8824\n",
      "Epoch 25/150\n",
      "313/313 [==============================] - 0s 140us/step - loss: 33.8702 - mae: 4.5930 - val_loss: 37.5135 - val_mae: 4.7058\n",
      "Epoch 26/150\n",
      "313/313 [==============================] - 0s 153us/step - loss: 31.8489 - mae: 4.4584 - val_loss: 34.8293 - val_mae: 4.5429\n",
      "Epoch 27/150\n",
      "313/313 [==============================] - 0s 166us/step - loss: 30.0497 - mae: 4.3256 - val_loss: 32.5303 - val_mae: 4.3906\n",
      "Epoch 28/150\n",
      "313/313 [==============================] - 0s 140us/step - loss: 28.4837 - mae: 4.2114 - val_loss: 30.4089 - val_mae: 4.2447\n",
      "Epoch 29/150\n",
      "313/313 [==============================] - 0s 153us/step - loss: 27.2233 - mae: 4.1150 - val_loss: 29.0549 - val_mae: 4.1437\n",
      "Epoch 30/150\n",
      "313/313 [==============================] - 0s 153us/step - loss: 26.0775 - mae: 4.0198 - val_loss: 27.4386 - val_mae: 4.0299\n",
      "Epoch 31/150\n",
      "313/313 [==============================] - 0s 153us/step - loss: 25.1685 - mae: 3.9452 - val_loss: 26.3178 - val_mae: 3.9411\n",
      "Epoch 32/150\n",
      "313/313 [==============================] - 0s 140us/step - loss: 24.3570 - mae: 3.8674 - val_loss: 25.6354 - val_mae: 3.8843\n",
      "Epoch 33/150\n",
      "313/313 [==============================] - 0s 153us/step - loss: 23.7257 - mae: 3.8125 - val_loss: 24.5663 - val_mae: 3.8085\n",
      "Epoch 34/150\n",
      "313/313 [==============================] - 0s 140us/step - loss: 23.0699 - mae: 3.7521 - val_loss: 24.1497 - val_mae: 3.7760\n",
      "Epoch 35/150\n",
      "313/313 [==============================] - 0s 153us/step - loss: 22.4728 - mae: 3.6903 - val_loss: 23.3808 - val_mae: 3.7196\n",
      "Epoch 36/150\n",
      "313/313 [==============================] - 0s 153us/step - loss: 21.9983 - mae: 3.6517 - val_loss: 22.9755 - val_mae: 3.6942\n",
      "Epoch 37/150\n",
      "313/313 [==============================] - 0s 153us/step - loss: 21.5616 - mae: 3.6120 - val_loss: 22.5123 - val_mae: 3.6568\n",
      "Epoch 38/150\n",
      "313/313 [==============================] - 0s 128us/step - loss: 21.1943 - mae: 3.5745 - val_loss: 22.0923 - val_mae: 3.6172\n",
      "Epoch 39/150\n",
      "313/313 [==============================] - 0s 153us/step - loss: 20.8381 - mae: 3.5404 - val_loss: 21.7316 - val_mae: 3.5894\n",
      "Epoch 40/150\n",
      "313/313 [==============================] - 0s 140us/step - loss: 20.5497 - mae: 3.5180 - val_loss: 21.5533 - val_mae: 3.5757\n",
      "Epoch 41/150\n",
      "313/313 [==============================] - 0s 128us/step - loss: 20.2583 - mae: 3.4885 - val_loss: 21.2008 - val_mae: 3.5418\n",
      "Epoch 42/150\n",
      "313/313 [==============================] - 0s 153us/step - loss: 19.9815 - mae: 3.4696 - val_loss: 20.9091 - val_mae: 3.5256\n",
      "Epoch 43/150\n",
      "313/313 [==============================] - 0s 128us/step - loss: 19.7483 - mae: 3.4540 - val_loss: 20.7317 - val_mae: 3.5026\n",
      "Epoch 44/150\n",
      "313/313 [==============================] - 0s 140us/step - loss: 19.4673 - mae: 3.4285 - val_loss: 20.4753 - val_mae: 3.4771\n",
      "Epoch 45/150\n",
      "313/313 [==============================] - 0s 153us/step - loss: 19.2368 - mae: 3.3973 - val_loss: 20.3462 - val_mae: 3.4502\n",
      "Epoch 46/150\n",
      "313/313 [==============================] - 0s 140us/step - loss: 18.9477 - mae: 3.3767 - val_loss: 19.8634 - val_mae: 3.4263\n",
      "Epoch 47/150\n",
      "313/313 [==============================] - 0s 128us/step - loss: 18.7291 - mae: 3.3547 - val_loss: 19.5495 - val_mae: 3.4066\n",
      "Epoch 48/150\n",
      "313/313 [==============================] - 0s 166us/step - loss: 18.5048 - mae: 3.3328 - val_loss: 19.4928 - val_mae: 3.3902\n",
      "Epoch 49/150\n",
      "313/313 [==============================] - 0s 153us/step - loss: 18.2806 - mae: 3.3120 - val_loss: 19.3225 - val_mae: 3.3706\n",
      "Epoch 50/150\n",
      "313/313 [==============================] - 0s 153us/step - loss: 18.0712 - mae: 3.2945 - val_loss: 19.0685 - val_mae: 3.3600\n",
      "Epoch 51/150\n",
      "313/313 [==============================] - 0s 140us/step - loss: 17.8649 - mae: 3.2768 - val_loss: 18.9220 - val_mae: 3.3412\n",
      "Epoch 52/150\n",
      "313/313 [==============================] - 0s 153us/step - loss: 17.6477 - mae: 3.2613 - val_loss: 18.8336 - val_mae: 3.3357\n",
      "Epoch 53/150\n",
      "313/313 [==============================] - 0s 140us/step - loss: 17.4779 - mae: 3.2509 - val_loss: 18.7072 - val_mae: 3.3305\n",
      "Epoch 54/150\n",
      "313/313 [==============================] - ETA: 0s - loss: 10.9764 - mae: 2.42 - 0s 141us/step - loss: 17.2704 - mae: 3.2327 - val_loss: 18.5654 - val_mae: 3.3299\n",
      "Epoch 55/150\n",
      "313/313 [==============================] - 0s 140us/step - loss: 17.0993 - mae: 3.2166 - val_loss: 18.3135 - val_mae: 3.2998\n",
      "Epoch 56/150\n",
      "313/313 [==============================] - 0s 140us/step - loss: 16.9064 - mae: 3.2010 - val_loss: 18.1998 - val_mae: 3.2879\n",
      "Epoch 57/150\n",
      "313/313 [==============================] - 0s 128us/step - loss: 16.7406 - mae: 3.1836 - val_loss: 17.9144 - val_mae: 3.2561\n",
      "Epoch 58/150\n",
      "313/313 [==============================] - 0s 140us/step - loss: 16.5674 - mae: 3.1721 - val_loss: 17.9317 - val_mae: 3.2678\n",
      "Epoch 59/150\n"
     ]
    },
    {
     "name": "stdout",
     "output_type": "stream",
     "text": [
      "313/313 [==============================] - 0s 128us/step - loss: 16.3776 - mae: 3.1495 - val_loss: 17.7087 - val_mae: 3.2419\n",
      "Epoch 60/150\n",
      "313/313 [==============================] - 0s 140us/step - loss: 16.1922 - mae: 3.1359 - val_loss: 17.4522 - val_mae: 3.2311\n",
      "Epoch 61/150\n",
      "313/313 [==============================] - 0s 128us/step - loss: 15.9792 - mae: 3.1167 - val_loss: 17.4902 - val_mae: 3.2458\n",
      "Epoch 62/150\n",
      "313/313 [==============================] - 0s 115us/step - loss: 15.8127 - mae: 3.1001 - val_loss: 17.3362 - val_mae: 3.2231\n",
      "Epoch 63/150\n",
      "313/313 [==============================] - 0s 128us/step - loss: 15.6416 - mae: 3.0898 - val_loss: 17.1162 - val_mae: 3.2151\n",
      "Epoch 64/150\n",
      "313/313 [==============================] - 0s 128us/step - loss: 15.4978 - mae: 3.0666 - val_loss: 17.0119 - val_mae: 3.1845\n",
      "Epoch 65/150\n",
      "313/313 [==============================] - 0s 140us/step - loss: 15.2457 - mae: 3.0465 - val_loss: 16.7945 - val_mae: 3.1778\n",
      "Epoch 66/150\n",
      "313/313 [==============================] - 0s 128us/step - loss: 15.0985 - mae: 3.0345 - val_loss: 16.5758 - val_mae: 3.1654\n",
      "Epoch 67/150\n",
      "313/313 [==============================] - 0s 128us/step - loss: 14.8707 - mae: 3.0095 - val_loss: 16.4510 - val_mae: 3.1463\n",
      "Epoch 68/150\n",
      "313/313 [==============================] - 0s 128us/step - loss: 14.7211 - mae: 2.9869 - val_loss: 16.2981 - val_mae: 3.1216\n",
      "Epoch 69/150\n",
      "313/313 [==============================] - 0s 128us/step - loss: 14.5451 - mae: 2.9709 - val_loss: 16.0597 - val_mae: 3.1013\n",
      "Epoch 70/150\n",
      "313/313 [==============================] - 0s 128us/step - loss: 14.3757 - mae: 2.9461 - val_loss: 15.9386 - val_mae: 3.0822\n",
      "Epoch 71/150\n",
      "313/313 [==============================] - 0s 128us/step - loss: 14.2220 - mae: 2.9368 - val_loss: 15.8448 - val_mae: 3.0963\n",
      "Epoch 72/150\n",
      "313/313 [==============================] - 0s 128us/step - loss: 14.0185 - mae: 2.9153 - val_loss: 15.6139 - val_mae: 3.0563\n",
      "Epoch 73/150\n",
      "313/313 [==============================] - 0s 140us/step - loss: 13.8824 - mae: 2.8957 - val_loss: 15.5678 - val_mae: 3.0465\n",
      "Epoch 74/150\n",
      "313/313 [==============================] - 0s 128us/step - loss: 13.6807 - mae: 2.8773 - val_loss: 15.3563 - val_mae: 3.0438\n",
      "Epoch 75/150\n",
      "313/313 [==============================] - 0s 128us/step - loss: 13.5209 - mae: 2.8593 - val_loss: 15.1814 - val_mae: 3.0213\n",
      "Epoch 76/150\n",
      "313/313 [==============================] - 0s 140us/step - loss: 13.3509 - mae: 2.8438 - val_loss: 15.2306 - val_mae: 3.0324\n",
      "Epoch 77/150\n",
      "313/313 [==============================] - 0s 128us/step - loss: 13.1643 - mae: 2.8242 - val_loss: 15.0157 - val_mae: 3.0137\n",
      "Epoch 78/150\n",
      "313/313 [==============================] - 0s 128us/step - loss: 13.0078 - mae: 2.8039 - val_loss: 14.8111 - val_mae: 2.9921\n",
      "Epoch 79/150\n",
      "313/313 [==============================] - 0s 128us/step - loss: 12.8429 - mae: 2.7848 - val_loss: 14.6386 - val_mae: 2.9849\n",
      "Epoch 80/150\n",
      "313/313 [==============================] - 0s 140us/step - loss: 12.7089 - mae: 2.7661 - val_loss: 14.4652 - val_mae: 2.9579\n",
      "Epoch 81/150\n",
      "313/313 [==============================] - 0s 128us/step - loss: 12.5557 - mae: 2.7447 - val_loss: 14.4547 - val_mae: 2.9612\n",
      "Epoch 82/150\n",
      "313/313 [==============================] - 0s 140us/step - loss: 12.3559 - mae: 2.7262 - val_loss: 14.2491 - val_mae: 2.9469\n",
      "Epoch 83/150\n",
      "313/313 [==============================] - 0s 140us/step - loss: 12.1534 - mae: 2.7118 - val_loss: 14.1000 - val_mae: 2.9407\n",
      "Epoch 84/150\n",
      "313/313 [==============================] - 0s 128us/step - loss: 12.0498 - mae: 2.7038 - val_loss: 14.0341 - val_mae: 2.9392\n",
      "Epoch 85/150\n",
      "313/313 [==============================] - 0s 140us/step - loss: 11.8406 - mae: 2.6819 - val_loss: 13.7940 - val_mae: 2.9213\n",
      "Epoch 86/150\n",
      "313/313 [==============================] - 0s 140us/step - loss: 11.6765 - mae: 2.6465 - val_loss: 13.6942 - val_mae: 2.8750\n",
      "Epoch 87/150\n",
      "313/313 [==============================] - 0s 153us/step - loss: 11.5158 - mae: 2.6309 - val_loss: 13.5429 - val_mae: 2.8780\n",
      "Epoch 88/150\n",
      "313/313 [==============================] - 0s 128us/step - loss: 11.3882 - mae: 2.6163 - val_loss: 13.3622 - val_mae: 2.8521\n",
      "Epoch 89/150\n",
      "313/313 [==============================] - 0s 140us/step - loss: 11.2221 - mae: 2.5949 - val_loss: 13.3500 - val_mae: 2.8522\n",
      "Epoch 90/150\n",
      "313/313 [==============================] - 0s 115us/step - loss: 11.0889 - mae: 2.5795 - val_loss: 13.1546 - val_mae: 2.8396\n",
      "Epoch 91/150\n",
      "313/313 [==============================] - 0s 128us/step - loss: 10.9001 - mae: 2.5570 - val_loss: 13.1031 - val_mae: 2.8313\n",
      "Epoch 92/150\n",
      "313/313 [==============================] - 0s 128us/step - loss: 10.7636 - mae: 2.5381 - val_loss: 13.0192 - val_mae: 2.8184\n",
      "Epoch 93/150\n",
      "313/313 [==============================] - 0s 128us/step - loss: 10.6557 - mae: 2.5280 - val_loss: 12.8096 - val_mae: 2.8092\n",
      "Epoch 94/150\n",
      "313/313 [==============================] - 0s 115us/step - loss: 10.5146 - mae: 2.5073 - val_loss: 12.7899 - val_mae: 2.7882\n",
      "Epoch 95/150\n",
      "313/313 [==============================] - 0s 128us/step - loss: 10.3837 - mae: 2.4876 - val_loss: 12.7145 - val_mae: 2.7676\n",
      "Epoch 96/150\n",
      "313/313 [==============================] - 0s 128us/step - loss: 10.2156 - mae: 2.4697 - val_loss: 12.5093 - val_mae: 2.7539\n",
      "Epoch 97/150\n",
      "313/313 [==============================] - 0s 128us/step - loss: 10.0945 - mae: 2.4510 - val_loss: 12.4069 - val_mae: 2.7481\n",
      "Epoch 98/150\n",
      "313/313 [==============================] - 0s 140us/step - loss: 9.9897 - mae: 2.4333 - val_loss: 12.2767 - val_mae: 2.7261\n",
      "Epoch 99/150\n",
      "313/313 [==============================] - 0s 140us/step - loss: 9.8457 - mae: 2.4174 - val_loss: 12.1389 - val_mae: 2.7115\n",
      "Epoch 100/150\n",
      "313/313 [==============================] - 0s 140us/step - loss: 9.7042 - mae: 2.3999 - val_loss: 11.9206 - val_mae: 2.6932\n",
      "Epoch 101/150\n",
      "313/313 [==============================] - 0s 128us/step - loss: 9.5721 - mae: 2.3853 - val_loss: 11.8619 - val_mae: 2.6839\n",
      "Epoch 102/150\n",
      "313/313 [==============================] - 0s 128us/step - loss: 9.4363 - mae: 2.3649 - val_loss: 11.6454 - val_mae: 2.6627\n",
      "Epoch 103/150\n",
      "313/313 [==============================] - 0s 128us/step - loss: 9.2881 - mae: 2.3480 - val_loss: 11.5166 - val_mae: 2.6431\n",
      "Epoch 104/150\n",
      "313/313 [==============================] - 0s 140us/step - loss: 9.1480 - mae: 2.3231 - val_loss: 11.4919 - val_mae: 2.6310\n",
      "Epoch 105/150\n",
      "313/313 [==============================] - 0s 140us/step - loss: 9.0260 - mae: 2.3042 - val_loss: 11.2843 - val_mae: 2.6131\n",
      "Epoch 106/150\n",
      "313/313 [==============================] - 0s 128us/step - loss: 8.9249 - mae: 2.2892 - val_loss: 11.2201 - val_mae: 2.5987\n",
      "Epoch 107/150\n",
      "313/313 [==============================] - 0s 140us/step - loss: 8.8073 - mae: 2.2652 - val_loss: 11.1446 - val_mae: 2.5639\n",
      "Epoch 108/150\n",
      "313/313 [==============================] - 0s 140us/step - loss: 8.7185 - mae: 2.2520 - val_loss: 11.0494 - val_mae: 2.5609\n",
      "Epoch 109/150\n",
      "313/313 [==============================] - 0s 128us/step - loss: 8.6249 - mae: 2.2434 - val_loss: 11.0038 - val_mae: 2.5629\n",
      "Epoch 110/150\n",
      "313/313 [==============================] - 0s 153us/step - loss: 8.5261 - mae: 2.2259 - val_loss: 10.8972 - val_mae: 2.5273\n",
      "Epoch 111/150\n",
      "313/313 [==============================] - 0s 140us/step - loss: 8.4441 - mae: 2.2236 - val_loss: 10.8516 - val_mae: 2.5404\n",
      "Epoch 112/150\n",
      "313/313 [==============================] - 0s 128us/step - loss: 8.3701 - mae: 2.2064 - val_loss: 10.7307 - val_mae: 2.5113\n",
      "Epoch 113/150\n",
      "313/313 [==============================] - 0s 128us/step - loss: 8.2409 - mae: 2.1914 - val_loss: 10.6947 - val_mae: 2.5071\n",
      "Epoch 114/150\n",
      "313/313 [==============================] - 0s 128us/step - loss: 8.1716 - mae: 2.1765 - val_loss: 10.5908 - val_mae: 2.4860\n",
      "Epoch 115/150\n",
      "313/313 [==============================] - 0s 128us/step - loss: 8.1100 - mae: 2.1691 - val_loss: 10.5951 - val_mae: 2.4831\n",
      "Epoch 116/150\n",
      "313/313 [==============================] - 0s 115us/step - loss: 8.0455 - mae: 2.1515 - val_loss: 10.4485 - val_mae: 2.4583\n",
      "Epoch 117/150\n",
      "313/313 [==============================] - 0s 128us/step - loss: 7.9332 - mae: 2.1474 - val_loss: 10.4047 - val_mae: 2.4581\n",
      "Epoch 118/150\n"
     ]
    },
    {
     "name": "stdout",
     "output_type": "stream",
     "text": [
      "313/313 [==============================] - 0s 128us/step - loss: 7.8763 - mae: 2.1350 - val_loss: 10.3047 - val_mae: 2.4400\n",
      "Epoch 119/150\n",
      "313/313 [==============================] - 0s 128us/step - loss: 7.8018 - mae: 2.1326 - val_loss: 10.3484 - val_mae: 2.4419\n",
      "Epoch 120/150\n",
      "313/313 [==============================] - 0s 128us/step - loss: 7.7697 - mae: 2.1261 - val_loss: 10.2630 - val_mae: 2.4228\n",
      "Epoch 121/150\n",
      "313/313 [==============================] - 0s 128us/step - loss: 7.6971 - mae: 2.1111 - val_loss: 10.1504 - val_mae: 2.4210\n",
      "Epoch 122/150\n",
      "313/313 [==============================] - 0s 140us/step - loss: 7.6048 - mae: 2.1016 - val_loss: 10.1283 - val_mae: 2.4027\n",
      "Epoch 123/150\n",
      "313/313 [==============================] - 0s 128us/step - loss: 7.5545 - mae: 2.0947 - val_loss: 10.0831 - val_mae: 2.4039\n",
      "Epoch 124/150\n",
      "313/313 [==============================] - 0s 128us/step - loss: 7.5326 - mae: 2.0866 - val_loss: 9.9374 - val_mae: 2.3933\n",
      "Epoch 125/150\n",
      "313/313 [==============================] - 0s 128us/step - loss: 7.4518 - mae: 2.0796 - val_loss: 9.9633 - val_mae: 2.3882\n",
      "Epoch 126/150\n",
      "313/313 [==============================] - 0s 140us/step - loss: 7.4159 - mae: 2.0760 - val_loss: 9.9742 - val_mae: 2.3864\n",
      "Epoch 127/150\n",
      "313/313 [==============================] - 0s 128us/step - loss: 7.3559 - mae: 2.0609 - val_loss: 9.9017 - val_mae: 2.3761\n",
      "Epoch 128/150\n",
      "313/313 [==============================] - 0s 140us/step - loss: 7.3050 - mae: 2.0558 - val_loss: 9.8358 - val_mae: 2.3680\n",
      "Epoch 129/150\n",
      "313/313 [==============================] - 0s 140us/step - loss: 7.2855 - mae: 2.0535 - val_loss: 9.7871 - val_mae: 2.3640\n",
      "Epoch 130/150\n",
      "313/313 [==============================] - 0s 140us/step - loss: 7.1989 - mae: 2.0446 - val_loss: 9.8443 - val_mae: 2.3576\n",
      "Epoch 131/150\n",
      "313/313 [==============================] - 0s 140us/step - loss: 7.1705 - mae: 2.0427 - val_loss: 9.7890 - val_mae: 2.3560\n",
      "Epoch 132/150\n",
      "313/313 [==============================] - 0s 140us/step - loss: 7.0991 - mae: 2.0283 - val_loss: 9.7924 - val_mae: 2.3491\n",
      "Epoch 133/150\n",
      "313/313 [==============================] - 0s 153us/step - loss: 7.1130 - mae: 2.0170 - val_loss: 9.7298 - val_mae: 2.3415\n",
      "Epoch 134/150\n",
      "313/313 [==============================] - 0s 153us/step - loss: 7.0534 - mae: 2.0207 - val_loss: 9.6229 - val_mae: 2.3428\n",
      "Epoch 135/150\n",
      "313/313 [==============================] - 0s 128us/step - loss: 6.9935 - mae: 2.0106 - val_loss: 9.6112 - val_mae: 2.3365\n",
      "Epoch 136/150\n",
      "313/313 [==============================] - 0s 140us/step - loss: 6.9611 - mae: 2.0049 - val_loss: 9.5633 - val_mae: 2.3342\n",
      "Epoch 137/150\n",
      "313/313 [==============================] - 0s 140us/step - loss: 6.9297 - mae: 1.9951 - val_loss: 9.6492 - val_mae: 2.3349\n",
      "Epoch 138/150\n",
      "313/313 [==============================] - 0s 140us/step - loss: 6.8797 - mae: 2.0015 - val_loss: 9.5007 - val_mae: 2.3247\n",
      "Epoch 139/150\n",
      "313/313 [==============================] - 0s 140us/step - loss: 6.8793 - mae: 1.9957 - val_loss: 9.5131 - val_mae: 2.3226\n",
      "Epoch 140/150\n",
      "313/313 [==============================] - 0s 128us/step - loss: 6.8398 - mae: 1.9943 - val_loss: 9.5541 - val_mae: 2.3237\n",
      "Epoch 141/150\n",
      "313/313 [==============================] - 0s 140us/step - loss: 6.7818 - mae: 1.9801 - val_loss: 9.4926 - val_mae: 2.3218\n",
      "Epoch 142/150\n",
      "313/313 [==============================] - 0s 140us/step - loss: 6.7735 - mae: 1.9832 - val_loss: 9.4800 - val_mae: 2.3175\n",
      "Epoch 143/150\n",
      "313/313 [==============================] - 0s 128us/step - loss: 6.7354 - mae: 1.9782 - val_loss: 9.3689 - val_mae: 2.3004\n",
      "Epoch 144/150\n",
      "313/313 [==============================] - 0s 128us/step - loss: 6.6962 - mae: 1.9716 - val_loss: 9.3434 - val_mae: 2.2992\n",
      "Epoch 145/150\n",
      "313/313 [==============================] - 0s 140us/step - loss: 6.7062 - mae: 1.9690 - val_loss: 9.3019 - val_mae: 2.2984\n",
      "Epoch 146/150\n",
      "313/313 [==============================] - 0s 128us/step - loss: 6.6871 - mae: 1.9622 - val_loss: 9.3086 - val_mae: 2.2967\n",
      "Epoch 147/150\n",
      "313/313 [==============================] - 0s 140us/step - loss: 6.6300 - mae: 1.9543 - val_loss: 9.2983 - val_mae: 2.2926\n",
      "Epoch 148/150\n",
      "313/313 [==============================] - 0s 140us/step - loss: 6.6190 - mae: 1.9641 - val_loss: 9.2903 - val_mae: 2.2944\n",
      "Epoch 149/150\n",
      "313/313 [==============================] - 0s 128us/step - loss: 6.5839 - mae: 1.9564 - val_loss: 9.3176 - val_mae: 2.2935\n",
      "Epoch 150/150\n",
      "313/313 [==============================] - 0s 140us/step - loss: 6.5948 - mae: 1.9641 - val_loss: 9.2782 - val_mae: 2.2906\n"
     ]
    }
   ],
   "source": [
    "history=m.fit(x_train_scaled, y_train, epochs=150, validation_split = .2, batch_size=10)"
   ]
  },
  {
   "cell_type": "code",
   "execution_count": 128,
   "metadata": {},
   "outputs": [
    {
     "data": {
      "text/plain": [
       "array([[ 9., 18., 34., 40., 12., 32., 43., 32., 14., 11., 22., 14., 13.,\n",
       "        20., 18., 17., 23., 22., 18., 32., 34., 19., 20., 18., 31., 29.,\n",
       "        27., 26., 17.,  9., 18., 34., 17., 23., 20., 18., 36., 17., 24.,\n",
       "        19., 21., 27., 16., 16., 10., 12., 14., 28., 15., 17., 17., 37.,\n",
       "        18., 21., 18., 15., 13., 22., 20., 28., 27., 16., 15., 19., 29.,\n",
       "        16., 14., 25., 24., 24., 13., 42., 23., 31., 11., 16., 27., 21.,\n",
       "        28., 17., 23., 12., 24., 24., 20., 17., 33., 32., 33., 10., 17.,\n",
       "        22.,  9., 11., 18., 22., 22., 23.]], dtype=float32)"
      ]
     },
     "execution_count": 128,
     "metadata": {},
     "output_type": "execute_result"
    }
   ],
   "source": [
    "#x_test_scaled = scaler.transform(x_test)\n",
    "m.predict(x_test_scaled).round().T"
   ]
  },
  {
   "cell_type": "code",
   "execution_count": 129,
   "metadata": {},
   "outputs": [
    {
     "name": "stderr",
     "output_type": "stream",
     "text": [
      "C:\\Users\\pemtc\\Anaconda3\\lib\\site-packages\\ipykernel_launcher.py:1: FutureWarning: Method .as_matrix will be removed in a future version. Use .values instead.\n",
      "  \"\"\"Entry point for launching an IPython kernel.\n"
     ]
    },
    {
     "data": {
      "text/plain": [
       "array([ 8.4, 21.8, 34.7, 33.3, 11. , 31.6, 38.7, 36.2, 14.6, 13.8, 22.9,\n",
       "       20.1, 11.5, 23.3, 18.6, 19.6, 24.1, 25. , 19.6, 33.4, 33.1, 19.9,\n",
       "       21.2, 18. , 29.9, 23. , 22.5, 24.7, 20.1, 10.4, 16.2, 31.7, 16.8,\n",
       "       26.4, 19.8, 17.1, 34.9, 17.4, 22.3, 24.5, 22.2, 23.3, 19.6, 13.8,\n",
       "       16.3, 12.7, 14.6, 23.7, 15.2, 20.4, 27.9, 35.1, 24.3, 20.3, 22.2,\n",
       "       19.1, 12.7, 23.1, 21.1, 23.9, 26.4, 18.7, 16.6, 18.5, 41.3, 20.5,\n",
       "       11.9, 23.9, 23.8, 21.7, 15.6, 42.8, 24.7, 32. , 19.1, 20. , 23.3,\n",
       "       21.4, 24.6, 22.5, 24. , 13.5, 25. , 23.1, 19.3, 18.2, 32.9, 31.5,\n",
       "       28.7,  9.7, 19.5, 23.4, 10.9, 13.2, 19.1, 18.5, 20.6, 27.5],\n",
       "      dtype=float32)"
      ]
     },
     "execution_count": 129,
     "metadata": {},
     "output_type": "execute_result"
    }
   ],
   "source": [
    "y_test.as_matrix().astype(np.float32)"
   ]
  },
  {
   "cell_type": "code",
   "execution_count": 130,
   "metadata": {},
   "outputs": [
    {
     "name": "stdout",
     "output_type": "stream",
     "text": [
      "98/98 [==============================] - 0s 41us/step\n"
     ]
    },
    {
     "data": {
      "text/plain": [
       "[10.533244600101392, 2.390488624572754]"
      ]
     },
     "execution_count": 130,
     "metadata": {},
     "output_type": "execute_result"
    }
   ],
   "source": [
    "m.evaluate(x_test_scaled, y_test)"
   ]
  },
  {
   "cell_type": "markdown",
   "metadata": {},
   "source": [
    "That is a better result. Over the course of the project I experimented with a few of the variables in the model. For example, adding more depth with extra layers, adding more width with additional input nodes, changing the activation function, number of epochs, batch size etc. The above result appeared to be optimal. I found adding a second layer and changing the activation function to tanh in the first layer made the biggest difference. Reducing the number of input variables by removing the ones with least correlation to price didn't help either. The best result was achieved using all input variables. The next step is to try whitening the data, i.e. removing any underlying correlations. <br> \n",
    "##### Example 3:"
   ]
  },
  {
   "cell_type": "code",
   "execution_count": 131,
   "metadata": {},
   "outputs": [],
   "source": [
    "pca = dec.PCA(n_components=13, whiten=True)\n",
    "pca.fit(x_train)\n",
    "pca.fit(x_test)\n",
    "x_train_white = pd.DataFrame(pca.transform(x_train), columns=x.columns)\n",
    "#x_train_white"
   ]
  },
  {
   "cell_type": "code",
   "execution_count": 132,
   "metadata": {},
   "outputs": [],
   "source": [
    "m = kr.models.Sequential()\n",
    "\n",
    "m.add(kr.layers.Dense(13, input_dim=13, activation=\"tanh\"))\n",
    "m.add(kr.layers.Dense(13,activation=\"tanh\"))\n",
    "m.add(kr.layers.Dense(1, activation=\"linear\"))\n",
    "\n",
    "\n",
    "m.compile(loss=\"mean_squared_error\", optimizer=\"rmsprop\", metrics = [\"mae\"])"
   ]
  },
  {
   "cell_type": "code",
   "execution_count": 133,
   "metadata": {},
   "outputs": [
    {
     "name": "stdout",
     "output_type": "stream",
     "text": [
      "Epoch 1/300\n",
      "392/392 [==============================] - 0s 489us/step - loss: 527.0637 - mae: 21.4664\n",
      "Epoch 2/300\n",
      "392/392 [==============================] - 0s 112us/step - loss: 507.6277 - mae: 21.0483\n",
      "Epoch 3/300\n",
      "392/392 [==============================] - 0s 122us/step - loss: 487.3483 - mae: 20.6016\n",
      "Epoch 4/300\n",
      "392/392 [==============================] - 0s 122us/step - loss: 464.3801 - mae: 20.0596\n",
      "Epoch 5/300\n",
      "392/392 [==============================] - 0s 122us/step - loss: 437.3186 - mae: 19.4077\n",
      "Epoch 6/300\n",
      "392/392 [==============================] - 0s 122us/step - loss: 407.6186 - mae: 18.6441\n",
      "Epoch 7/300\n",
      "392/392 [==============================] - 0s 122us/step - loss: 374.9221 - mae: 17.7648\n",
      "Epoch 8/300\n",
      "392/392 [==============================] - 0s 122us/step - loss: 340.8361 - mae: 16.8129\n",
      "Epoch 9/300\n",
      "392/392 [==============================] - 0s 112us/step - loss: 306.8816 - mae: 15.7939\n",
      "Epoch 10/300\n",
      "392/392 [==============================] - 0s 112us/step - loss: 275.2487 - mae: 14.7651\n",
      "Epoch 11/300\n",
      "392/392 [==============================] - 0s 122us/step - loss: 247.1956 - mae: 13.7907\n",
      "Epoch 12/300\n",
      "392/392 [==============================] - 0s 112us/step - loss: 223.1850 - mae: 12.8773\n",
      "Epoch 13/300\n",
      "392/392 [==============================] - 0s 122us/step - loss: 202.8063 - mae: 12.0732\n",
      "Epoch 14/300\n",
      "392/392 [==============================] - 0s 122us/step - loss: 185.4226 - mae: 11.3660\n",
      "Epoch 15/300\n",
      "392/392 [==============================] - 0s 122us/step - loss: 171.1088 - mae: 10.7457\n",
      "Epoch 16/300\n",
      "392/392 [==============================] - 0s 132us/step - loss: 158.2909 - mae: 10.1976\n",
      "Epoch 17/300\n",
      "392/392 [==============================] - 0s 122us/step - loss: 146.9046 - mae: 9.6845\n",
      "Epoch 18/300\n",
      "392/392 [==============================] - 0s 122us/step - loss: 136.8484 - mae: 9.2117\n",
      "Epoch 19/300\n",
      "392/392 [==============================] - 0s 132us/step - loss: 127.3981 - mae: 8.7685\n",
      "Epoch 20/300\n",
      "392/392 [==============================] - 0s 112us/step - loss: 118.6383 - mae: 8.3611\n",
      "Epoch 21/300\n",
      "392/392 [==============================] - 0s 122us/step - loss: 110.6550 - mae: 7.9678\n",
      "Epoch 22/300\n",
      "392/392 [==============================] - 0s 132us/step - loss: 103.1180 - mae: 7.6071\n",
      "Epoch 23/300\n",
      "392/392 [==============================] - 0s 112us/step - loss: 96.0182 - mae: 7.2462\n",
      "Epoch 24/300\n",
      "392/392 [==============================] - 0s 122us/step - loss: 89.7718 - mae: 6.9304\n",
      "Epoch 25/300\n",
      "392/392 [==============================] - 0s 122us/step - loss: 83.9167 - mae: 6.6121\n",
      "Epoch 26/300\n",
      "392/392 [==============================] - 0s 112us/step - loss: 78.3561 - mae: 6.3121\n",
      "Epoch 27/300\n",
      "392/392 [==============================] - 0s 122us/step - loss: 73.3885 - mae: 6.0279\n",
      "Epoch 28/300\n",
      "392/392 [==============================] - 0s 122us/step - loss: 68.6973 - mae: 5.7511\n",
      "Epoch 29/300\n",
      "392/392 [==============================] - 0s 112us/step - loss: 64.2931 - mae: 5.4870\n",
      "Epoch 30/300\n",
      "392/392 [==============================] - 0s 132us/step - loss: 60.5219 - mae: 5.2521\n",
      "Epoch 31/300\n",
      "392/392 [==============================] - 0s 122us/step - loss: 57.1154 - mae: 5.0436\n",
      "Epoch 32/300\n",
      "392/392 [==============================] - 0s 122us/step - loss: 53.8668 - mae: 4.8500\n",
      "Epoch 33/300\n",
      "392/392 [==============================] - 0s 122us/step - loss: 51.0405 - mae: 4.6739\n",
      "Epoch 34/300\n",
      "392/392 [==============================] - 0s 122us/step - loss: 48.4025 - mae: 4.5063\n",
      "Epoch 35/300\n",
      "392/392 [==============================] - 0s 112us/step - loss: 46.0937 - mae: 4.4028\n",
      "Epoch 36/300\n",
      "392/392 [==============================] - 0s 122us/step - loss: 43.9159 - mae: 4.3060\n",
      "Epoch 37/300\n",
      "392/392 [==============================] - 0s 132us/step - loss: 42.0623 - mae: 4.2316\n",
      "Epoch 38/300\n",
      "392/392 [==============================] - 0s 122us/step - loss: 40.6174 - mae: 4.1802\n",
      "Epoch 39/300\n",
      "392/392 [==============================] - 0s 122us/step - loss: 39.2385 - mae: 4.1422\n",
      "Epoch 40/300\n",
      "392/392 [==============================] - 0s 112us/step - loss: 38.0746 - mae: 4.0959\n",
      "Epoch 41/300\n",
      "392/392 [==============================] - 0s 122us/step - loss: 37.1769 - mae: 4.0679\n",
      "Epoch 42/300\n",
      "392/392 [==============================] - 0s 112us/step - loss: 36.2561 - mae: 4.0248\n",
      "Epoch 43/300\n",
      "392/392 [==============================] - 0s 132us/step - loss: 35.4181 - mae: 4.0207\n",
      "Epoch 44/300\n",
      "392/392 [==============================] - 0s 132us/step - loss: 34.7615 - mae: 3.9921\n",
      "Epoch 45/300\n",
      "392/392 [==============================] - 0s 122us/step - loss: 34.1472 - mae: 3.9895\n",
      "Epoch 46/300\n",
      "392/392 [==============================] - 0s 122us/step - loss: 33.6940 - mae: 3.9690\n",
      "Epoch 47/300\n",
      "392/392 [==============================] - 0s 122us/step - loss: 33.0695 - mae: 3.9622\n",
      "Epoch 48/300\n",
      "392/392 [==============================] - 0s 102us/step - loss: 32.5371 - mae: 3.9463\n",
      "Epoch 49/300\n",
      "392/392 [==============================] - 0s 112us/step - loss: 32.0519 - mae: 3.9264\n",
      "Epoch 50/300\n",
      "392/392 [==============================] - 0s 102us/step - loss: 31.5994 - mae: 3.8879\n",
      "Epoch 51/300\n",
      "392/392 [==============================] - 0s 112us/step - loss: 31.1148 - mae: 3.8927\n",
      "Epoch 52/300\n",
      "392/392 [==============================] - 0s 122us/step - loss: 30.6896 - mae: 3.8634\n",
      "Epoch 53/300\n",
      "392/392 [==============================] - 0s 112us/step - loss: 30.1060 - mae: 3.7920\n",
      "Epoch 54/300\n",
      "392/392 [==============================] - 0s 112us/step - loss: 29.6608 - mae: 3.8056\n",
      "Epoch 55/300\n",
      "392/392 [==============================] - 0s 122us/step - loss: 28.9672 - mae: 3.7399\n",
      "Epoch 56/300\n",
      "392/392 [==============================] - 0s 112us/step - loss: 28.5936 - mae: 3.6722\n",
      "Epoch 57/300\n",
      "392/392 [==============================] - 0s 112us/step - loss: 27.9595 - mae: 3.6218\n",
      "Epoch 58/300\n",
      "392/392 [==============================] - 0s 122us/step - loss: 27.2713 - mae: 3.5664\n",
      "Epoch 59/300\n",
      "392/392 [==============================] - 0s 102us/step - loss: 26.6444 - mae: 3.4919\n",
      "Epoch 60/300\n",
      "392/392 [==============================] - 0s 112us/step - loss: 25.9579 - mae: 3.4273\n",
      "Epoch 61/300\n",
      "392/392 [==============================] - 0s 122us/step - loss: 25.3890 - mae: 3.3697\n",
      "Epoch 62/300\n",
      "392/392 [==============================] - 0s 122us/step - loss: 24.6644 - mae: 3.3218\n",
      "Epoch 63/300\n",
      "392/392 [==============================] - 0s 122us/step - loss: 23.9225 - mae: 3.2591\n",
      "Epoch 64/300\n",
      "392/392 [==============================] - 0s 122us/step - loss: 23.2321 - mae: 3.1865\n",
      "Epoch 65/300\n",
      "392/392 [==============================] - 0s 122us/step - loss: 22.5660 - mae: 3.1425\n",
      "Epoch 66/300\n",
      "392/392 [==============================] - 0s 112us/step - loss: 22.0293 - mae: 3.0997\n",
      "Epoch 67/300\n",
      "392/392 [==============================] - 0s 102us/step - loss: 21.4130 - mae: 3.0456\n",
      "Epoch 68/300\n",
      "392/392 [==============================] - 0s 112us/step - loss: 20.6963 - mae: 2.9795\n",
      "Epoch 69/300\n",
      "392/392 [==============================] - 0s 122us/step - loss: 20.0193 - mae: 2.9457\n",
      "Epoch 70/300\n",
      "392/392 [==============================] - 0s 112us/step - loss: 19.4268 - mae: 2.8852\n",
      "Epoch 71/300\n",
      "392/392 [==============================] - 0s 112us/step - loss: 18.8114 - mae: 2.8281\n",
      "Epoch 72/300\n",
      "392/392 [==============================] - 0s 102us/step - loss: 18.2809 - mae: 2.7868\n",
      "Epoch 73/300\n",
      "392/392 [==============================] - 0s 122us/step - loss: 17.7509 - mae: 2.7243\n",
      "Epoch 74/300\n",
      "392/392 [==============================] - 0s 112us/step - loss: 17.2210 - mae: 2.6990\n",
      "Epoch 75/300\n",
      "392/392 [==============================] - 0s 112us/step - loss: 16.7866 - mae: 2.6608\n",
      "Epoch 76/300\n",
      "392/392 [==============================] - 0s 132us/step - loss: 16.2496 - mae: 2.6190\n",
      "Epoch 77/300\n",
      "392/392 [==============================] - 0s 122us/step - loss: 15.8633 - mae: 2.5923\n",
      "Epoch 78/300\n",
      "392/392 [==============================] - 0s 112us/step - loss: 15.4415 - mae: 2.5590\n",
      "Epoch 79/300\n",
      "392/392 [==============================] - 0s 92us/step - loss: 15.0138 - mae: 2.5243\n",
      "Epoch 80/300\n",
      "392/392 [==============================] - 0s 92us/step - loss: 14.7575 - mae: 2.5040\n",
      "Epoch 81/300\n",
      "392/392 [==============================] - 0s 122us/step - loss: 14.3261 - mae: 2.4353\n",
      "Epoch 82/300\n"
     ]
    },
    {
     "name": "stdout",
     "output_type": "stream",
     "text": [
      "392/392 [==============================] - 0s 122us/step - loss: 14.0907 - mae: 2.4387\n",
      "Epoch 83/300\n",
      "392/392 [==============================] - 0s 122us/step - loss: 13.7902 - mae: 2.4239\n",
      "Epoch 84/300\n",
      "392/392 [==============================] - 0s 122us/step - loss: 13.4433 - mae: 2.3979\n",
      "Epoch 85/300\n",
      "392/392 [==============================] - 0s 112us/step - loss: 13.1735 - mae: 2.3721\n",
      "Epoch 86/300\n",
      "392/392 [==============================] - 0s 92us/step - loss: 12.8748 - mae: 2.3531\n",
      "Epoch 87/300\n",
      "392/392 [==============================] - 0s 112us/step - loss: 12.6523 - mae: 2.3499\n",
      "Epoch 88/300\n",
      "392/392 [==============================] - 0s 112us/step - loss: 12.4199 - mae: 2.3132\n",
      "Epoch 89/300\n",
      "392/392 [==============================] - 0s 102us/step - loss: 12.1725 - mae: 2.3088\n",
      "Epoch 90/300\n",
      "392/392 [==============================] - 0s 112us/step - loss: 11.9163 - mae: 2.2907\n",
      "Epoch 91/300\n",
      "392/392 [==============================] - 0s 112us/step - loss: 11.7289 - mae: 2.2605\n",
      "Epoch 92/300\n",
      "392/392 [==============================] - 0s 112us/step - loss: 11.5050 - mae: 2.2280\n",
      "Epoch 93/300\n",
      "392/392 [==============================] - 0s 112us/step - loss: 11.3342 - mae: 2.2497\n",
      "Epoch 94/300\n",
      "392/392 [==============================] - 0s 122us/step - loss: 11.1279 - mae: 2.2005\n",
      "Epoch 95/300\n",
      "392/392 [==============================] - 0s 102us/step - loss: 10.9781 - mae: 2.2060\n",
      "Epoch 96/300\n",
      "392/392 [==============================] - 0s 122us/step - loss: 10.8309 - mae: 2.1895\n",
      "Epoch 97/300\n",
      "392/392 [==============================] - 0s 112us/step - loss: 10.6686 - mae: 2.1856\n",
      "Epoch 98/300\n",
      "392/392 [==============================] - 0s 132us/step - loss: 10.5040 - mae: 2.1502\n",
      "Epoch 99/300\n",
      "392/392 [==============================] - 0s 143us/step - loss: 10.2559 - mae: 2.1653\n",
      "Epoch 100/300\n",
      "392/392 [==============================] - 0s 214us/step - loss: 10.2008 - mae: 2.1336\n",
      "Epoch 101/300\n",
      "392/392 [==============================] - 0s 245us/step - loss: 10.0098 - mae: 2.1081\n",
      "Epoch 102/300\n",
      "392/392 [==============================] - 0s 224us/step - loss: 9.9075 - mae: 2.1156\n",
      "Epoch 103/300\n",
      "392/392 [==============================] - 0s 234us/step - loss: 9.8086 - mae: 2.1050\n",
      "Epoch 104/300\n",
      "392/392 [==============================] - 0s 234us/step - loss: 9.6383 - mae: 2.0791\n",
      "Epoch 105/300\n",
      "392/392 [==============================] - 0s 234us/step - loss: 9.5355 - mae: 2.0839\n",
      "Epoch 106/300\n",
      "392/392 [==============================] - 0s 245us/step - loss: 9.4245 - mae: 2.0679\n",
      "Epoch 107/300\n",
      "392/392 [==============================] - 0s 214us/step - loss: 9.2512 - mae: 2.0701\n",
      "Epoch 108/300\n",
      "392/392 [==============================] - 0s 234us/step - loss: 9.1607 - mae: 2.0200\n",
      "Epoch 109/300\n",
      "392/392 [==============================] - 0s 224us/step - loss: 8.9131 - mae: 2.0373\n",
      "Epoch 110/300\n",
      "392/392 [==============================] - 0s 224us/step - loss: 9.0002 - mae: 2.0035\n",
      "Epoch 111/300\n",
      "392/392 [==============================] - 0s 245us/step - loss: 8.8633 - mae: 2.0339\n",
      "Epoch 112/300\n",
      "392/392 [==============================] - 0s 255us/step - loss: 8.8044 - mae: 2.0297\n",
      "Epoch 113/300\n",
      "392/392 [==============================] - 0s 214us/step - loss: 8.6957 - mae: 2.0020\n",
      "Epoch 114/300\n",
      "392/392 [==============================] - 0s 234us/step - loss: 8.4838 - mae: 1.9783\n",
      "Epoch 115/300\n",
      "392/392 [==============================] - 0s 214us/step - loss: 8.4464 - mae: 1.9916\n",
      "Epoch 116/300\n",
      "392/392 [==============================] - 0s 234us/step - loss: 8.3634 - mae: 1.9723\n",
      "Epoch 117/300\n",
      "392/392 [==============================] - 0s 245us/step - loss: 8.2871 - mae: 1.9630\n",
      "Epoch 118/300\n",
      "392/392 [==============================] - 0s 224us/step - loss: 8.1563 - mae: 1.9625\n",
      "Epoch 119/300\n",
      "392/392 [==============================] - 0s 234us/step - loss: 8.1202 - mae: 1.9498\n",
      "Epoch 120/300\n",
      "392/392 [==============================] - 0s 224us/step - loss: 8.0237 - mae: 1.9447\n",
      "Epoch 121/300\n",
      "392/392 [==============================] - 0s 214us/step - loss: 7.9571 - mae: 1.9542\n",
      "Epoch 122/300\n",
      "392/392 [==============================] - 0s 122us/step - loss: 7.8670 - mae: 1.9206\n",
      "Epoch 123/300\n",
      "392/392 [==============================] - 0s 102us/step - loss: 7.7135 - mae: 1.9196\n",
      "Epoch 124/300\n",
      "392/392 [==============================] - 0s 112us/step - loss: 7.6920 - mae: 1.8971\n",
      "Epoch 125/300\n",
      "392/392 [==============================] - 0s 122us/step - loss: 7.6167 - mae: 1.8845\n",
      "Epoch 126/300\n",
      "392/392 [==============================] - 0s 122us/step - loss: 7.5863 - mae: 1.8962\n",
      "Epoch 127/300\n",
      "392/392 [==============================] - 0s 112us/step - loss: 7.4663 - mae: 1.8819\n",
      "Epoch 128/300\n",
      "392/392 [==============================] - 0s 112us/step - loss: 7.4479 - mae: 1.8715\n",
      "Epoch 129/300\n",
      "392/392 [==============================] - 0s 122us/step - loss: 7.3294 - mae: 1.8764\n",
      "Epoch 130/300\n",
      "392/392 [==============================] - 0s 112us/step - loss: 7.2905 - mae: 1.8710\n",
      "Epoch 131/300\n",
      "392/392 [==============================] - 0s 122us/step - loss: 7.2390 - mae: 1.8475\n",
      "Epoch 132/300\n",
      "392/392 [==============================] - 0s 122us/step - loss: 7.2012 - mae: 1.8532\n",
      "Epoch 133/300\n",
      "392/392 [==============================] - 0s 102us/step - loss: 7.1482 - mae: 1.8660\n",
      "Epoch 134/300\n",
      "392/392 [==============================] - 0s 112us/step - loss: 7.0189 - mae: 1.8398\n",
      "Epoch 135/300\n",
      "392/392 [==============================] - 0s 122us/step - loss: 6.9797 - mae: 1.8260\n",
      "Epoch 136/300\n",
      "392/392 [==============================] - 0s 112us/step - loss: 6.9084 - mae: 1.8324\n",
      "Epoch 137/300\n",
      "392/392 [==============================] - 0s 112us/step - loss: 6.8676 - mae: 1.8220\n",
      "Epoch 138/300\n",
      "392/392 [==============================] - 0s 122us/step - loss: 6.7418 - mae: 1.8010\n",
      "Epoch 139/300\n",
      "392/392 [==============================] - 0s 112us/step - loss: 6.7364 - mae: 1.8127\n",
      "Epoch 140/300\n",
      "392/392 [==============================] - 0s 122us/step - loss: 6.6288 - mae: 1.8028\n",
      "Epoch 141/300\n",
      "392/392 [==============================] - 0s 122us/step - loss: 6.5815 - mae: 1.7910\n",
      "Epoch 142/300\n",
      "392/392 [==============================] - 0s 122us/step - loss: 6.5948 - mae: 1.7823\n",
      "Epoch 143/300\n",
      "392/392 [==============================] - 0s 112us/step - loss: 6.4794 - mae: 1.7772\n",
      "Epoch 144/300\n",
      "392/392 [==============================] - 0s 112us/step - loss: 6.4724 - mae: 1.7875\n",
      "Epoch 145/300\n",
      "392/392 [==============================] - 0s 112us/step - loss: 6.3928 - mae: 1.7484\n",
      "Epoch 146/300\n",
      "392/392 [==============================] - 0s 112us/step - loss: 6.3837 - mae: 1.7706\n",
      "Epoch 147/300\n",
      "392/392 [==============================] - 0s 122us/step - loss: 6.3147 - mae: 1.7553\n",
      "Epoch 148/300\n",
      "392/392 [==============================] - 0s 122us/step - loss: 6.2315 - mae: 1.7487\n",
      "Epoch 149/300\n",
      "392/392 [==============================] - 0s 112us/step - loss: 6.2143 - mae: 1.7348\n",
      "Epoch 150/300\n",
      "392/392 [==============================] - 0s 112us/step - loss: 6.1002 - mae: 1.7294\n",
      "Epoch 151/300\n",
      "392/392 [==============================] - 0s 122us/step - loss: 6.0554 - mae: 1.7271\n",
      "Epoch 152/300\n",
      "392/392 [==============================] - 0s 112us/step - loss: 6.0137 - mae: 1.7212\n",
      "Epoch 153/300\n",
      "392/392 [==============================] - 0s 122us/step - loss: 5.9812 - mae: 1.6873\n",
      "Epoch 154/300\n",
      "392/392 [==============================] - 0s 122us/step - loss: 5.8940 - mae: 1.7025\n",
      "Epoch 155/300\n",
      "392/392 [==============================] - 0s 112us/step - loss: 5.8599 - mae: 1.6844\n",
      "Epoch 156/300\n",
      "392/392 [==============================] - 0s 112us/step - loss: 5.7794 - mae: 1.6902\n",
      "Epoch 157/300\n",
      "392/392 [==============================] - 0s 122us/step - loss: 5.7898 - mae: 1.6744\n",
      "Epoch 158/300\n",
      "392/392 [==============================] - 0s 122us/step - loss: 5.6821 - mae: 1.6639\n",
      "Epoch 159/300\n",
      "392/392 [==============================] - 0s 122us/step - loss: 5.7176 - mae: 1.6861\n",
      "Epoch 160/300\n",
      "392/392 [==============================] - 0s 112us/step - loss: 5.6380 - mae: 1.6400\n",
      "Epoch 161/300\n",
      "392/392 [==============================] - 0s 122us/step - loss: 5.5907 - mae: 1.6501\n",
      "Epoch 162/300\n",
      "392/392 [==============================] - 0s 122us/step - loss: 5.4647 - mae: 1.6193\n",
      "Epoch 163/300\n",
      "392/392 [==============================] - 0s 112us/step - loss: 5.4737 - mae: 1.6343\n",
      "Epoch 164/300\n"
     ]
    },
    {
     "name": "stdout",
     "output_type": "stream",
     "text": [
      "392/392 [==============================] - 0s 122us/step - loss: 5.4226 - mae: 1.6421\n",
      "Epoch 165/300\n",
      "392/392 [==============================] - 0s 112us/step - loss: 5.3248 - mae: 1.6022\n",
      "Epoch 166/300\n",
      "392/392 [==============================] - 0s 112us/step - loss: 5.3054 - mae: 1.6160\n",
      "Epoch 167/300\n",
      "392/392 [==============================] - 0s 122us/step - loss: 5.3120 - mae: 1.6384\n",
      "Epoch 168/300\n",
      "392/392 [==============================] - 0s 112us/step - loss: 5.2306 - mae: 1.6057\n",
      "Epoch 169/300\n",
      "392/392 [==============================] - 0s 122us/step - loss: 5.2156 - mae: 1.5925\n",
      "Epoch 170/300\n",
      "392/392 [==============================] - 0s 122us/step - loss: 5.1186 - mae: 1.5926\n",
      "Epoch 171/300\n",
      "392/392 [==============================] - 0s 112us/step - loss: 5.1335 - mae: 1.5945\n",
      "Epoch 172/300\n",
      "392/392 [==============================] - 0s 102us/step - loss: 5.0822 - mae: 1.5788\n",
      "Epoch 173/300\n",
      "392/392 [==============================] - 0s 112us/step - loss: 5.0185 - mae: 1.5935\n",
      "Epoch 174/300\n",
      "392/392 [==============================] - 0s 112us/step - loss: 4.9960 - mae: 1.5479\n",
      "Epoch 175/300\n",
      "392/392 [==============================] - 0s 122us/step - loss: 4.9343 - mae: 1.5683\n",
      "Epoch 176/300\n",
      "392/392 [==============================] - 0s 112us/step - loss: 4.8055 - mae: 1.5351\n",
      "Epoch 177/300\n",
      "392/392 [==============================] - 0s 112us/step - loss: 4.8936 - mae: 1.5444\n",
      "Epoch 178/300\n",
      "392/392 [==============================] - 0s 122us/step - loss: 4.7885 - mae: 1.5379\n",
      "Epoch 179/300\n",
      "392/392 [==============================] - 0s 112us/step - loss: 4.7715 - mae: 1.5300\n",
      "Epoch 180/300\n",
      "392/392 [==============================] - 0s 112us/step - loss: 4.6507 - mae: 1.5087\n",
      "Epoch 181/300\n",
      "392/392 [==============================] - 0s 112us/step - loss: 4.7361 - mae: 1.5236\n",
      "Epoch 182/300\n",
      "392/392 [==============================] - 0s 112us/step - loss: 4.6117 - mae: 1.5281\n",
      "Epoch 183/300\n",
      "392/392 [==============================] - 0s 112us/step - loss: 4.6067 - mae: 1.5264\n",
      "Epoch 184/300\n",
      "392/392 [==============================] - 0s 102us/step - loss: 4.5234 - mae: 1.4977\n",
      "Epoch 185/300\n",
      "392/392 [==============================] - 0s 122us/step - loss: 4.5506 - mae: 1.5139\n",
      "Epoch 186/300\n",
      "392/392 [==============================] - 0s 122us/step - loss: 4.4686 - mae: 1.5017\n",
      "Epoch 187/300\n",
      "392/392 [==============================] - 0s 122us/step - loss: 4.4618 - mae: 1.5074\n",
      "Epoch 188/300\n",
      "392/392 [==============================] - 0s 112us/step - loss: 4.4522 - mae: 1.4901\n",
      "Epoch 189/300\n",
      "392/392 [==============================] - 0s 112us/step - loss: 4.3779 - mae: 1.4870\n",
      "Epoch 190/300\n",
      "392/392 [==============================] - 0s 112us/step - loss: 4.3408 - mae: 1.4746\n",
      "Epoch 191/300\n",
      "392/392 [==============================] - 0s 112us/step - loss: 4.3237 - mae: 1.4705\n",
      "Epoch 192/300\n",
      "392/392 [==============================] - 0s 112us/step - loss: 4.3074 - mae: 1.4620\n",
      "Epoch 193/300\n",
      "392/392 [==============================] - 0s 112us/step - loss: 4.2244 - mae: 1.4361\n",
      "Epoch 194/300\n",
      "392/392 [==============================] - 0s 112us/step - loss: 4.2595 - mae: 1.4614\n",
      "Epoch 195/300\n",
      "392/392 [==============================] - 0s 122us/step - loss: 4.1887 - mae: 1.4494\n",
      "Epoch 196/300\n",
      "392/392 [==============================] - 0s 112us/step - loss: 4.1736 - mae: 1.4567\n",
      "Epoch 197/300\n",
      "392/392 [==============================] - 0s 122us/step - loss: 4.1516 - mae: 1.4544\n",
      "Epoch 198/300\n",
      "392/392 [==============================] - 0s 112us/step - loss: 4.1057 - mae: 1.4425\n",
      "Epoch 199/300\n",
      "392/392 [==============================] - 0s 112us/step - loss: 4.0047 - mae: 1.4083\n",
      "Epoch 200/300\n",
      "392/392 [==============================] - 0s 112us/step - loss: 4.0364 - mae: 1.4341\n",
      "Epoch 201/300\n",
      "392/392 [==============================] - 0s 112us/step - loss: 3.9357 - mae: 1.4162\n",
      "Epoch 202/300\n",
      "392/392 [==============================] - 0s 112us/step - loss: 3.9816 - mae: 1.4055\n",
      "Epoch 203/300\n",
      "392/392 [==============================] - 0s 112us/step - loss: 3.9962 - mae: 1.4094\n",
      "Epoch 204/300\n",
      "392/392 [==============================] - 0s 132us/step - loss: 3.8572 - mae: 1.4038\n",
      "Epoch 205/300\n",
      "392/392 [==============================] - 0s 132us/step - loss: 3.8889 - mae: 1.4037\n",
      "Epoch 206/300\n",
      "392/392 [==============================] - 0s 122us/step - loss: 3.8564 - mae: 1.4014\n",
      "Epoch 207/300\n",
      "392/392 [==============================] - 0s 112us/step - loss: 3.8165 - mae: 1.4036\n",
      "Epoch 208/300\n",
      "392/392 [==============================] - 0s 122us/step - loss: 3.7161 - mae: 1.3604\n",
      "Epoch 209/300\n",
      "392/392 [==============================] - 0s 122us/step - loss: 3.7463 - mae: 1.3843\n",
      "Epoch 210/300\n",
      "392/392 [==============================] - 0s 132us/step - loss: 3.7670 - mae: 1.3948\n",
      "Epoch 211/300\n",
      "392/392 [==============================] - 0s 122us/step - loss: 3.7188 - mae: 1.3870\n",
      "Epoch 212/300\n",
      "392/392 [==============================] - 0s 112us/step - loss: 3.6714 - mae: 1.3676\n",
      "Epoch 213/300\n",
      "392/392 [==============================] - 0s 112us/step - loss: 3.7096 - mae: 1.3740\n",
      "Epoch 214/300\n",
      "392/392 [==============================] - 0s 112us/step - loss: 3.6032 - mae: 1.3618\n",
      "Epoch 215/300\n",
      "392/392 [==============================] - 0s 112us/step - loss: 3.6566 - mae: 1.3815\n",
      "Epoch 216/300\n",
      "392/392 [==============================] - 0s 112us/step - loss: 3.5534 - mae: 1.3353\n",
      "Epoch 217/300\n",
      "392/392 [==============================] - 0s 112us/step - loss: 3.5442 - mae: 1.3587\n",
      "Epoch 218/300\n",
      "392/392 [==============================] - 0s 112us/step - loss: 3.5531 - mae: 1.3470\n",
      "Epoch 219/300\n",
      "392/392 [==============================] - 0s 122us/step - loss: 3.5292 - mae: 1.3451\n",
      "Epoch 220/300\n",
      "392/392 [==============================] - 0s 122us/step - loss: 3.4681 - mae: 1.3307\n",
      "Epoch 221/300\n",
      "392/392 [==============================] - 0s 122us/step - loss: 3.5088 - mae: 1.3577\n",
      "Epoch 222/300\n",
      "392/392 [==============================] - 0s 112us/step - loss: 3.3739 - mae: 1.3315\n",
      "Epoch 223/300\n",
      "392/392 [==============================] - 0s 112us/step - loss: 3.3962 - mae: 1.3256\n",
      "Epoch 224/300\n",
      "392/392 [==============================] - 0s 112us/step - loss: 3.4091 - mae: 1.3303\n",
      "Epoch 225/300\n",
      "392/392 [==============================] - 0s 112us/step - loss: 3.4266 - mae: 1.3283\n",
      "Epoch 226/300\n",
      "392/392 [==============================] - 0s 112us/step - loss: 3.3872 - mae: 1.3346\n",
      "Epoch 227/300\n",
      "392/392 [==============================] - 0s 112us/step - loss: 3.3257 - mae: 1.3184\n",
      "Epoch 228/300\n",
      "392/392 [==============================] - 0s 112us/step - loss: 3.3490 - mae: 1.3098\n",
      "Epoch 229/300\n",
      "392/392 [==============================] - 0s 102us/step - loss: 3.2804 - mae: 1.3125\n",
      "Epoch 230/300\n",
      "392/392 [==============================] - 0s 112us/step - loss: 3.2263 - mae: 1.3004\n",
      "Epoch 231/300\n",
      "392/392 [==============================] - 0s 112us/step - loss: 3.3096 - mae: 1.3187\n",
      "Epoch 232/300\n",
      "392/392 [==============================] - 0s 112us/step - loss: 3.2258 - mae: 1.2961\n",
      "Epoch 233/300\n",
      "392/392 [==============================] - 0s 112us/step - loss: 3.2665 - mae: 1.2994\n",
      "Epoch 234/300\n",
      "392/392 [==============================] - 0s 112us/step - loss: 3.1893 - mae: 1.2967\n",
      "Epoch 235/300\n",
      "392/392 [==============================] - 0s 112us/step - loss: 3.2057 - mae: 1.2990\n",
      "Epoch 236/300\n",
      "392/392 [==============================] - 0s 112us/step - loss: 3.1613 - mae: 1.2656\n",
      "Epoch 237/300\n",
      "392/392 [==============================] - 0s 112us/step - loss: 3.1203 - mae: 1.2849\n",
      "Epoch 238/300\n",
      "392/392 [==============================] - 0s 112us/step - loss: 3.1391 - mae: 1.2840\n",
      "Epoch 239/300\n",
      "392/392 [==============================] - 0s 112us/step - loss: 3.0023 - mae: 1.2403\n",
      "Epoch 240/300\n",
      "392/392 [==============================] - 0s 112us/step - loss: 3.0983 - mae: 1.2693\n",
      "Epoch 241/300\n",
      "392/392 [==============================] - 0s 112us/step - loss: 3.0807 - mae: 1.2783\n",
      "Epoch 242/300\n",
      "392/392 [==============================] - 0s 102us/step - loss: 3.0267 - mae: 1.2619\n",
      "Epoch 243/300\n",
      "392/392 [==============================] - 0s 112us/step - loss: 3.0465 - mae: 1.2602\n",
      "Epoch 244/300\n",
      "392/392 [==============================] - 0s 112us/step - loss: 3.0195 - mae: 1.2697\n",
      "Epoch 245/300\n",
      "392/392 [==============================] - 0s 112us/step - loss: 3.0364 - mae: 1.2784\n",
      "Epoch 246/300\n"
     ]
    },
    {
     "name": "stdout",
     "output_type": "stream",
     "text": [
      "392/392 [==============================] - 0s 112us/step - loss: 2.9224 - mae: 1.2456\n",
      "Epoch 247/300\n",
      "392/392 [==============================] - 0s 112us/step - loss: 2.9194 - mae: 1.2413\n",
      "Epoch 248/300\n",
      "392/392 [==============================] - 0s 112us/step - loss: 2.9905 - mae: 1.2622\n",
      "Epoch 249/300\n",
      "392/392 [==============================] - 0s 122us/step - loss: 2.9383 - mae: 1.2381\n",
      "Epoch 250/300\n",
      "392/392 [==============================] - 0s 122us/step - loss: 2.9250 - mae: 1.2446\n",
      "Epoch 251/300\n",
      "392/392 [==============================] - 0s 122us/step - loss: 2.9583 - mae: 1.2466\n",
      "Epoch 252/300\n",
      "392/392 [==============================] - 0s 112us/step - loss: 2.8808 - mae: 1.2265\n",
      "Epoch 253/300\n",
      "392/392 [==============================] - 0s 102us/step - loss: 2.9255 - mae: 1.2539\n",
      "Epoch 254/300\n",
      "392/392 [==============================] - 0s 112us/step - loss: 2.8716 - mae: 1.2274\n",
      "Epoch 255/300\n",
      "392/392 [==============================] - 0s 122us/step - loss: 2.8626 - mae: 1.2247\n",
      "Epoch 256/300\n",
      "392/392 [==============================] - 0s 112us/step - loss: 2.8710 - mae: 1.2186\n",
      "Epoch 257/300\n",
      "392/392 [==============================] - 0s 112us/step - loss: 2.8119 - mae: 1.2321\n",
      "Epoch 258/300\n",
      "392/392 [==============================] - 0s 122us/step - loss: 2.8279 - mae: 1.2159\n",
      "Epoch 259/300\n",
      "392/392 [==============================] - 0s 112us/step - loss: 2.7328 - mae: 1.2060\n",
      "Epoch 260/300\n",
      "392/392 [==============================] - 0s 122us/step - loss: 2.7694 - mae: 1.2066\n",
      "Epoch 261/300\n",
      "392/392 [==============================] - 0s 122us/step - loss: 2.8018 - mae: 1.2122\n",
      "Epoch 262/300\n",
      "392/392 [==============================] - 0s 112us/step - loss: 2.8099 - mae: 1.2210\n",
      "Epoch 263/300\n",
      "392/392 [==============================] - 0s 102us/step - loss: 2.7669 - mae: 1.1983\n",
      "Epoch 264/300\n",
      "392/392 [==============================] - 0s 112us/step - loss: 2.7826 - mae: 1.2157\n",
      "Epoch 265/300\n",
      "392/392 [==============================] - 0s 112us/step - loss: 2.7664 - mae: 1.2039\n",
      "Epoch 266/300\n",
      "392/392 [==============================] - 0s 112us/step - loss: 2.6440 - mae: 1.1880\n",
      "Epoch 267/300\n",
      "392/392 [==============================] - 0s 112us/step - loss: 2.6831 - mae: 1.2060\n",
      "Epoch 268/300\n",
      "392/392 [==============================] - 0s 102us/step - loss: 2.7270 - mae: 1.1967\n",
      "Epoch 269/300\n",
      "392/392 [==============================] - 0s 122us/step - loss: 2.6956 - mae: 1.1905\n",
      "Epoch 270/300\n",
      "392/392 [==============================] - 0s 112us/step - loss: 2.6894 - mae: 1.1859\n",
      "Epoch 271/300\n",
      "392/392 [==============================] - 0s 112us/step - loss: 2.6416 - mae: 1.1779\n",
      "Epoch 272/300\n",
      "392/392 [==============================] - 0s 102us/step - loss: 2.6973 - mae: 1.1934\n",
      "Epoch 273/300\n",
      "392/392 [==============================] - 0s 112us/step - loss: 2.6898 - mae: 1.2036\n",
      "Epoch 274/300\n",
      "392/392 [==============================] - 0s 112us/step - loss: 2.6282 - mae: 1.1857\n",
      "Epoch 275/300\n",
      "392/392 [==============================] - 0s 122us/step - loss: 2.6504 - mae: 1.1829\n",
      "Epoch 276/300\n",
      "392/392 [==============================] - 0s 112us/step - loss: 2.5950 - mae: 1.1855\n",
      "Epoch 277/300\n",
      "392/392 [==============================] - 0s 112us/step - loss: 2.6070 - mae: 1.1806\n",
      "Epoch 278/300\n",
      "392/392 [==============================] - 0s 112us/step - loss: 2.6435 - mae: 1.1813\n",
      "Epoch 279/300\n",
      "392/392 [==============================] - 0s 112us/step - loss: 2.6117 - mae: 1.1860\n",
      "Epoch 280/300\n",
      "392/392 [==============================] - 0s 122us/step - loss: 2.6386 - mae: 1.1782\n",
      "Epoch 281/300\n",
      "392/392 [==============================] - 0s 122us/step - loss: 2.6398 - mae: 1.1788\n",
      "Epoch 282/300\n",
      "392/392 [==============================] - 0s 122us/step - loss: 2.5843 - mae: 1.1583\n",
      "Epoch 283/300\n",
      "392/392 [==============================] - 0s 132us/step - loss: 2.5710 - mae: 1.1738\n",
      "Epoch 284/300\n",
      "392/392 [==============================] - 0s 122us/step - loss: 2.5494 - mae: 1.1668\n",
      "Epoch 285/300\n",
      "392/392 [==============================] - 0s 122us/step - loss: 2.5904 - mae: 1.1685\n",
      "Epoch 286/300\n",
      "392/392 [==============================] - 0s 112us/step - loss: 2.5381 - mae: 1.1606\n",
      "Epoch 287/300\n",
      "392/392 [==============================] - 0s 112us/step - loss: 2.5538 - mae: 1.1693\n",
      "Epoch 288/300\n",
      "392/392 [==============================] - 0s 112us/step - loss: 2.5050 - mae: 1.1540\n",
      "Epoch 289/300\n",
      "392/392 [==============================] - 0s 132us/step - loss: 2.5319 - mae: 1.1610\n",
      "Epoch 290/300\n",
      "392/392 [==============================] - 0s 112us/step - loss: 2.5097 - mae: 1.1580\n",
      "Epoch 291/300\n",
      "392/392 [==============================] - 0s 102us/step - loss: 2.5349 - mae: 1.1614\n",
      "Epoch 292/300\n",
      "392/392 [==============================] - 0s 112us/step - loss: 2.5176 - mae: 1.1622\n",
      "Epoch 293/300\n",
      "392/392 [==============================] - 0s 112us/step - loss: 2.5219 - mae: 1.1610\n",
      "Epoch 294/300\n",
      "392/392 [==============================] - 0s 112us/step - loss: 2.5140 - mae: 1.1479\n",
      "Epoch 295/300\n",
      "392/392 [==============================] - 0s 122us/step - loss: 2.4762 - mae: 1.1547\n",
      "Epoch 296/300\n",
      "392/392 [==============================] - 0s 112us/step - loss: 2.4982 - mae: 1.1561\n",
      "Epoch 297/300\n",
      "392/392 [==============================] - 0s 112us/step - loss: 2.4835 - mae: 1.1553\n",
      "Epoch 298/300\n",
      "392/392 [==============================] - 0s 112us/step - loss: 2.4910 - mae: 1.1464\n",
      "Epoch 299/300\n",
      "392/392 [==============================] - 0s 102us/step - loss: 2.4083 - mae: 1.1420\n",
      "Epoch 300/300\n",
      "392/392 [==============================] - 0s 112us/step - loss: 2.4449 - mae: 1.1579\n"
     ]
    },
    {
     "data": {
      "text/plain": [
       "<keras.callbacks.callbacks.History at 0x26131116a58>"
      ]
     },
     "execution_count": 133,
     "metadata": {},
     "output_type": "execute_result"
    }
   ],
   "source": [
    "m.fit(x_train_white, y_train, epochs=300, batch_size=10)"
   ]
  },
  {
   "cell_type": "code",
   "execution_count": 134,
   "metadata": {},
   "outputs": [
    {
     "data": {
      "text/plain": [
       "array([[14., 25., 18., 13., 23., 19., 19., 16., 17.,  6., 22., 14., 15.,\n",
       "        20., 17., 25., 19., 22., 41., 15., 16., 39., 24., 36., 18., 22.,\n",
       "        18., 16., 42.,  6., 28., 19., 27., 21., 17., 36., 15., 22., 22.,\n",
       "        22., 20., 18., 32., 14., -1.,  7., 19., 17., 30., 22., 14., 12.,\n",
       "        20., 30., 23., 38., 26., 22., 20., 25., 17., 27., 32., 24., 19.,\n",
       "        25., -1., 18., 22., 21., 17., 20., 19., 15., 10., 17., 20., 30.,\n",
       "        19., 27., 21., 23., 22., 22., 17., 31., 18., 17., 17., 10., 33.,\n",
       "        18.,  4., 18., 37., 23., 21., 26.]], dtype=float32)"
      ]
     },
     "execution_count": 134,
     "metadata": {},
     "output_type": "execute_result"
    }
   ],
   "source": [
    "#scaler.fit(x_test)\n",
    "x_test_white = scaler.transform(x_test)\n",
    "m.predict(x_test_white).round().T"
   ]
  },
  {
   "cell_type": "code",
   "execution_count": 135,
   "metadata": {},
   "outputs": [
    {
     "name": "stderr",
     "output_type": "stream",
     "text": [
      "C:\\Users\\pemtc\\Anaconda3\\lib\\site-packages\\ipykernel_launcher.py:1: FutureWarning: Method .as_matrix will be removed in a future version. Use .values instead.\n",
      "  \"\"\"Entry point for launching an IPython kernel.\n"
     ]
    },
    {
     "data": {
      "text/plain": [
       "array([ 8.4, 21.8, 34.7, 33.3, 11. , 31.6, 38.7, 36.2, 14.6, 13.8, 22.9,\n",
       "       20.1, 11.5, 23.3, 18.6, 19.6, 24.1, 25. , 19.6, 33.4, 33.1, 19.9,\n",
       "       21.2, 18. , 29.9, 23. , 22.5, 24.7, 20.1, 10.4, 16.2, 31.7, 16.8,\n",
       "       26.4, 19.8, 17.1, 34.9, 17.4, 22.3, 24.5, 22.2, 23.3, 19.6, 13.8,\n",
       "       16.3, 12.7, 14.6, 23.7, 15.2, 20.4, 27.9, 35.1, 24.3, 20.3, 22.2,\n",
       "       19.1, 12.7, 23.1, 21.1, 23.9, 26.4, 18.7, 16.6, 18.5, 41.3, 20.5,\n",
       "       11.9, 23.9, 23.8, 21.7, 15.6, 42.8, 24.7, 32. , 19.1, 20. , 23.3,\n",
       "       21.4, 24.6, 22.5, 24. , 13.5, 25. , 23.1, 19.3, 18.2, 32.9, 31.5,\n",
       "       28.7,  9.7, 19.5, 23.4, 10.9, 13.2, 19.1, 18.5, 20.6, 27.5],\n",
       "      dtype=float32)"
      ]
     },
     "execution_count": 135,
     "metadata": {},
     "output_type": "execute_result"
    }
   ],
   "source": [
    "y_test.as_matrix().astype(np.float32)"
   ]
  },
  {
   "cell_type": "code",
   "execution_count": 136,
   "metadata": {},
   "outputs": [
    {
     "name": "stdout",
     "output_type": "stream",
     "text": [
      "98/98 [==============================] - 0s 937us/step\n"
     ]
    },
    {
     "data": {
      "text/plain": [
       "[118.15607610284066, 8.554180145263672]"
      ]
     },
     "execution_count": 136,
     "metadata": {},
     "output_type": "execute_result"
    }
   ],
   "source": [
    "m.evaluate(x_test_white, y_test)"
   ]
  },
  {
   "cell_type": "markdown",
   "metadata": {},
   "source": [
    "This hasn't improved the result, and in fact it's significantly worse. From this we conclude that in this example whitening the data doesn't give us a better outcome. "
   ]
  },
  {
   "cell_type": "markdown",
   "metadata": {},
   "source": [
    "Going back to our scaled example (example 2 above), which gave us the best result, we can plot the training & testing loss values, which basically shows the loss flattening out after a certain number of epochs:"
   ]
  },
  {
   "cell_type": "code",
   "execution_count": 137,
   "metadata": {},
   "outputs": [
    {
     "data": {
      "image/png": "[encoded data removed]",
      "text/plain": [
       "<Figure size 432x288 with 1 Axes>"
      ]
     },
     "metadata": {
      "needs_background": "light"
     },
     "output_type": "display_data"
    }
   ],
   "source": [
    "plt.plot(history.history['loss'])\n",
    "plt.plot(history.history['val_loss'])\n",
    "plt.title('model loss value')\n",
    "plt.ylabel('loss')\n",
    "plt.xlabel('epoch')\n",
    "plt.legend(['train', 'test'], loc='upper left')\n",
    "plt.show()"
   ]
  },
  {
   "cell_type": "markdown",
   "metadata": {},
   "source": [
    "#### Conclusion:\n",
    "The  mean squared error achieved by example 2 above varied between 6 and 10 on different runnings of the notebook. The MSE measures the averaged squared difference between the predicted and actual values. The actual difference in dollars was between 2450 and 3162 (square root of 6 & 10)."
   ]
  },
  {
   "cell_type": "markdown",
   "metadata": {},
   "source": [
    "#### References:"
   ]
  },
  {
   "cell_type": "markdown",
   "metadata": {},
   "source": [
    "Harrison Jr, David, & Rubenfeld, Daniel, 1978, '*Hedonic Housing Prices and the Demand for Clean Air*', Journal of Environmental Economics & Management 5, 81-102 <br>\n",
    "https://scikit-learn.org/stable/modules/generated/sklearn.datasets.load_boston.html <br>\n",
    "https://datavizcatalogue.com/methods/box_plot.html<br>\n",
    "https://docs.scipy.org/doc/scipy-0.14.0/reference/generated/scipy.stats.levene.html <br>\n",
    "https://statistics.laerd.com/statistical-guides/independent-t-test-statistical-guide.php<br>\n",
    "https://pythonfordatascience.org/independent-t-test-python/ <br>\n",
    "https://machinelearningmastery.com/parametric-statistical-significance-tests-in-python/<br>\n",
    "http://daniellakens.blogspot.com/2015/01/always-use-welchs-t-test-instead-of.html<br>\n",
    "Chollet, F. 2018 *Deep Learning With Python*, Manning Publication Co., NY <br>\n",
    "https://machinelearningmastery.com/display-deep-learning-model-training-history-in-keras/<br>\n",
    "https://towardsdatascience.com/linear-regression-on-boston-housing-dataset-f409b7e4a155 <br>\n",
    "https://machinelearningmastery.com/how-to-configure-the-number-of-layers-and-nodes-in-a-neural-network/<br>\n",
    "https://towardsdatascience.com/activation-functions-and-its-types-which-is-better-a9a5310cc8f<br>\n",
    "https://statistics.laerd.com/spss-tutorials/mann-whitney-u-test-using-spss-statistics.php<br>\n",
    "McLaughlin, I 2019, Practical t-tests in Python, video lecture, Machine Learning & Statistics, Galway Mayo Institute of Technology, delivered 10th October 2019<br>\n",
    "McLaughlin, I 2019, Dogs data set, video lecture, Machine Learning & Statistics, Galway Mayo Institute of Technology, delivered 17th November 2019<br>\n",
    "McLaughlin, I 2019, Revisiting the Dogs data set, video lecture, Machine Learning & Statistics, Galway Mayo Institute of Technology, delivered 24th November 2019<br>\n",
    "\n"
   ]
  },
  {
   "cell_type": "code",
   "execution_count": null,
   "metadata": {},
   "outputs": [],
   "source": []
  }
 ],
 "metadata": {
  "kernelspec": {
   "display_name": "Python 3",
   "language": "python",
   "name": "python3"
  },
  "language_info": {
   "codemirror_mode": {
    "name": "ipython",
    "version": 3
   },
   "file_extension": ".py",
   "mimetype": "text/x-python",
   "name": "python",
   "nbconvert_exporter": "python",
   "pygments_lexer": "ipython3",
   "version": "3.7.3"
  }
 },
 "nbformat": 4,
 "nbformat_minor": 2
}
